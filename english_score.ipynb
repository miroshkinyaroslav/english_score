{
 "cells": [
  {
   "attachments": {},
   "cell_type": "markdown",
   "metadata": {},
   "source": [
    "### Проект выполнил\n",
    "Ф.И.О Мирошкин Ярослав Андреевич <br>\n",
    "Telegram - https://t.me/MiroshkinYaroslav"
   ]
  },
  {
   "attachments": {},
   "cell_type": "markdown",
   "metadata": {},
   "source": [
    "## Описание проекта\n",
    "\n",
    "## Цели\n",
    "\n",
    "## Описание данных"
   ]
  },
  {
   "attachments": {},
   "cell_type": "markdown",
   "metadata": {},
   "source": [
    "# English Score\n"
   ]
  },
  {
   "cell_type": "code",
   "execution_count": 101,
   "metadata": {},
   "outputs": [
    {
     "name": "stderr",
     "output_type": "stream",
     "text": [
      "[nltk_data] Downloading package stopwords to\n",
      "[nltk_data]     C:\\Users\\miroshkin\\AppData\\Roaming\\nltk_data...\n",
      "[nltk_data]   Package stopwords is already up-to-date!\n",
      "[nltk_data] Downloading package punkt to\n",
      "[nltk_data]     C:\\Users\\miroshkin\\AppData\\Roaming\\nltk_data...\n",
      "[nltk_data]   Package punkt is already up-to-date!\n"
     ]
    }
   ],
   "source": [
    "import os\n",
    "import pysrt as srt\n",
    "import pandas as pd\n",
    "import numpy as np\n",
    "import matplotlib.pyplot as plot\n",
    "import seaborn as sns\n",
    "import spacy\n",
    "import pickle\n",
    "import pprint\n",
    "\n",
    "import nltk\n",
    "from nltk.corpus import stopwords\n",
    "\n",
    "import re\n",
    "\n",
    "nltk.download('stopwords')\n",
    "nltk.download('punkt')\n",
    "\n",
    "STATE = 0"
   ]
  },
  {
   "attachments": {},
   "cell_type": "markdown",
   "metadata": {},
   "source": [
    "### Парсинг данных и чтение данных"
   ]
  },
  {
   "cell_type": "code",
   "execution_count": 9,
   "metadata": {},
   "outputs": [],
   "source": [
    "movies_labels = pd.read_excel('english_scores\\movies_labels.xlsx', index_col='Movie').drop('id', axis=1)\n",
    "paths = ['english_scores/subtitles_all/subtitles/',\n",
    "         'english_scores/subtitles_all/A2/',\n",
    "         'english_scores/subtitles_all/B1/',\n",
    "         'english_scores/subtitles_all/B2/',\n",
    "         'english_scores/subtitles_all/C1/']\n",
    "#subtitles_list = os.listdir('english_scores/subtitles_all/subtitles')\n",
    "data = {}\n",
    "for path in paths:\n",
    "    for sub_name in os.listdir(path[:-1]):\n",
    "        try:\n",
    "            subs = srt.open(path + sub_name, encoding='utf-8')\n",
    "        except:\n",
    "            subs = srt.open(path + sub_name, encoding='ISO-8859-1')\n",
    "        sub_list = \" \".join([sub.text for sub in subs])\n",
    "        data[sub_name[:-4]] = sub_list\n"
   ]
  },
  {
   "cell_type": "code",
   "execution_count": 10,
   "metadata": {},
   "outputs": [
    {
     "data": {
      "text/html": [
       "<div>\n",
       "<style scoped>\n",
       "    .dataframe tbody tr th:only-of-type {\n",
       "        vertical-align: middle;\n",
       "    }\n",
       "\n",
       "    .dataframe tbody tr th {\n",
       "        vertical-align: top;\n",
       "    }\n",
       "\n",
       "    .dataframe thead th {\n",
       "        text-align: right;\n",
       "    }\n",
       "</style>\n",
       "<table border=\"1\" class=\"dataframe\">\n",
       "  <thead>\n",
       "    <tr style=\"text-align: right;\">\n",
       "      <th></th>\n",
       "      <th>subtitle</th>\n",
       "    </tr>\n",
       "  </thead>\n",
       "  <tbody>\n",
       "    <tr>\n",
       "      <th>10_Cloverfield_lane(2016)</th>\n",
       "      <td>&lt;font color=\"#ffff80\"&gt;&lt;b&gt;Fixed &amp; Synced by boz...</td>\n",
       "    </tr>\n",
       "    <tr>\n",
       "      <th>10_things_I_hate_about_you(1999)</th>\n",
       "      <td>Hey! I'll be right with you. So, Cameron. Here...</td>\n",
       "    </tr>\n",
       "    <tr>\n",
       "      <th>Aladdin(1992)</th>\n",
       "      <td>&lt;i&gt;Oh, I come from a land\\nFrom a faraway plac...</td>\n",
       "    </tr>\n",
       "  </tbody>\n",
       "</table>\n",
       "</div>"
      ],
      "text/plain": [
       "                                                                           subtitle\n",
       "10_Cloverfield_lane(2016)         <font color=\"#ffff80\"><b>Fixed & Synced by boz...\n",
       "10_things_I_hate_about_you(1999)  Hey! I'll be right with you. So, Cameron. Here...\n",
       "Aladdin(1992)                     <i>Oh, I come from a land\\nFrom a faraway plac..."
      ]
     },
     "execution_count": 10,
     "metadata": {},
     "output_type": "execute_result"
    }
   ],
   "source": [
    "df = pd.DataFrame(data.values(), index=data.keys(), columns=['subtitle'])\n",
    "df.head(3)"
   ]
  },
  {
   "attachments": {},
   "cell_type": "markdown",
   "metadata": {},
   "source": [
    "Получен датасет, где:<br>\n",
    "индексы - названия фильмов<br>\n",
    "subtitle - субтитры в строков формате <br><br>\n",
    "Оценим общее количество символов в \"сыром датасете\""
   ]
  },
  {
   "cell_type": "code",
   "execution_count": 11,
   "metadata": {},
   "outputs": [
    {
     "name": "stdout",
     "output_type": "stream",
     "text": [
      "Общее количество символов в субтитрах: 11,188,852\n"
     ]
    }
   ],
   "source": [
    "print(f'Общее количество символов в субтитрах: {df.subtitle.str.len().sum():,.0f}')"
   ]
  },
  {
   "attachments": {},
   "cell_type": "markdown",
   "metadata": {},
   "source": [
    "### Добавление и обработка разметки"
   ]
  },
  {
   "attachments": {},
   "cell_type": "markdown",
   "metadata": {},
   "source": [
    "Добавим в датасет разметку"
   ]
  },
  {
   "cell_type": "code",
   "execution_count": 12,
   "metadata": {},
   "outputs": [
    {
     "data": {
      "text/html": [
       "<div>\n",
       "<style scoped>\n",
       "    .dataframe tbody tr th:only-of-type {\n",
       "        vertical-align: middle;\n",
       "    }\n",
       "\n",
       "    .dataframe tbody tr th {\n",
       "        vertical-align: top;\n",
       "    }\n",
       "\n",
       "    .dataframe thead th {\n",
       "        text-align: right;\n",
       "    }\n",
       "</style>\n",
       "<table border=\"1\" class=\"dataframe\">\n",
       "  <thead>\n",
       "    <tr style=\"text-align: right;\">\n",
       "      <th></th>\n",
       "      <th>Level</th>\n",
       "    </tr>\n",
       "    <tr>\n",
       "      <th>Movie</th>\n",
       "      <th></th>\n",
       "    </tr>\n",
       "  </thead>\n",
       "  <tbody>\n",
       "    <tr>\n",
       "      <th>10_Cloverfield_lane(2016)</th>\n",
       "      <td>B1</td>\n",
       "    </tr>\n",
       "    <tr>\n",
       "      <th>10_things_I_hate_about_you(1999)</th>\n",
       "      <td>B1</td>\n",
       "    </tr>\n",
       "    <tr>\n",
       "      <th>A_knights_tale(2001)</th>\n",
       "      <td>B2</td>\n",
       "    </tr>\n",
       "  </tbody>\n",
       "</table>\n",
       "</div>"
      ],
      "text/plain": [
       "                                 Level\n",
       "Movie                                 \n",
       "10_Cloverfield_lane(2016)           B1\n",
       "10_things_I_hate_about_you(1999)    B1\n",
       "A_knights_tale(2001)                B2"
      ]
     },
     "execution_count": 12,
     "metadata": {},
     "output_type": "execute_result"
    }
   ],
   "source": [
    "movies_labels.head(3)"
   ]
  },
  {
   "cell_type": "code",
   "execution_count": 13,
   "metadata": {},
   "outputs": [
    {
     "name": "stdout",
     "output_type": "stream",
     "text": [
      "Количество файлов субтитров: 278\n",
      "Количество строк в разметке: 241\n"
     ]
    }
   ],
   "source": [
    "print(f'Количество файлов субтитров: {df.subtitle.count()}\\n\\\n",
    "Количество строк в разметке: {movies_labels.Level.count()}')"
   ]
  },
  {
   "attachments": {},
   "cell_type": "markdown",
   "metadata": {},
   "source": [
    "Часть данных не размечена"
   ]
  },
  {
   "cell_type": "code",
   "execution_count": 14,
   "metadata": {},
   "outputs": [
    {
     "data": {
      "text/html": [
       "<div>\n",
       "<style scoped>\n",
       "    .dataframe tbody tr th:only-of-type {\n",
       "        vertical-align: middle;\n",
       "    }\n",
       "\n",
       "    .dataframe tbody tr th {\n",
       "        vertical-align: top;\n",
       "    }\n",
       "\n",
       "    .dataframe thead th {\n",
       "        text-align: right;\n",
       "    }\n",
       "</style>\n",
       "<table border=\"1\" class=\"dataframe\">\n",
       "  <thead>\n",
       "    <tr style=\"text-align: right;\">\n",
       "      <th></th>\n",
       "      <th>subtitle</th>\n",
       "      <th>level</th>\n",
       "    </tr>\n",
       "  </thead>\n",
       "  <tbody>\n",
       "    <tr>\n",
       "      <th>10_Cloverfield_lane(2016)</th>\n",
       "      <td>&lt;font color=\"#ffff80\"&gt;&lt;b&gt;Fixed &amp; Synced by boz...</td>\n",
       "      <td>B1</td>\n",
       "    </tr>\n",
       "    <tr>\n",
       "      <th>10_things_I_hate_about_you(1999)</th>\n",
       "      <td>Hey! I'll be right with you. So, Cameron. Here...</td>\n",
       "      <td>B1</td>\n",
       "    </tr>\n",
       "  </tbody>\n",
       "</table>\n",
       "</div>"
      ],
      "text/plain": [
       "                                                                           subtitle  \\\n",
       "10_Cloverfield_lane(2016)         <font color=\"#ffff80\"><b>Fixed & Synced by boz...   \n",
       "10_things_I_hate_about_you(1999)  Hey! I'll be right with you. So, Cameron. Here...   \n",
       "\n",
       "                                 level  \n",
       "10_Cloverfield_lane(2016)           B1  \n",
       "10_things_I_hate_about_you(1999)    B1  "
      ]
     },
     "execution_count": 14,
     "metadata": {},
     "output_type": "execute_result"
    }
   ],
   "source": [
    "df = df.join(movies_labels)\n",
    "df = df.rename(columns={'Level': 'level'})\n",
    "df.head(2)"
   ]
  },
  {
   "attachments": {},
   "cell_type": "markdown",
   "metadata": {},
   "source": [
    "Проанализируем баланс классов в `level`"
   ]
  },
  {
   "cell_type": "code",
   "execution_count": 34,
   "metadata": {},
   "outputs": [
    {
     "data": {
      "image/png": "[encoded data removed]",
      "text/plain": [
       "<Figure size 640x480 with 1 Axes>"
      ]
     },
     "metadata": {},
     "output_type": "display_data"
    }
   ],
   "source": [
    "level_distribution = df.level.value_counts(dropna=False, normalize=True)\n",
    "sns.barplot(x=level_distribution.index,\n",
    "             y=level_distribution.values)\\\n",
    "                .set(title='Распределение уровней английского в субтитрах', \\\n",
    "                     ylabel='Доля среди всех субтитров');"
   ]
  },
  {
   "attachments": {},
   "cell_type": "markdown",
   "metadata": {},
   "source": [
    "Оставим 4 основных уровня знания языка:\n",
    "* A2, A2+ - Beginner, Elementary \n",
    "* B1 - Intermediate \n",
    "* B2 - Upper-Intermediate \n",
    "* C1 - Advanced\n"
   ]
  },
  {
   "cell_type": "code",
   "execution_count": 42,
   "metadata": {},
   "outputs": [],
   "source": [
    "df = df.replace({'level' :{'B1, B2': 'B1',\n",
    "                      'A2': 'A2/A2+',\n",
    "                      'A2/A2+, B1': 'A2/A2+'}})"
   ]
  },
  {
   "cell_type": "code",
   "execution_count": 44,
   "metadata": {},
   "outputs": [
    {
     "data": {
      "image/png": "[encoded data removed]",
      "text/plain": [
       "<Figure size 640x480 with 1 Axes>"
      ]
     },
     "metadata": {},
     "output_type": "display_data"
    }
   ],
   "source": [
    "new_level_distribution = df.level.value_counts(dropna=False, normalize=True)\n",
    "sns.barplot(x=new_level_distribution.index,\n",
    "             y=new_level_distribution.values)\\\n",
    "                .set(title='Распределение уровней английского в субтитрах', \\\n",
    "                     ylabel='Доля среди всех субтитров');"
   ]
  },
  {
   "attachments": {},
   "cell_type": "markdown",
   "metadata": {},
   "source": [
    "Присутствует дисбаланс классов"
   ]
  },
  {
   "attachments": {},
   "cell_type": "markdown",
   "metadata": {},
   "source": [
    "### Обработка данных"
   ]
  },
  {
   "attachments": {},
   "cell_type": "markdown",
   "metadata": {},
   "source": [
    "#### Приведение к нижнему регистру, обработка спецсимволов и \"стоп-слов\""
   ]
  },
  {
   "cell_type": "code",
   "execution_count": 53,
   "metadata": {},
   "outputs": [
    {
     "data": {
      "text/plain": [
       "array(['i', 'me', 'my', 'myself', 'we', 'our', 'ours', 'ourselves', 'you',\n",
       "       \"you're\", \"you've\", \"you'll\", \"you'd\", 'your', 'yours', 'yourself',\n",
       "       'yourselves', 'he', 'him', 'his'], dtype='<U10')"
      ]
     },
     "execution_count": 53,
     "metadata": {},
     "output_type": "execute_result"
    }
   ],
   "source": [
    "# Пример \"стоп-слов\"\n",
    "np.array(stopwords.words('english'))[:20]"
   ]
  },
  {
   "cell_type": "code",
   "execution_count": 91,
   "metadata": {},
   "outputs": [],
   "source": [
    "def preprocess_text(data, stopwords=stopwords.words('english')):\n",
    "    #Приводим к нижему регистру\n",
    "    text = data.lower()\n",
    "    #Удаляем все символы между <>, '<some symbols>' -> ''\n",
    "    text = re.sub('<[^>]+>', '', text)\n",
    "    #Добавляем пробелы между знаками препинания\n",
    "    text = re.sub(r\"([.,!?])\", r\" \\1 \", text)\n",
    "    # удаляем пробелы в начале и в конце предложения\n",
    "    text = text.strip()\n",
    "    # Оставляем только латинские буквы\n",
    "    text = re.sub(r'[^a-z]', ' ', text)\n",
    "    # удаление стоп-слов\n",
    "    text = [w for w in text.split() if w not in stopwords]\n",
    "    # удаляем слова короче 3х символов\n",
    "    text = [w for w in text if len(w) >= 3]\n",
    "    return ' '.join(text)"
   ]
  },
  {
   "cell_type": "code",
   "execution_count": 93,
   "metadata": {},
   "outputs": [],
   "source": [
    "df.subtitle = df.subtitle.apply(lambda text: preprocess_text(text))"
   ]
  },
  {
   "attachments": {},
   "cell_type": "markdown",
   "metadata": {},
   "source": [
    "#### Стемминг и лемматизация"
   ]
  },
  {
   "cell_type": "code",
   "execution_count": 99,
   "metadata": {},
   "outputs": [],
   "source": [
    "nlp = spacy.load(\"en_core_web_sm\", disable=['parser', 'ner'])\n",
    "def lemmatize(text):\n",
    "    doc = nlp(text)\n",
    "    return \" \".join([token.lemma_ for token in doc])"
   ]
  },
  {
   "cell_type": "code",
   "execution_count": 104,
   "metadata": {},
   "outputs": [],
   "source": [
    "flag = 0\n",
    "if flag:\n",
    "    df['lemma_clear_text'] = df.subtitle.apply(lambda row: lemmatize(row))\n",
    "else:\n",
    "    with open('df_lemma.pickle', 'rb') as file:\n",
    "        df = pickle.load(file)"
   ]
  },
  {
   "attachments": {},
   "cell_type": "markdown",
   "metadata": {},
   "source": [
    "### Векторизация"
   ]
  },
  {
   "attachments": {},
   "cell_type": "markdown",
   "metadata": {},
   "source": []
  }
 ],
 "metadata": {
  "kernelspec": {
   "display_name": "base",
   "language": "python",
   "name": "python3"
  },
  "language_info": {
   "codemirror_mode": {
    "name": "ipython",
    "version": 3
   },
   "file_extension": ".py",
   "mimetype": "text/x-python",
   "name": "python",
   "nbconvert_exporter": "python",
   "pygments_lexer": "ipython3",
   "version": "3.10.9"
  },
  "orig_nbformat": 4
 },
 "nbformat": 4,
 "nbformat_minor": 2
}
