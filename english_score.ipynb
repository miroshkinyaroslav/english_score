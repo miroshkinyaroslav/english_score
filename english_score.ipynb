{
 "cells": [
  {
   "attachments": {},
   "cell_type": "markdown",
   "metadata": {},
   "source": [
    "### Проект выполнил\n",
    "Ф.И.О Мирошкин Ярослав Андреевич <br>\n",
    "Telegram - https://t.me/MiroshkinYaroslav"
   ]
  },
  {
   "attachments": {},
   "cell_type": "markdown",
   "metadata": {},
   "source": [
    "## Описание проекта\n",
    "\n",
    "## Цели\n",
    "\n",
    "## Описание данных"
   ]
  },
  {
   "attachments": {},
   "cell_type": "markdown",
   "metadata": {},
   "source": [
    "# English Score\n"
   ]
  },
  {
   "cell_type": "code",
   "execution_count": 1,
   "metadata": {},
   "outputs": [
    {
     "name": "stderr",
     "output_type": "stream",
     "text": [
      "c:\\Users\\miroshkin\\AppData\\Local\\Programs\\Python\\Python39\\lib\\site-packages\\tqdm\\auto.py:21: TqdmWarning: IProgress not found. Please update jupyter and ipywidgets. See https://ipywidgets.readthedocs.io/en/stable/user_install.html\n",
      "  from .autonotebook import tqdm as notebook_tqdm\n",
      "[nltk_data] Downloading package stopwords to\n",
      "[nltk_data]     C:\\Users\\miroshkin\\AppData\\Roaming\\nltk_data...\n",
      "[nltk_data]   Package stopwords is already up-to-date!\n",
      "[nltk_data] Downloading package punkt to\n",
      "[nltk_data]     C:\\Users\\miroshkin\\AppData\\Roaming\\nltk_data...\n",
      "[nltk_data]   Package punkt is already up-to-date!\n"
     ]
    }
   ],
   "source": [
    "import os\n",
    "import pysrt as srt\n",
    "import pandas as pd\n",
    "import numpy as np\n",
    "import matplotlib.pyplot as plt\n",
    "import seaborn as sns\n",
    "import spacy\n",
    "import pickle\n",
    "import pprint\n",
    "import re\n",
    "import tensorflow as tf\n",
    "\n",
    "import lightgbm as lgb\n",
    "\n",
    "import nltk\n",
    "from nltk.corpus import stopwords\n",
    "\n",
    "from catboost import CatBoostClassifier\n",
    "\n",
    "from sklearn.feature_extraction.text import (CountVectorizer,\n",
    "                                             TfidfTransformer,\n",
    "                                             TfidfVectorizer)\n",
    "from sklearn.model_selection import train_test_split\n",
    "from sklearn.metrics import (\n",
    "    ConfusionMatrixDisplay, confusion_matrix,\n",
    "    f1_score, roc_auc_score,\n",
    "    classification_report, make_scorer\n",
    ")\n",
    "from sklearn.ensemble import RandomForestClassifier\n",
    "from sklearn.linear_model import LogisticRegression\n",
    "from sklearn.model_selection import RandomizedSearchCV\n",
    "from sklearn.neighbors import  KNeighborsClassifier\n",
    "\n",
    "from transformers import TFAutoModel, AutoTokenizer\n",
    "\n",
    "from datasets import load_dataset\n",
    "\n",
    "\n",
    "\n",
    "nltk.download('stopwords')\n",
    "nltk.download('punkt')\n",
    "\n",
    "STATE = 0\n"
   ]
  },
  {
   "cell_type": "code",
   "execution_count": 2,
   "metadata": {},
   "outputs": [],
   "source": [
    "def plot_confusion_matrix(y_true, y_pred):\n",
    "    cm = confusion_matrix(y_true, y_pred)\n",
    "    cmp = ConfusionMatrixDisplay(cm)\n",
    "    cmp.plot()\n"
   ]
  },
  {
   "cell_type": "code",
   "execution_count": 3,
   "metadata": {},
   "outputs": [],
   "source": [
    "def my_bar(data: pd.Series, dropna=True, title='', xlabel='', ylabel=''):\n",
    "    distribution = data.value_counts(dropna=dropna, normalize=False)\n",
    "    distribution_normalized = data.value_counts(dropna=dropna, normalize=True)\n",
    "    _, ax = plt.subplots(1)\n",
    "    sns.barplot(x=distribution_normalized.index, y=distribution_normalized.values).set(\n",
    "    title=title, xlabel=xlabel, ylabel=ylabel)\n",
    "    for a, p in enumerate(ax.patches):\n",
    "        text = str(distribution.iloc[a])\n",
    "        ax.annotate(text, xy=(p.get_x() + p.get_width() / 2, 0.8 * p.get_height()), \\\n",
    "        size=13, color='black', ha = 'center', va = 'center',\n",
    "        bbox = dict(boxstyle = 'round',\\\n",
    "        facecolor='none',edgecolor='black', alpha = 0.5) )\n",
    "\n",
    "def my_kde(df: pd.DataFrame(), col=''):\n",
    "    f, (ax_kde, ax_box) = plt.subplots(2, gridspec_kw={\"height_ratios\": (0.85, 0.15)}, sharex=True)\n",
    "    sns.kdeplot(df, alpha=0.3, fill=True, color='green', ax=ax_kde)\n",
    "    ax_kde.set(xlabel='', yticks=[])\n",
    "    ax_kde.set_title(col, fontsize=16)\n",
    "    sns.boxplot(data=df, orient='h', ax=ax_box, color='green')\n",
    "    plt.subplots_adjust(hspace=0)\n",
    "    ax_box.set_xlabel('')"
   ]
  },
  {
   "attachments": {},
   "cell_type": "markdown",
   "metadata": {},
   "source": [
    "### Парсинг данных и чтение данных"
   ]
  },
  {
   "cell_type": "code",
   "execution_count": 4,
   "metadata": {},
   "outputs": [],
   "source": [
    "movies_labels = pd.read_excel('english_scores\\movies_labels.xlsx', index_col='Movie').drop('id', axis=1)\n",
    "paths = ['english_scores/subtitles_all/subtitles/',\n",
    "         'english_scores/subtitles_all/A2/',\n",
    "         'english_scores/subtitles_all/B1/',\n",
    "         'english_scores/subtitles_all/B2/',\n",
    "         'english_scores/subtitles_all/C1/',\n",
    "         'subtitles/']\n",
    "data = {}\n",
    "for path in paths:\n",
    "    for sub_name in os.listdir(path[:-1]):\n",
    "        try:\n",
    "            subs = srt.open(path + sub_name, encoding='utf-8')\n",
    "        except:\n",
    "            subs = srt.open(path + sub_name, encoding='ISO-8859-1')\n",
    "        sub_list = \" \".join([sub.text for sub in subs])\n",
    "        data[sub_name[:-4]] = sub_list\n"
   ]
  },
  {
   "cell_type": "code",
   "execution_count": 5,
   "metadata": {},
   "outputs": [
    {
     "data": {
      "text/html": [
       "<div>\n",
       "<style scoped>\n",
       "    .dataframe tbody tr th:only-of-type {\n",
       "        vertical-align: middle;\n",
       "    }\n",
       "\n",
       "    .dataframe tbody tr th {\n",
       "        vertical-align: top;\n",
       "    }\n",
       "\n",
       "    .dataframe thead th {\n",
       "        text-align: right;\n",
       "    }\n",
       "</style>\n",
       "<table border=\"1\" class=\"dataframe\">\n",
       "  <thead>\n",
       "    <tr style=\"text-align: right;\">\n",
       "      <th></th>\n",
       "      <th>subtitle</th>\n",
       "    </tr>\n",
       "  </thead>\n",
       "  <tbody>\n",
       "    <tr>\n",
       "      <th>10_Cloverfield_lane(2016)</th>\n",
       "      <td>&lt;font color=\"#ffff80\"&gt;&lt;b&gt;Fixed &amp; Synced by boz...</td>\n",
       "    </tr>\n",
       "    <tr>\n",
       "      <th>10_things_I_hate_about_you(1999)</th>\n",
       "      <td>Hey! I'll be right with you. So, Cameron. Here...</td>\n",
       "    </tr>\n",
       "    <tr>\n",
       "      <th>Aladdin(1992)</th>\n",
       "      <td>&lt;i&gt;Oh, I come from a land\\nFrom a faraway plac...</td>\n",
       "    </tr>\n",
       "  </tbody>\n",
       "</table>\n",
       "</div>"
      ],
      "text/plain": [
       "                                                                           subtitle\n",
       "10_Cloverfield_lane(2016)         <font color=\"#ffff80\"><b>Fixed & Synced by boz...\n",
       "10_things_I_hate_about_you(1999)  Hey! I'll be right with you. So, Cameron. Here...\n",
       "Aladdin(1992)                     <i>Oh, I come from a land\\nFrom a faraway plac..."
      ]
     },
     "execution_count": 5,
     "metadata": {},
     "output_type": "execute_result"
    }
   ],
   "source": [
    "df = pd.DataFrame(data.values(), index=data.keys(), columns=['subtitle'])\n",
    "df.head(3)"
   ]
  },
  {
   "attachments": {},
   "cell_type": "markdown",
   "metadata": {},
   "source": [
    "Получен датасет, где:<br>\n",
    "индексы - названия фильмов<br>\n",
    "subtitle - субтитры в строков формате <br><br>\n",
    "Оценим общее количество символов в \"сыром датасете\""
   ]
  },
  {
   "cell_type": "code",
   "execution_count": 6,
   "metadata": {},
   "outputs": [
    {
     "name": "stdout",
     "output_type": "stream",
     "text": [
      "Общее количество символов в субтитрах: 11,277,626\n"
     ]
    }
   ],
   "source": [
    "print(f'Общее количество символов в субтитрах: {df.subtitle.str.len().sum():,.0f}')"
   ]
  },
  {
   "attachments": {},
   "cell_type": "markdown",
   "metadata": {},
   "source": [
    "### Добавление и обработка разметки"
   ]
  },
  {
   "attachments": {},
   "cell_type": "markdown",
   "metadata": {},
   "source": [
    "Добавим в датасет разметку"
   ]
  },
  {
   "cell_type": "code",
   "execution_count": 7,
   "metadata": {},
   "outputs": [
    {
     "data": {
      "text/html": [
       "<div>\n",
       "<style scoped>\n",
       "    .dataframe tbody tr th:only-of-type {\n",
       "        vertical-align: middle;\n",
       "    }\n",
       "\n",
       "    .dataframe tbody tr th {\n",
       "        vertical-align: top;\n",
       "    }\n",
       "\n",
       "    .dataframe thead th {\n",
       "        text-align: right;\n",
       "    }\n",
       "</style>\n",
       "<table border=\"1\" class=\"dataframe\">\n",
       "  <thead>\n",
       "    <tr style=\"text-align: right;\">\n",
       "      <th></th>\n",
       "      <th>Level</th>\n",
       "    </tr>\n",
       "    <tr>\n",
       "      <th>Movie</th>\n",
       "      <th></th>\n",
       "    </tr>\n",
       "  </thead>\n",
       "  <tbody>\n",
       "    <tr>\n",
       "      <th>10_Cloverfield_lane(2016)</th>\n",
       "      <td>B1</td>\n",
       "    </tr>\n",
       "    <tr>\n",
       "      <th>10_things_I_hate_about_you(1999)</th>\n",
       "      <td>B1</td>\n",
       "    </tr>\n",
       "    <tr>\n",
       "      <th>A_knights_tale(2001)</th>\n",
       "      <td>B2</td>\n",
       "    </tr>\n",
       "  </tbody>\n",
       "</table>\n",
       "</div>"
      ],
      "text/plain": [
       "                                 Level\n",
       "Movie                                 \n",
       "10_Cloverfield_lane(2016)           B1\n",
       "10_things_I_hate_about_you(1999)    B1\n",
       "A_knights_tale(2001)                B2"
      ]
     },
     "execution_count": 7,
     "metadata": {},
     "output_type": "execute_result"
    }
   ],
   "source": [
    "movies_labels.head(3)"
   ]
  },
  {
   "cell_type": "code",
   "execution_count": 8,
   "metadata": {},
   "outputs": [
    {
     "name": "stdout",
     "output_type": "stream",
     "text": [
      "Количество файлов субтитров: 279\n",
      "Количество строк в разметке: 241\n"
     ]
    }
   ],
   "source": [
    "print(f'Количество файлов субтитров: {df.subtitle.count()}\\n\\\n",
    "Количество строк в разметке: {movies_labels.Level.count()}')"
   ]
  },
  {
   "attachments": {},
   "cell_type": "markdown",
   "metadata": {},
   "source": [
    "Часть данных не размечена"
   ]
  },
  {
   "cell_type": "code",
   "execution_count": 9,
   "metadata": {},
   "outputs": [
    {
     "data": {
      "text/html": [
       "<div>\n",
       "<style scoped>\n",
       "    .dataframe tbody tr th:only-of-type {\n",
       "        vertical-align: middle;\n",
       "    }\n",
       "\n",
       "    .dataframe tbody tr th {\n",
       "        vertical-align: top;\n",
       "    }\n",
       "\n",
       "    .dataframe thead th {\n",
       "        text-align: right;\n",
       "    }\n",
       "</style>\n",
       "<table border=\"1\" class=\"dataframe\">\n",
       "  <thead>\n",
       "    <tr style=\"text-align: right;\">\n",
       "      <th></th>\n",
       "      <th>subtitle</th>\n",
       "      <th>level</th>\n",
       "    </tr>\n",
       "  </thead>\n",
       "  <tbody>\n",
       "    <tr>\n",
       "      <th>10_Cloverfield_lane(2016)</th>\n",
       "      <td>&lt;font color=\"#ffff80\"&gt;&lt;b&gt;Fixed &amp; Synced by boz...</td>\n",
       "      <td>B1</td>\n",
       "    </tr>\n",
       "    <tr>\n",
       "      <th>10_things_I_hate_about_you(1999)</th>\n",
       "      <td>Hey! I'll be right with you. So, Cameron. Here...</td>\n",
       "      <td>B1</td>\n",
       "    </tr>\n",
       "  </tbody>\n",
       "</table>\n",
       "</div>"
      ],
      "text/plain": [
       "                                                                           subtitle   \n",
       "10_Cloverfield_lane(2016)         <font color=\"#ffff80\"><b>Fixed & Synced by boz...  \\\n",
       "10_things_I_hate_about_you(1999)  Hey! I'll be right with you. So, Cameron. Here...   \n",
       "\n",
       "                                 level  \n",
       "10_Cloverfield_lane(2016)           B1  \n",
       "10_things_I_hate_about_you(1999)    B1  "
      ]
     },
     "execution_count": 9,
     "metadata": {},
     "output_type": "execute_result"
    }
   ],
   "source": [
    "df = df.join(movies_labels)\n",
    "df = df.rename(columns={'Level': 'level'})\n",
    "df.head(2)"
   ]
  },
  {
   "attachments": {},
   "cell_type": "markdown",
   "metadata": {},
   "source": [
    "Проанализируем баланс классов в `level`"
   ]
  },
  {
   "cell_type": "code",
   "execution_count": 10,
   "metadata": {},
   "outputs": [
    {
     "data": {
      "image/png": "[encoded data removed]",
      "text/plain": [
       "<Figure size 640x480 with 1 Axes>"
      ]
     },
     "metadata": {},
     "output_type": "display_data"
    }
   ],
   "source": [
    "my_bar(df.level, dropna=False, title='Распределение уровней английского в субтитрах',\\\n",
    "        xlabel='Уровень', ylabel='Доля среди всех субтитров')"
   ]
  },
  {
   "attachments": {},
   "cell_type": "markdown",
   "metadata": {},
   "source": [
    "Оставим 4 основных уровня знания языка:\n",
    "* A2, A2+ - Beginner, Elementary \n",
    "* B1 - Intermediate \n",
    "* B2 - Upper-Intermediate \n",
    "* C1 - Advanced\n"
   ]
  },
  {
   "cell_type": "code",
   "execution_count": 11,
   "metadata": {},
   "outputs": [],
   "source": [
    "df = df.replace({'level' :{'B1, B2': 'B1',\n",
    "                      'A2': 'A2/A2+',\n",
    "                      'A2/A2+, B1': 'A2/A2+'}})"
   ]
  },
  {
   "cell_type": "code",
   "execution_count": 12,
   "metadata": {},
   "outputs": [
    {
     "data": {
      "image/png": "[encoded data removed]",
      "text/plain": [
       "<Figure size 640x480 with 1 Axes>"
      ]
     },
     "metadata": {},
     "output_type": "display_data"
    }
   ],
   "source": [
    "my_bar(df.level, dropna=False, title='Распределение уровней английского в субтитрах',\\\n",
    "        xlabel='Уровень', ylabel='Доля среди всех субтитров')"
   ]
  },
  {
   "attachments": {},
   "cell_type": "markdown",
   "metadata": {},
   "source": [
    "Присутствует дисбаланс классов <br><br>\n",
    "Удалим неразмеченные данные"
   ]
  },
  {
   "cell_type": "code",
   "execution_count": 13,
   "metadata": {},
   "outputs": [],
   "source": [
    "df = df.dropna(subset='level', axis=0)"
   ]
  },
  {
   "attachments": {},
   "cell_type": "markdown",
   "metadata": {},
   "source": [
    "Заменим уровни знания языка числовыми параметрами в порядке возрастания.\n",
    "* A2, A2+ - 0\n",
    "* B1 - 1\n",
    "* B2 - 2 \n",
    "* C1 - 3"
   ]
  },
  {
   "cell_type": "code",
   "execution_count": 14,
   "metadata": {},
   "outputs": [],
   "source": [
    "df.level = df.level.replace({'A2/A2+': 0,\n",
    "                  'B1': 1,\n",
    "                  'B2': 2,\n",
    "                  'C1': 3})"
   ]
  },
  {
   "attachments": {},
   "cell_type": "markdown",
   "metadata": {},
   "source": [
    "### Обработка данных"
   ]
  },
  {
   "attachments": {},
   "cell_type": "markdown",
   "metadata": {},
   "source": [
    "#### Приведение к нижнему регистру, обработка спецсимволов и \"стоп-слов\""
   ]
  },
  {
   "cell_type": "code",
   "execution_count": 15,
   "metadata": {},
   "outputs": [
    {
     "data": {
      "text/plain": [
       "array(['i', 'me', 'my', 'myself', 'we', 'our', 'ours', 'ourselves', 'you',\n",
       "       \"you're\", \"you've\", \"you'll\", \"you'd\", 'your', 'yours', 'yourself',\n",
       "       'yourselves', 'he', 'him', 'his'], dtype='<U10')"
      ]
     },
     "execution_count": 15,
     "metadata": {},
     "output_type": "execute_result"
    }
   ],
   "source": [
    "# Пример \"стоп-слов\"\n",
    "np.array(stopwords.words('english'))[:20]"
   ]
  },
  {
   "cell_type": "code",
   "execution_count": 16,
   "metadata": {},
   "outputs": [],
   "source": [
    "def preprocess_text(data, stopwords=stopwords.words('english')):\n",
    "    #Приводим к нижему регистру\n",
    "    text = data.lower()\n",
    "    #Удаляем все символы между <>, '<some symbols>' -> ''\n",
    "    text = re.sub('<[^>]+>', '', text)\n",
    "    #Добавляем пробелы между знаками препинания\n",
    "    text = re.sub(r\"([.,!?])\", r\" \\1 \", text)\n",
    "    # удаляем пробелы в начале и в конце предложения\n",
    "    text = text.strip()\n",
    "    #Удаляем слова в скобках\n",
    "    text = re.sub(r'\\([^)]*\\)', '', text)\n",
    "    # Оставляем только латинские буквы\n",
    "    text = re.sub(r'[^a-z]', ' ', text)\n",
    "    # удаление стоп-слов\n",
    "    text = [w for w in text.split() if w not in stopwords]\n",
    "    # удаляем слова короче 3х символов\n",
    "    text = [w for w in text if len(w) >= 3]\n",
    "    return ' '.join(text)"
   ]
  },
  {
   "cell_type": "code",
   "execution_count": 17,
   "metadata": {},
   "outputs": [],
   "source": [
    "df.subtitle = df.subtitle.apply(lambda text: preprocess_text(text))"
   ]
  },
  {
   "attachments": {},
   "cell_type": "markdown",
   "metadata": {},
   "source": [
    "#### Стемминг и лемматизация"
   ]
  },
  {
   "cell_type": "code",
   "execution_count": 18,
   "metadata": {},
   "outputs": [],
   "source": [
    "nlp = spacy.load(\"en_core_web_sm\", disable=['parser', 'ner'])\n",
    "def lemmatize(text):\n",
    "    doc = nlp(text)\n",
    "    return \" \".join([token.lemma_ for token in doc])"
   ]
  },
  {
   "cell_type": "code",
   "execution_count": 19,
   "metadata": {},
   "outputs": [],
   "source": [
    "flag = 0\n",
    "if flag:\n",
    "    df['lemma_clear_text'] = df.subtitle.apply(lambda row: lemmatize(row))\n",
    "else:\n",
    "    with open('df_lemma.pickle', 'rb') as file:\n",
    "        df = pickle.load(file)"
   ]
  },
  {
   "cell_type": "code",
   "execution_count": 20,
   "metadata": {},
   "outputs": [],
   "source": [
    "df = df.loc[~(df.lemma_clear_text=='')]"
   ]
  },
  {
   "cell_type": "code",
   "execution_count": 21,
   "metadata": {},
   "outputs": [],
   "source": [
    "features = df.lemma_clear_text\n",
    "target = df.level"
   ]
  },
  {
   "cell_type": "code",
   "execution_count": 22,
   "metadata": {},
   "outputs": [],
   "source": [
    "X_train, X_test, y_train, y_test = train_test_split(features, target,\\\n",
    "                                 test_size=0.25, random_state=STATE, shuffle=True)"
   ]
  },
  {
   "attachments": {},
   "cell_type": "markdown",
   "metadata": {},
   "source": [
    "### Оценка количества слов в субтитрах"
   ]
  },
  {
   "cell_type": "code",
   "execution_count": 23,
   "metadata": {},
   "outputs": [
    {
     "data": {
      "image/png": "[encoded data removed]",
      "text/plain": [
       "<Figure size 640x480 with 2 Axes>"
      ]
     },
     "metadata": {},
     "output_type": "display_data"
    }
   ],
   "source": [
    "my_kde(df.lemma_clear_text.apply(lambda x: len(x.split())), col='Количество слов в субтитрах')"
   ]
  },
  {
   "attachments": {},
   "cell_type": "markdown",
   "metadata": {},
   "source": [
    "### Векторизация"
   ]
  },
  {
   "cell_type": "code",
   "execution_count": 24,
   "metadata": {},
   "outputs": [],
   "source": [
    "corpus_train = X_train.values\n",
    "corpus_test = X_test.values"
   ]
  },
  {
   "cell_type": "code",
   "execution_count": 25,
   "metadata": {},
   "outputs": [],
   "source": [
    "tfidf = TfidfVectorizer()\n",
    "tf_idf_train = tfidf.fit_transform(corpus_train)\n",
    "tf_idf_test = tfidf.transform(corpus_test)"
   ]
  },
  {
   "attachments": {},
   "cell_type": "markdown",
   "metadata": {},
   "source": [
    "### Моделирование"
   ]
  },
  {
   "attachments": {},
   "cell_type": "markdown",
   "metadata": {},
   "source": [
    "LogisticRegression Baseline"
   ]
  },
  {
   "cell_type": "code",
   "execution_count": 26,
   "metadata": {},
   "outputs": [
    {
     "data": {
      "text/html": [
       "<style>#sk-container-id-1 {color: black;background-color: white;}#sk-container-id-1 pre{padding: 0;}#sk-container-id-1 div.sk-toggleable {background-color: white;}#sk-container-id-1 label.sk-toggleable__label {cursor: pointer;display: block;width: 100%;margin-bottom: 0;padding: 0.3em;box-sizing: border-box;text-align: center;}#sk-container-id-1 label.sk-toggleable__label-arrow:before {content: \"▸\";float: left;margin-right: 0.25em;color: #696969;}#sk-container-id-1 label.sk-toggleable__label-arrow:hover:before {color: black;}#sk-container-id-1 div.sk-estimator:hover label.sk-toggleable__label-arrow:before {color: black;}#sk-container-id-1 div.sk-toggleable__content {max-height: 0;max-width: 0;overflow: hidden;text-align: left;background-color: #f0f8ff;}#sk-container-id-1 div.sk-toggleable__content pre {margin: 0.2em;color: black;border-radius: 0.25em;background-color: #f0f8ff;}#sk-container-id-1 input.sk-toggleable__control:checked~div.sk-toggleable__content {max-height: 200px;max-width: 100%;overflow: auto;}#sk-container-id-1 input.sk-toggleable__control:checked~label.sk-toggleable__label-arrow:before {content: \"▾\";}#sk-container-id-1 div.sk-estimator input.sk-toggleable__control:checked~label.sk-toggleable__label {background-color: #d4ebff;}#sk-container-id-1 div.sk-label input.sk-toggleable__control:checked~label.sk-toggleable__label {background-color: #d4ebff;}#sk-container-id-1 input.sk-hidden--visually {border: 0;clip: rect(1px 1px 1px 1px);clip: rect(1px, 1px, 1px, 1px);height: 1px;margin: -1px;overflow: hidden;padding: 0;position: absolute;width: 1px;}#sk-container-id-1 div.sk-estimator {font-family: monospace;background-color: #f0f8ff;border: 1px dotted black;border-radius: 0.25em;box-sizing: border-box;margin-bottom: 0.5em;}#sk-container-id-1 div.sk-estimator:hover {background-color: #d4ebff;}#sk-container-id-1 div.sk-parallel-item::after {content: \"\";width: 100%;border-bottom: 1px solid gray;flex-grow: 1;}#sk-container-id-1 div.sk-label:hover label.sk-toggleable__label {background-color: #d4ebff;}#sk-container-id-1 div.sk-serial::before {content: \"\";position: absolute;border-left: 1px solid gray;box-sizing: border-box;top: 0;bottom: 0;left: 50%;z-index: 0;}#sk-container-id-1 div.sk-serial {display: flex;flex-direction: column;align-items: center;background-color: white;padding-right: 0.2em;padding-left: 0.2em;position: relative;}#sk-container-id-1 div.sk-item {position: relative;z-index: 1;}#sk-container-id-1 div.sk-parallel {display: flex;align-items: stretch;justify-content: center;background-color: white;position: relative;}#sk-container-id-1 div.sk-item::before, #sk-container-id-1 div.sk-parallel-item::before {content: \"\";position: absolute;border-left: 1px solid gray;box-sizing: border-box;top: 0;bottom: 0;left: 50%;z-index: -1;}#sk-container-id-1 div.sk-parallel-item {display: flex;flex-direction: column;z-index: 1;position: relative;background-color: white;}#sk-container-id-1 div.sk-parallel-item:first-child::after {align-self: flex-end;width: 50%;}#sk-container-id-1 div.sk-parallel-item:last-child::after {align-self: flex-start;width: 50%;}#sk-container-id-1 div.sk-parallel-item:only-child::after {width: 0;}#sk-container-id-1 div.sk-dashed-wrapped {border: 1px dashed gray;margin: 0 0.4em 0.5em 0.4em;box-sizing: border-box;padding-bottom: 0.4em;background-color: white;}#sk-container-id-1 div.sk-label label {font-family: monospace;font-weight: bold;display: inline-block;line-height: 1.2em;}#sk-container-id-1 div.sk-label-container {text-align: center;}#sk-container-id-1 div.sk-container {/* jupyter's `normalize.less` sets `[hidden] { display: none; }` but bootstrap.min.css set `[hidden] { display: none !important; }` so we also need the `!important` here to be able to override the default hidden behavior on the sphinx rendered scikit-learn.org. See: https://github.com/scikit-learn/scikit-learn/issues/21755 */display: inline-block !important;position: relative;}#sk-container-id-1 div.sk-text-repr-fallback {display: none;}</style><div id=\"sk-container-id-1\" class=\"sk-top-container\"><div class=\"sk-text-repr-fallback\"><pre>LogisticRegression(class_weight=&#x27;balanced&#x27;, random_state=0)</pre><b>In a Jupyter environment, please rerun this cell to show the HTML representation or trust the notebook. <br />On GitHub, the HTML representation is unable to render, please try loading this page with nbviewer.org.</b></div><div class=\"sk-container\" hidden><div class=\"sk-item\"><div class=\"sk-estimator sk-toggleable\"><input class=\"sk-toggleable__control sk-hidden--visually\" id=\"sk-estimator-id-1\" type=\"checkbox\" checked><label for=\"sk-estimator-id-1\" class=\"sk-toggleable__label sk-toggleable__label-arrow\">LogisticRegression</label><div class=\"sk-toggleable__content\"><pre>LogisticRegression(class_weight=&#x27;balanced&#x27;, random_state=0)</pre></div></div></div></div></div>"
      ],
      "text/plain": [
       "LogisticRegression(class_weight='balanced', random_state=0)"
      ]
     },
     "execution_count": 26,
     "metadata": {},
     "output_type": "execute_result"
    }
   ],
   "source": [
    "lr = LogisticRegression(random_state=STATE, class_weight='balanced')\n",
    "lr.fit(tf_idf_train, y_train)"
   ]
  },
  {
   "cell_type": "code",
   "execution_count": 27,
   "metadata": {},
   "outputs": [
    {
     "data": {
      "image/png": "[encoded data removed]",
      "text/plain": [
       "<Figure size 640x480 with 2 Axes>"
      ]
     },
     "metadata": {},
     "output_type": "display_data"
    }
   ],
   "source": [
    "plot_confusion_matrix(y_test, lr.predict(tf_idf_test))"
   ]
  },
  {
   "cell_type": "code",
   "execution_count": 28,
   "metadata": {},
   "outputs": [
    {
     "name": "stdout",
     "output_type": "stream",
     "text": [
      "              precision    recall  f1-score   support\n",
      "\n",
      "           0       1.00      0.22      0.36         9\n",
      "           1       0.50      1.00      0.67        16\n",
      "           2       0.76      0.64      0.70        25\n",
      "           3       0.00      0.00      0.00         5\n",
      "\n",
      "    accuracy                           0.62        55\n",
      "   macro avg       0.57      0.47      0.43        55\n",
      "weighted avg       0.66      0.62      0.57        55\n",
      "\n"
     ]
    },
    {
     "name": "stderr",
     "output_type": "stream",
     "text": [
      "c:\\Users\\miroshkin\\AppData\\Local\\Programs\\Python\\Python39\\lib\\site-packages\\sklearn\\metrics\\_classification.py:1344: UndefinedMetricWarning: Precision and F-score are ill-defined and being set to 0.0 in labels with no predicted samples. Use `zero_division` parameter to control this behavior.\n",
      "  _warn_prf(average, modifier, msg_start, len(result))\n",
      "c:\\Users\\miroshkin\\AppData\\Local\\Programs\\Python\\Python39\\lib\\site-packages\\sklearn\\metrics\\_classification.py:1344: UndefinedMetricWarning: Precision and F-score are ill-defined and being set to 0.0 in labels with no predicted samples. Use `zero_division` parameter to control this behavior.\n",
      "  _warn_prf(average, modifier, msg_start, len(result))\n",
      "c:\\Users\\miroshkin\\AppData\\Local\\Programs\\Python\\Python39\\lib\\site-packages\\sklearn\\metrics\\_classification.py:1344: UndefinedMetricWarning: Precision and F-score are ill-defined and being set to 0.0 in labels with no predicted samples. Use `zero_division` parameter to control this behavior.\n",
      "  _warn_prf(average, modifier, msg_start, len(result))\n"
     ]
    }
   ],
   "source": [
    "print(classification_report(y_test, lr.predict(tf_idf_test)))"
   ]
  },
  {
   "attachments": {},
   "cell_type": "markdown",
   "metadata": {},
   "source": [
    "LogisticRegression Tuning"
   ]
  },
  {
   "cell_type": "code",
   "execution_count": null,
   "metadata": {},
   "outputs": [],
   "source": []
  },
  {
   "attachments": {},
   "cell_type": "markdown",
   "metadata": {},
   "source": [
    "RandomForestClassifier Tuning"
   ]
  },
  {
   "cell_type": "code",
   "execution_count": 29,
   "metadata": {},
   "outputs": [],
   "source": [
    "rfc = RandomForestClassifier(random_state=STATE, max_depth=15)\n",
    "rfc.fit(tf_idf_train, y_train);"
   ]
  },
  {
   "cell_type": "code",
   "execution_count": 30,
   "metadata": {},
   "outputs": [
    {
     "data": {
      "image/png": "[encoded data removed]",
      "text/plain": [
       "<Figure size 640x480 with 2 Axes>"
      ]
     },
     "metadata": {},
     "output_type": "display_data"
    }
   ],
   "source": [
    "plot_confusion_matrix(y_test, y_pred=rfc.predict(tf_idf_test))"
   ]
  },
  {
   "cell_type": "code",
   "execution_count": 31,
   "metadata": {},
   "outputs": [
    {
     "name": "stdout",
     "output_type": "stream",
     "text": [
      "              precision    recall  f1-score   support\n",
      "\n",
      "           0       0.50      0.11      0.18         9\n",
      "           1       0.50      0.69      0.58        16\n",
      "           2       0.68      0.84      0.75        25\n",
      "           3       0.00      0.00      0.00         5\n",
      "\n",
      "    accuracy                           0.60        55\n",
      "   macro avg       0.42      0.41      0.38        55\n",
      "weighted avg       0.54      0.60      0.54        55\n",
      "\n"
     ]
    },
    {
     "name": "stderr",
     "output_type": "stream",
     "text": [
      "c:\\Users\\miroshkin\\AppData\\Local\\Programs\\Python\\Python39\\lib\\site-packages\\sklearn\\metrics\\_classification.py:1344: UndefinedMetricWarning: Precision and F-score are ill-defined and being set to 0.0 in labels with no predicted samples. Use `zero_division` parameter to control this behavior.\n",
      "  _warn_prf(average, modifier, msg_start, len(result))\n",
      "c:\\Users\\miroshkin\\AppData\\Local\\Programs\\Python\\Python39\\lib\\site-packages\\sklearn\\metrics\\_classification.py:1344: UndefinedMetricWarning: Precision and F-score are ill-defined and being set to 0.0 in labels with no predicted samples. Use `zero_division` parameter to control this behavior.\n",
      "  _warn_prf(average, modifier, msg_start, len(result))\n",
      "c:\\Users\\miroshkin\\AppData\\Local\\Programs\\Python\\Python39\\lib\\site-packages\\sklearn\\metrics\\_classification.py:1344: UndefinedMetricWarning: Precision and F-score are ill-defined and being set to 0.0 in labels with no predicted samples. Use `zero_division` parameter to control this behavior.\n",
      "  _warn_prf(average, modifier, msg_start, len(result))\n"
     ]
    }
   ],
   "source": [
    "print(classification_report(y_test, y_pred=rfc.predict(tf_idf_test)))"
   ]
  },
  {
   "attachments": {},
   "cell_type": "markdown",
   "metadata": {},
   "source": [
    "LightGBM Tuning|"
   ]
  },
  {
   "cell_type": "code",
   "execution_count": 32,
   "metadata": {},
   "outputs": [
    {
     "data": {
      "text/html": [
       "<style>#sk-container-id-2 {color: black;background-color: white;}#sk-container-id-2 pre{padding: 0;}#sk-container-id-2 div.sk-toggleable {background-color: white;}#sk-container-id-2 label.sk-toggleable__label {cursor: pointer;display: block;width: 100%;margin-bottom: 0;padding: 0.3em;box-sizing: border-box;text-align: center;}#sk-container-id-2 label.sk-toggleable__label-arrow:before {content: \"▸\";float: left;margin-right: 0.25em;color: #696969;}#sk-container-id-2 label.sk-toggleable__label-arrow:hover:before {color: black;}#sk-container-id-2 div.sk-estimator:hover label.sk-toggleable__label-arrow:before {color: black;}#sk-container-id-2 div.sk-toggleable__content {max-height: 0;max-width: 0;overflow: hidden;text-align: left;background-color: #f0f8ff;}#sk-container-id-2 div.sk-toggleable__content pre {margin: 0.2em;color: black;border-radius: 0.25em;background-color: #f0f8ff;}#sk-container-id-2 input.sk-toggleable__control:checked~div.sk-toggleable__content {max-height: 200px;max-width: 100%;overflow: auto;}#sk-container-id-2 input.sk-toggleable__control:checked~label.sk-toggleable__label-arrow:before {content: \"▾\";}#sk-container-id-2 div.sk-estimator input.sk-toggleable__control:checked~label.sk-toggleable__label {background-color: #d4ebff;}#sk-container-id-2 div.sk-label input.sk-toggleable__control:checked~label.sk-toggleable__label {background-color: #d4ebff;}#sk-container-id-2 input.sk-hidden--visually {border: 0;clip: rect(1px 1px 1px 1px);clip: rect(1px, 1px, 1px, 1px);height: 1px;margin: -1px;overflow: hidden;padding: 0;position: absolute;width: 1px;}#sk-container-id-2 div.sk-estimator {font-family: monospace;background-color: #f0f8ff;border: 1px dotted black;border-radius: 0.25em;box-sizing: border-box;margin-bottom: 0.5em;}#sk-container-id-2 div.sk-estimator:hover {background-color: #d4ebff;}#sk-container-id-2 div.sk-parallel-item::after {content: \"\";width: 100%;border-bottom: 1px solid gray;flex-grow: 1;}#sk-container-id-2 div.sk-label:hover label.sk-toggleable__label {background-color: #d4ebff;}#sk-container-id-2 div.sk-serial::before {content: \"\";position: absolute;border-left: 1px solid gray;box-sizing: border-box;top: 0;bottom: 0;left: 50%;z-index: 0;}#sk-container-id-2 div.sk-serial {display: flex;flex-direction: column;align-items: center;background-color: white;padding-right: 0.2em;padding-left: 0.2em;position: relative;}#sk-container-id-2 div.sk-item {position: relative;z-index: 1;}#sk-container-id-2 div.sk-parallel {display: flex;align-items: stretch;justify-content: center;background-color: white;position: relative;}#sk-container-id-2 div.sk-item::before, #sk-container-id-2 div.sk-parallel-item::before {content: \"\";position: absolute;border-left: 1px solid gray;box-sizing: border-box;top: 0;bottom: 0;left: 50%;z-index: -1;}#sk-container-id-2 div.sk-parallel-item {display: flex;flex-direction: column;z-index: 1;position: relative;background-color: white;}#sk-container-id-2 div.sk-parallel-item:first-child::after {align-self: flex-end;width: 50%;}#sk-container-id-2 div.sk-parallel-item:last-child::after {align-self: flex-start;width: 50%;}#sk-container-id-2 div.sk-parallel-item:only-child::after {width: 0;}#sk-container-id-2 div.sk-dashed-wrapped {border: 1px dashed gray;margin: 0 0.4em 0.5em 0.4em;box-sizing: border-box;padding-bottom: 0.4em;background-color: white;}#sk-container-id-2 div.sk-label label {font-family: monospace;font-weight: bold;display: inline-block;line-height: 1.2em;}#sk-container-id-2 div.sk-label-container {text-align: center;}#sk-container-id-2 div.sk-container {/* jupyter's `normalize.less` sets `[hidden] { display: none; }` but bootstrap.min.css set `[hidden] { display: none !important; }` so we also need the `!important` here to be able to override the default hidden behavior on the sphinx rendered scikit-learn.org. See: https://github.com/scikit-learn/scikit-learn/issues/21755 */display: inline-block !important;position: relative;}#sk-container-id-2 div.sk-text-repr-fallback {display: none;}</style><div id=\"sk-container-id-2\" class=\"sk-top-container\"><div class=\"sk-text-repr-fallback\"><pre>LGBMClassifier(random_state=0)</pre><b>In a Jupyter environment, please rerun this cell to show the HTML representation or trust the notebook. <br />On GitHub, the HTML representation is unable to render, please try loading this page with nbviewer.org.</b></div><div class=\"sk-container\" hidden><div class=\"sk-item\"><div class=\"sk-estimator sk-toggleable\"><input class=\"sk-toggleable__control sk-hidden--visually\" id=\"sk-estimator-id-2\" type=\"checkbox\" checked><label for=\"sk-estimator-id-2\" class=\"sk-toggleable__label sk-toggleable__label-arrow\">LGBMClassifier</label><div class=\"sk-toggleable__content\"><pre>LGBMClassifier(random_state=0)</pre></div></div></div></div></div>"
      ],
      "text/plain": [
       "LGBMClassifier(random_state=0)"
      ]
     },
     "execution_count": 32,
     "metadata": {},
     "output_type": "execute_result"
    }
   ],
   "source": [
    "lgb_model = lgb.LGBMClassifier(random_state=STATE)\n",
    "lgb_model.fit(tf_idf_train, y_train)"
   ]
  },
  {
   "cell_type": "code",
   "execution_count": 33,
   "metadata": {},
   "outputs": [
    {
     "data": {
      "image/png": "[encoded data removed]",
      "text/plain": [
       "<Figure size 640x480 with 2 Axes>"
      ]
     },
     "metadata": {},
     "output_type": "display_data"
    }
   ],
   "source": [
    "plot_confusion_matrix(y_test, lgb_model.predict(tf_idf_test))"
   ]
  },
  {
   "cell_type": "code",
   "execution_count": 34,
   "metadata": {},
   "outputs": [
    {
     "name": "stdout",
     "output_type": "stream",
     "text": [
      "              precision    recall  f1-score   support\n",
      "\n",
      "           0       0.25      0.11      0.15         9\n",
      "           1       0.60      0.75      0.67        16\n",
      "           2       0.61      0.76      0.68        25\n",
      "           3       0.00      0.00      0.00         5\n",
      "\n",
      "    accuracy                           0.58        55\n",
      "   macro avg       0.37      0.41      0.37        55\n",
      "weighted avg       0.49      0.58      0.53        55\n",
      "\n"
     ]
    },
    {
     "name": "stderr",
     "output_type": "stream",
     "text": [
      "c:\\Users\\miroshkin\\AppData\\Local\\Programs\\Python\\Python39\\lib\\site-packages\\sklearn\\metrics\\_classification.py:1344: UndefinedMetricWarning: Precision and F-score are ill-defined and being set to 0.0 in labels with no predicted samples. Use `zero_division` parameter to control this behavior.\n",
      "  _warn_prf(average, modifier, msg_start, len(result))\n",
      "c:\\Users\\miroshkin\\AppData\\Local\\Programs\\Python\\Python39\\lib\\site-packages\\sklearn\\metrics\\_classification.py:1344: UndefinedMetricWarning: Precision and F-score are ill-defined and being set to 0.0 in labels with no predicted samples. Use `zero_division` parameter to control this behavior.\n",
      "  _warn_prf(average, modifier, msg_start, len(result))\n",
      "c:\\Users\\miroshkin\\AppData\\Local\\Programs\\Python\\Python39\\lib\\site-packages\\sklearn\\metrics\\_classification.py:1344: UndefinedMetricWarning: Precision and F-score are ill-defined and being set to 0.0 in labels with no predicted samples. Use `zero_division` parameter to control this behavior.\n",
      "  _warn_prf(average, modifier, msg_start, len(result))\n"
     ]
    }
   ],
   "source": [
    "print(classification_report(y_test, lgb_model.predict(tf_idf_test)))"
   ]
  },
  {
   "attachments": {},
   "cell_type": "markdown",
   "metadata": {},
   "source": [
    "CatBoostClassifier"
   ]
  },
  {
   "cell_type": "code",
   "execution_count": 37,
   "metadata": {},
   "outputs": [
    {
     "name": "stdout",
     "output_type": "stream",
     "text": [
      "Learning rate set to 0.5\n",
      "0:\tlearn: 1.2573090\ttotal: 5.08s\tremaining: 8m 22s\n",
      "1:\tlearn: 1.1270286\ttotal: 10.2s\tremaining: 8m 18s\n",
      "2:\tlearn: 1.0138080\ttotal: 15.2s\tremaining: 8m 11s\n",
      "3:\tlearn: 0.8998503\ttotal: 20.1s\tremaining: 8m 2s\n",
      "4:\tlearn: 0.8076931\ttotal: 25s\tremaining: 7m 54s\n",
      "5:\tlearn: 0.7456847\ttotal: 29.8s\tremaining: 7m 46s\n",
      "6:\tlearn: 0.6910874\ttotal: 34.6s\tremaining: 7m 39s\n",
      "7:\tlearn: 0.6582913\ttotal: 39.4s\tremaining: 7m 32s\n",
      "8:\tlearn: 0.6177372\ttotal: 44.5s\tremaining: 7m 29s\n",
      "9:\tlearn: 0.5777481\ttotal: 49.2s\tremaining: 7m 23s\n",
      "10:\tlearn: 0.5355017\ttotal: 54.1s\tremaining: 7m 18s\n",
      "11:\tlearn: 0.4968470\ttotal: 59s\tremaining: 7m 12s\n",
      "12:\tlearn: 0.4613959\ttotal: 1m 3s\tremaining: 7m 7s\n",
      "13:\tlearn: 0.4314290\ttotal: 1m 8s\tremaining: 7m 1s\n",
      "14:\tlearn: 0.4001626\ttotal: 1m 13s\tremaining: 6m 55s\n",
      "15:\tlearn: 0.3709643\ttotal: 1m 18s\tremaining: 6m 50s\n",
      "16:\tlearn: 0.3255772\ttotal: 1m 23s\tremaining: 6m 45s\n",
      "17:\tlearn: 0.2983229\ttotal: 1m 27s\tremaining: 6m 39s\n",
      "18:\tlearn: 0.2681255\ttotal: 1m 32s\tremaining: 6m 32s\n",
      "19:\tlearn: 0.2496674\ttotal: 1m 36s\tremaining: 6m 26s\n",
      "20:\tlearn: 0.2318225\ttotal: 1m 40s\tremaining: 6m 19s\n",
      "21:\tlearn: 0.2186982\ttotal: 1m 45s\tremaining: 6m 13s\n",
      "22:\tlearn: 0.2054433\ttotal: 1m 49s\tremaining: 6m 7s\n",
      "23:\tlearn: 0.1946886\ttotal: 1m 54s\tremaining: 6m 1s\n",
      "24:\tlearn: 0.1845167\ttotal: 1m 58s\tremaining: 5m 56s\n",
      "25:\tlearn: 0.1756743\ttotal: 2m 3s\tremaining: 5m 51s\n",
      "26:\tlearn: 0.1670488\ttotal: 2m 7s\tremaining: 5m 45s\n",
      "27:\tlearn: 0.1584881\ttotal: 2m 12s\tremaining: 5m 39s\n",
      "28:\tlearn: 0.1513237\ttotal: 2m 16s\tremaining: 5m 34s\n",
      "29:\tlearn: 0.1456675\ttotal: 2m 21s\tremaining: 5m 29s\n",
      "30:\tlearn: 0.1390181\ttotal: 2m 26s\tremaining: 5m 24s\n",
      "31:\tlearn: 0.1302205\ttotal: 2m 30s\tremaining: 5m 20s\n",
      "32:\tlearn: 0.1256384\ttotal: 2m 35s\tremaining: 5m 16s\n",
      "33:\tlearn: 0.1204843\ttotal: 2m 41s\tremaining: 5m 12s\n",
      "34:\tlearn: 0.1161840\ttotal: 2m 45s\tremaining: 5m 7s\n",
      "35:\tlearn: 0.1123442\ttotal: 2m 50s\tremaining: 5m 3s\n",
      "36:\tlearn: 0.1076217\ttotal: 2m 56s\tremaining: 4m 59s\n",
      "37:\tlearn: 0.1045621\ttotal: 3m 1s\tremaining: 4m 55s\n",
      "38:\tlearn: 0.0993784\ttotal: 3m 5s\tremaining: 4m 50s\n",
      "39:\tlearn: 0.0957882\ttotal: 3m 10s\tremaining: 4m 46s\n",
      "40:\tlearn: 0.0913531\ttotal: 3m 15s\tremaining: 4m 41s\n",
      "41:\tlearn: 0.0871881\ttotal: 3m 20s\tremaining: 4m 36s\n",
      "42:\tlearn: 0.0846367\ttotal: 3m 25s\tremaining: 4m 32s\n",
      "43:\tlearn: 0.0814969\ttotal: 3m 30s\tremaining: 4m 27s\n",
      "44:\tlearn: 0.0787647\ttotal: 3m 35s\tremaining: 4m 22s\n",
      "45:\tlearn: 0.0761590\ttotal: 3m 37s\tremaining: 4m 15s\n",
      "46:\tlearn: 0.0732519\ttotal: 3m 42s\tremaining: 4m 11s\n",
      "47:\tlearn: 0.0717255\ttotal: 3m 48s\tremaining: 4m 7s\n",
      "48:\tlearn: 0.0697661\ttotal: 3m 51s\tremaining: 4m\n",
      "49:\tlearn: 0.0678694\ttotal: 3m 56s\tremaining: 3m 56s\n",
      "50:\tlearn: 0.0655044\ttotal: 4m 2s\tremaining: 3m 52s\n",
      "51:\tlearn: 0.0643083\ttotal: 4m 7s\tremaining: 3m 48s\n",
      "52:\tlearn: 0.0621811\ttotal: 4m 12s\tremaining: 3m 43s\n",
      "53:\tlearn: 0.0611366\ttotal: 4m 13s\tremaining: 3m 35s\n",
      "54:\tlearn: 0.0599296\ttotal: 4m 18s\tremaining: 3m 31s\n",
      "55:\tlearn: 0.0586804\ttotal: 4m 20s\tremaining: 3m 24s\n",
      "56:\tlearn: 0.0577943\ttotal: 4m 25s\tremaining: 3m 20s\n",
      "57:\tlearn: 0.0566658\ttotal: 4m 31s\tremaining: 3m 16s\n",
      "58:\tlearn: 0.0554901\ttotal: 4m 36s\tremaining: 3m 11s\n",
      "59:\tlearn: 0.0543028\ttotal: 4m 41s\tremaining: 3m 7s\n",
      "60:\tlearn: 0.0534814\ttotal: 4m 47s\tremaining: 3m 3s\n",
      "61:\tlearn: 0.0520288\ttotal: 4m 52s\tremaining: 2m 59s\n",
      "62:\tlearn: 0.0512947\ttotal: 4m 58s\tremaining: 2m 55s\n",
      "63:\tlearn: 0.0503144\ttotal: 5m 2s\tremaining: 2m 50s\n",
      "64:\tlearn: 0.0493979\ttotal: 5m 8s\tremaining: 2m 46s\n",
      "65:\tlearn: 0.0484482\ttotal: 5m 13s\tremaining: 2m 41s\n",
      "66:\tlearn: 0.0474438\ttotal: 5m 18s\tremaining: 2m 37s\n",
      "67:\tlearn: 0.0467193\ttotal: 5m 24s\tremaining: 2m 32s\n",
      "68:\tlearn: 0.0455687\ttotal: 5m 26s\tremaining: 2m 26s\n",
      "69:\tlearn: 0.0453773\ttotal: 5m 31s\tremaining: 2m 22s\n",
      "70:\tlearn: 0.0443535\ttotal: 5m 37s\tremaining: 2m 17s\n",
      "71:\tlearn: 0.0440128\ttotal: 5m 42s\tremaining: 2m 13s\n",
      "72:\tlearn: 0.0435836\ttotal: 5m 47s\tremaining: 2m 8s\n",
      "73:\tlearn: 0.0426345\ttotal: 5m 52s\tremaining: 2m 3s\n",
      "74:\tlearn: 0.0418070\ttotal: 5m 56s\tremaining: 1m 58s\n",
      "75:\tlearn: 0.0409739\ttotal: 6m 1s\tremaining: 1m 54s\n",
      "76:\tlearn: 0.0405364\ttotal: 6m 5s\tremaining: 1m 49s\n",
      "77:\tlearn: 0.0400671\ttotal: 6m 11s\tremaining: 1m 44s\n",
      "78:\tlearn: 0.0396703\ttotal: 6m 16s\tremaining: 1m 40s\n",
      "79:\tlearn: 0.0394196\ttotal: 6m 21s\tremaining: 1m 35s\n",
      "80:\tlearn: 0.0389457\ttotal: 6m 26s\tremaining: 1m 30s\n",
      "81:\tlearn: 0.0385881\ttotal: 6m 31s\tremaining: 1m 25s\n",
      "82:\tlearn: 0.0384020\ttotal: 6m 36s\tremaining: 1m 21s\n",
      "83:\tlearn: 0.0380477\ttotal: 6m 42s\tremaining: 1m 16s\n",
      "84:\tlearn: 0.0379156\ttotal: 6m 42s\tremaining: 1m 11s\n",
      "85:\tlearn: 0.0375440\ttotal: 6m 48s\tremaining: 1m 6s\n",
      "86:\tlearn: 0.0370667\ttotal: 6m 53s\tremaining: 1m 1s\n",
      "87:\tlearn: 0.0369547\ttotal: 6m 58s\tremaining: 57.1s\n",
      "88:\tlearn: 0.0366962\ttotal: 7m 3s\tremaining: 52.3s\n",
      "89:\tlearn: 0.0366137\ttotal: 7m 9s\tremaining: 47.7s\n",
      "90:\tlearn: 0.0360981\ttotal: 7m 14s\tremaining: 42.9s\n",
      "91:\tlearn: 0.0359790\ttotal: 7m 19s\tremaining: 38.2s\n",
      "92:\tlearn: 0.0358562\ttotal: 7m 24s\tremaining: 33.4s\n",
      "93:\tlearn: 0.0352934\ttotal: 7m 29s\tremaining: 28.7s\n",
      "94:\tlearn: 0.0349824\ttotal: 7m 34s\tremaining: 23.9s\n",
      "95:\tlearn: 0.0346224\ttotal: 7m 39s\tremaining: 19.1s\n",
      "96:\tlearn: 0.0344334\ttotal: 7m 41s\tremaining: 14.3s\n",
      "97:\tlearn: 0.0341288\ttotal: 7m 46s\tremaining: 9.53s\n",
      "98:\tlearn: 0.0338477\ttotal: 7m 52s\tremaining: 4.77s\n",
      "99:\tlearn: 0.0334748\ttotal: 7m 57s\tremaining: 0us\n"
     ]
    }
   ],
   "source": [
    "flag = 0\n",
    "if flag:\n",
    "    cbc = CatBoostClassifier(random_state=STATE, max_depth=10, iterations=100)\n",
    "    cbc.fit(tf_idf_train, y_train)\n",
    "else:\n",
    "    with open('content/cbc.pickle', 'rb') as file:\n",
    "        cbc = pickle.load(file)"
   ]
  },
  {
   "cell_type": "code",
   "execution_count": 39,
   "metadata": {},
   "outputs": [
    {
     "name": "stdout",
     "output_type": "stream",
     "text": [
      "              precision    recall  f1-score   support\n",
      "\n",
      "           0       0.50      0.11      0.18         9\n",
      "           1       0.60      0.75      0.67        16\n",
      "           2       0.64      0.84      0.72        25\n",
      "           3       0.00      0.00      0.00         5\n",
      "\n",
      "    accuracy                           0.62        55\n",
      "   macro avg       0.43      0.43      0.39        55\n",
      "weighted avg       0.55      0.62      0.55        55\n",
      "\n"
     ]
    },
    {
     "name": "stderr",
     "output_type": "stream",
     "text": [
      "c:\\Users\\miroshkin\\AppData\\Local\\Programs\\Python\\Python39\\lib\\site-packages\\sklearn\\metrics\\_classification.py:1344: UndefinedMetricWarning: Precision and F-score are ill-defined and being set to 0.0 in labels with no predicted samples. Use `zero_division` parameter to control this behavior.\n",
      "  _warn_prf(average, modifier, msg_start, len(result))\n",
      "c:\\Users\\miroshkin\\AppData\\Local\\Programs\\Python\\Python39\\lib\\site-packages\\sklearn\\metrics\\_classification.py:1344: UndefinedMetricWarning: Precision and F-score are ill-defined and being set to 0.0 in labels with no predicted samples. Use `zero_division` parameter to control this behavior.\n",
      "  _warn_prf(average, modifier, msg_start, len(result))\n",
      "c:\\Users\\miroshkin\\AppData\\Local\\Programs\\Python\\Python39\\lib\\site-packages\\sklearn\\metrics\\_classification.py:1344: UndefinedMetricWarning: Precision and F-score are ill-defined and being set to 0.0 in labels with no predicted samples. Use `zero_division` parameter to control this behavior.\n",
      "  _warn_prf(average, modifier, msg_start, len(result))\n"
     ]
    }
   ],
   "source": [
    "print(classification_report(y_test, cbc.predict(tf_idf_test)))"
   ]
  },
  {
   "cell_type": "code",
   "execution_count": 40,
   "metadata": {},
   "outputs": [
    {
     "data": {
      "image/png": "[encoded data removed]",
      "text/plain": [
       "<Figure size 640x480 with 2 Axes>"
      ]
     },
     "metadata": {},
     "output_type": "display_data"
    }
   ],
   "source": [
    "plot_confusion_matrix(y_test, cbc.predict(tf_idf_test))"
   ]
  },
  {
   "cell_type": "code",
   "execution_count": 41,
   "metadata": {},
   "outputs": [
    {
     "name": "stdout",
     "output_type": "stream",
     "text": [
      "Learning rate set to 0.171107\n",
      "0:\tlearn: 1.2003567\ttotal: 200ms\tremaining: 39.7s\n",
      "1:\tlearn: 1.1049638\ttotal: 390ms\tremaining: 38.6s\n",
      "2:\tlearn: 1.0003722\ttotal: 518ms\tremaining: 34s\n",
      "3:\tlearn: 0.9293683\ttotal: 677ms\tremaining: 33.2s\n",
      "4:\tlearn: 0.8529264\ttotal: 810ms\tremaining: 31.6s\n",
      "5:\tlearn: 0.7934022\ttotal: 967ms\tremaining: 31.3s\n",
      "6:\tlearn: 0.7418904\ttotal: 1.12s\tremaining: 31s\n",
      "7:\tlearn: 0.6994490\ttotal: 1.3s\tremaining: 31.3s\n",
      "8:\tlearn: 0.6539942\ttotal: 1.45s\tremaining: 30.8s\n",
      "9:\tlearn: 0.6037386\ttotal: 1.6s\tremaining: 30.4s\n",
      "10:\tlearn: 0.5705635\ttotal: 1.74s\tremaining: 29.9s\n",
      "11:\tlearn: 0.5301139\ttotal: 1.88s\tremaining: 29.5s\n",
      "12:\tlearn: 0.5035704\ttotal: 2.04s\tremaining: 29.4s\n",
      "13:\tlearn: 0.4794461\ttotal: 2.2s\tremaining: 29.3s\n",
      "14:\tlearn: 0.4624073\ttotal: 2.42s\tremaining: 29.8s\n",
      "15:\tlearn: 0.4415107\ttotal: 2.56s\tremaining: 29.4s\n",
      "16:\tlearn: 0.4189561\ttotal: 2.7s\tremaining: 29.1s\n",
      "17:\tlearn: 0.3989360\ttotal: 2.85s\tremaining: 28.8s\n",
      "18:\tlearn: 0.3795984\ttotal: 2.99s\tremaining: 28.5s\n",
      "19:\tlearn: 0.3667689\ttotal: 3.17s\tremaining: 28.6s\n",
      "20:\tlearn: 0.3532564\ttotal: 3.37s\tremaining: 28.7s\n",
      "21:\tlearn: 0.3371822\ttotal: 3.52s\tremaining: 28.5s\n",
      "22:\tlearn: 0.3212264\ttotal: 3.65s\tremaining: 28.1s\n",
      "23:\tlearn: 0.3065203\ttotal: 3.78s\tremaining: 27.7s\n",
      "24:\tlearn: 0.2906462\ttotal: 3.9s\tremaining: 27.3s\n",
      "25:\tlearn: 0.2796346\ttotal: 4.04s\tremaining: 27s\n",
      "26:\tlearn: 0.2664704\ttotal: 4.15s\tremaining: 26.6s\n",
      "27:\tlearn: 0.2559145\ttotal: 4.28s\tremaining: 26.3s\n",
      "28:\tlearn: 0.2450701\ttotal: 4.4s\tremaining: 25.9s\n",
      "29:\tlearn: 0.2363519\ttotal: 4.53s\tremaining: 25.7s\n",
      "30:\tlearn: 0.2291498\ttotal: 4.67s\tremaining: 25.4s\n",
      "31:\tlearn: 0.2214940\ttotal: 4.79s\tremaining: 25.2s\n",
      "32:\tlearn: 0.2145999\ttotal: 4.92s\tremaining: 24.9s\n",
      "33:\tlearn: 0.2055982\ttotal: 5.05s\tremaining: 24.7s\n",
      "34:\tlearn: 0.1995198\ttotal: 5.18s\tremaining: 24.4s\n",
      "35:\tlearn: 0.1943955\ttotal: 5.36s\tremaining: 24.4s\n",
      "36:\tlearn: 0.1873893\ttotal: 5.48s\tremaining: 24.1s\n",
      "37:\tlearn: 0.1807862\ttotal: 5.59s\tremaining: 23.9s\n",
      "38:\tlearn: 0.1764605\ttotal: 5.77s\tremaining: 23.8s\n",
      "39:\tlearn: 0.1708376\ttotal: 5.89s\tremaining: 23.5s\n",
      "40:\tlearn: 0.1659626\ttotal: 6.01s\tremaining: 23.3s\n",
      "41:\tlearn: 0.1602630\ttotal: 6.12s\tremaining: 23s\n",
      "42:\tlearn: 0.1557102\ttotal: 6.24s\tremaining: 22.8s\n",
      "43:\tlearn: 0.1512231\ttotal: 6.35s\tremaining: 22.5s\n",
      "44:\tlearn: 0.1463313\ttotal: 6.47s\tremaining: 22.3s\n",
      "45:\tlearn: 0.1430853\ttotal: 6.6s\tremaining: 22.1s\n",
      "46:\tlearn: 0.1401271\ttotal: 6.77s\tremaining: 22s\n",
      "47:\tlearn: 0.1356122\ttotal: 6.89s\tremaining: 21.8s\n",
      "48:\tlearn: 0.1329685\ttotal: 7.01s\tremaining: 21.6s\n",
      "49:\tlearn: 0.1306512\ttotal: 7.15s\tremaining: 21.4s\n",
      "50:\tlearn: 0.1278160\ttotal: 7.27s\tremaining: 21.2s\n",
      "51:\tlearn: 0.1249513\ttotal: 7.41s\tremaining: 21.1s\n",
      "52:\tlearn: 0.1220515\ttotal: 7.54s\tremaining: 20.9s\n",
      "53:\tlearn: 0.1190624\ttotal: 7.66s\tremaining: 20.7s\n",
      "54:\tlearn: 0.1174511\ttotal: 7.83s\tremaining: 20.6s\n",
      "55:\tlearn: 0.1148458\ttotal: 7.95s\tremaining: 20.4s\n",
      "56:\tlearn: 0.1125075\ttotal: 8.07s\tremaining: 20.2s\n",
      "57:\tlearn: 0.1098379\ttotal: 8.19s\tremaining: 20s\n",
      "58:\tlearn: 0.1077166\ttotal: 8.31s\tremaining: 19.9s\n",
      "59:\tlearn: 0.1059224\ttotal: 8.44s\tremaining: 19.7s\n",
      "60:\tlearn: 0.1041517\ttotal: 8.59s\tremaining: 19.6s\n",
      "61:\tlearn: 0.1020679\ttotal: 8.71s\tremaining: 19.4s\n",
      "62:\tlearn: 0.0997189\ttotal: 8.83s\tremaining: 19.2s\n",
      "63:\tlearn: 0.0980030\ttotal: 8.97s\tremaining: 19.1s\n",
      "64:\tlearn: 0.0961661\ttotal: 9.09s\tremaining: 18.9s\n",
      "65:\tlearn: 0.0948356\ttotal: 9.23s\tremaining: 18.7s\n",
      "66:\tlearn: 0.0932580\ttotal: 9.37s\tremaining: 18.6s\n",
      "67:\tlearn: 0.0913524\ttotal: 9.5s\tremaining: 18.4s\n",
      "68:\tlearn: 0.0899881\ttotal: 9.69s\tremaining: 18.4s\n",
      "69:\tlearn: 0.0877304\ttotal: 9.8s\tremaining: 18.2s\n",
      "70:\tlearn: 0.0857780\ttotal: 9.91s\tremaining: 18s\n",
      "71:\tlearn: 0.0845994\ttotal: 10s\tremaining: 17.8s\n",
      "72:\tlearn: 0.0835830\ttotal: 10.1s\tremaining: 17.7s\n",
      "73:\tlearn: 0.0825280\ttotal: 10.3s\tremaining: 17.5s\n",
      "74:\tlearn: 0.0812133\ttotal: 10.4s\tremaining: 17.4s\n",
      "75:\tlearn: 0.0804214\ttotal: 10.6s\tremaining: 17.3s\n",
      "76:\tlearn: 0.0793799\ttotal: 10.8s\tremaining: 17.2s\n",
      "77:\tlearn: 0.0782195\ttotal: 10.9s\tremaining: 17s\n",
      "78:\tlearn: 0.0769206\ttotal: 11s\tremaining: 16.9s\n",
      "79:\tlearn: 0.0759162\ttotal: 11.2s\tremaining: 16.7s\n",
      "80:\tlearn: 0.0746269\ttotal: 11.3s\tremaining: 16.6s\n",
      "81:\tlearn: 0.0737433\ttotal: 11.4s\tremaining: 16.5s\n",
      "82:\tlearn: 0.0728303\ttotal: 11.6s\tremaining: 16.3s\n",
      "83:\tlearn: 0.0719034\ttotal: 11.7s\tremaining: 16.2s\n",
      "84:\tlearn: 0.0708671\ttotal: 11.8s\tremaining: 16s\n",
      "85:\tlearn: 0.0702021\ttotal: 12s\tremaining: 15.9s\n",
      "86:\tlearn: 0.0689388\ttotal: 12.1s\tremaining: 15.8s\n",
      "87:\tlearn: 0.0681786\ttotal: 12.3s\tremaining: 15.6s\n",
      "88:\tlearn: 0.0671156\ttotal: 12.4s\tremaining: 15.4s\n",
      "89:\tlearn: 0.0662106\ttotal: 12.5s\tremaining: 15.3s\n",
      "90:\tlearn: 0.0655071\ttotal: 12.6s\tremaining: 15.1s\n",
      "91:\tlearn: 0.0648696\ttotal: 12.8s\tremaining: 15s\n",
      "92:\tlearn: 0.0642800\ttotal: 13s\tremaining: 14.9s\n",
      "93:\tlearn: 0.0636251\ttotal: 13.1s\tremaining: 14.7s\n",
      "94:\tlearn: 0.0631504\ttotal: 13.2s\tremaining: 14.6s\n",
      "95:\tlearn: 0.0621479\ttotal: 13.3s\tremaining: 14.4s\n",
      "96:\tlearn: 0.0609199\ttotal: 13.4s\tremaining: 14.3s\n",
      "97:\tlearn: 0.0603086\ttotal: 13.6s\tremaining: 14.1s\n",
      "98:\tlearn: 0.0596325\ttotal: 13.7s\tremaining: 14s\n",
      "99:\tlearn: 0.0588656\ttotal: 13.8s\tremaining: 13.8s\n",
      "100:\tlearn: 0.0583097\ttotal: 14s\tremaining: 13.7s\n",
      "101:\tlearn: 0.0573546\ttotal: 14.1s\tremaining: 13.6s\n",
      "102:\tlearn: 0.0568676\ttotal: 14.2s\tremaining: 13.4s\n",
      "103:\tlearn: 0.0563965\ttotal: 14.4s\tremaining: 13.3s\n",
      "104:\tlearn: 0.0557157\ttotal: 14.5s\tremaining: 13.1s\n",
      "105:\tlearn: 0.0551769\ttotal: 14.6s\tremaining: 13s\n",
      "106:\tlearn: 0.0547648\ttotal: 14.8s\tremaining: 12.9s\n",
      "107:\tlearn: 0.0543826\ttotal: 15s\tremaining: 12.8s\n",
      "108:\tlearn: 0.0539288\ttotal: 15.1s\tremaining: 12.6s\n",
      "109:\tlearn: 0.0533657\ttotal: 15.2s\tremaining: 12.4s\n",
      "110:\tlearn: 0.0529188\ttotal: 15.3s\tremaining: 12.3s\n",
      "111:\tlearn: 0.0524441\ttotal: 15.5s\tremaining: 12.2s\n",
      "112:\tlearn: 0.0518639\ttotal: 15.6s\tremaining: 12s\n",
      "113:\tlearn: 0.0514320\ttotal: 15.7s\tremaining: 11.8s\n",
      "114:\tlearn: 0.0509132\ttotal: 15.8s\tremaining: 11.7s\n",
      "115:\tlearn: 0.0504583\ttotal: 16s\tremaining: 11.6s\n",
      "116:\tlearn: 0.0500327\ttotal: 16.1s\tremaining: 11.4s\n",
      "117:\tlearn: 0.0496924\ttotal: 16.2s\tremaining: 11.3s\n",
      "118:\tlearn: 0.0493367\ttotal: 16.3s\tremaining: 11.1s\n",
      "119:\tlearn: 0.0490588\ttotal: 16.5s\tremaining: 11s\n",
      "120:\tlearn: 0.0487434\ttotal: 16.7s\tremaining: 10.9s\n",
      "121:\tlearn: 0.0485202\ttotal: 16.8s\tremaining: 10.7s\n",
      "122:\tlearn: 0.0481064\ttotal: 16.9s\tremaining: 10.6s\n",
      "123:\tlearn: 0.0477605\ttotal: 17s\tremaining: 10.4s\n",
      "124:\tlearn: 0.0474007\ttotal: 17.1s\tremaining: 10.3s\n",
      "125:\tlearn: 0.0469998\ttotal: 17.3s\tremaining: 10.1s\n",
      "126:\tlearn: 0.0465937\ttotal: 17.4s\tremaining: 9.99s\n",
      "127:\tlearn: 0.0463319\ttotal: 17.5s\tremaining: 9.87s\n",
      "128:\tlearn: 0.0460725\ttotal: 17.7s\tremaining: 9.72s\n",
      "129:\tlearn: 0.0456541\ttotal: 17.8s\tremaining: 9.57s\n",
      "130:\tlearn: 0.0452851\ttotal: 17.9s\tremaining: 9.44s\n",
      "131:\tlearn: 0.0449334\ttotal: 18s\tremaining: 9.29s\n",
      "132:\tlearn: 0.0446085\ttotal: 18.2s\tremaining: 9.15s\n",
      "133:\tlearn: 0.0443579\ttotal: 18.3s\tremaining: 9.03s\n",
      "134:\tlearn: 0.0440858\ttotal: 18.5s\tremaining: 8.89s\n",
      "135:\tlearn: 0.0437734\ttotal: 18.6s\tremaining: 8.75s\n",
      "136:\tlearn: 0.0434592\ttotal: 18.7s\tremaining: 8.61s\n",
      "137:\tlearn: 0.0432206\ttotal: 18.9s\tremaining: 8.48s\n",
      "138:\tlearn: 0.0427630\ttotal: 19s\tremaining: 8.34s\n",
      "139:\tlearn: 0.0425641\ttotal: 19.1s\tremaining: 8.19s\n",
      "140:\tlearn: 0.0423588\ttotal: 19.2s\tremaining: 8.05s\n",
      "141:\tlearn: 0.0419158\ttotal: 19.4s\tremaining: 7.91s\n",
      "142:\tlearn: 0.0416093\ttotal: 19.5s\tremaining: 7.77s\n",
      "143:\tlearn: 0.0413377\ttotal: 19.6s\tremaining: 7.62s\n",
      "144:\tlearn: 0.0410362\ttotal: 19.7s\tremaining: 7.48s\n",
      "145:\tlearn: 0.0408114\ttotal: 19.8s\tremaining: 7.34s\n",
      "146:\tlearn: 0.0405811\ttotal: 20s\tremaining: 7.21s\n",
      "147:\tlearn: 0.0403789\ttotal: 20.1s\tremaining: 7.06s\n",
      "148:\tlearn: 0.0400995\ttotal: 20.2s\tremaining: 6.92s\n",
      "149:\tlearn: 0.0398697\ttotal: 20.4s\tremaining: 6.79s\n",
      "150:\tlearn: 0.0396633\ttotal: 20.5s\tremaining: 6.65s\n",
      "151:\tlearn: 0.0394234\ttotal: 20.6s\tremaining: 6.52s\n",
      "152:\tlearn: 0.0392100\ttotal: 20.8s\tremaining: 6.38s\n",
      "153:\tlearn: 0.0389895\ttotal: 20.9s\tremaining: 6.24s\n",
      "154:\tlearn: 0.0388094\ttotal: 21.1s\tremaining: 6.12s\n",
      "155:\tlearn: 0.0386058\ttotal: 21.2s\tremaining: 5.99s\n",
      "156:\tlearn: 0.0384174\ttotal: 21.4s\tremaining: 5.86s\n",
      "157:\tlearn: 0.0381997\ttotal: 21.5s\tremaining: 5.72s\n",
      "158:\tlearn: 0.0379653\ttotal: 21.7s\tremaining: 5.59s\n",
      "159:\tlearn: 0.0377992\ttotal: 21.8s\tremaining: 5.45s\n",
      "160:\tlearn: 0.0375868\ttotal: 21.9s\tremaining: 5.31s\n",
      "161:\tlearn: 0.0374252\ttotal: 22s\tremaining: 5.17s\n",
      "162:\tlearn: 0.0372467\ttotal: 22.2s\tremaining: 5.04s\n",
      "163:\tlearn: 0.0369642\ttotal: 22.3s\tremaining: 4.9s\n",
      "164:\tlearn: 0.0367501\ttotal: 22.5s\tremaining: 4.77s\n",
      "165:\tlearn: 0.0364758\ttotal: 22.6s\tremaining: 4.63s\n",
      "166:\tlearn: 0.0363667\ttotal: 22.7s\tremaining: 4.49s\n",
      "167:\tlearn: 0.0361732\ttotal: 22.8s\tremaining: 4.35s\n",
      "168:\tlearn: 0.0359917\ttotal: 23s\tremaining: 4.21s\n",
      "169:\tlearn: 0.0358892\ttotal: 23.1s\tremaining: 4.07s\n",
      "170:\tlearn: 0.0355863\ttotal: 23.2s\tremaining: 3.93s\n",
      "171:\tlearn: 0.0353669\ttotal: 23.3s\tremaining: 3.8s\n",
      "172:\tlearn: 0.0351382\ttotal: 23.5s\tremaining: 3.66s\n",
      "173:\tlearn: 0.0349991\ttotal: 23.6s\tremaining: 3.52s\n",
      "174:\tlearn: 0.0348196\ttotal: 23.7s\tremaining: 3.39s\n",
      "175:\tlearn: 0.0346845\ttotal: 23.9s\tremaining: 3.26s\n",
      "176:\tlearn: 0.0345471\ttotal: 24s\tremaining: 3.12s\n",
      "177:\tlearn: 0.0343807\ttotal: 24.1s\tremaining: 2.98s\n",
      "178:\tlearn: 0.0342418\ttotal: 24.3s\tremaining: 2.85s\n",
      "179:\tlearn: 0.0341075\ttotal: 24.4s\tremaining: 2.71s\n",
      "180:\tlearn: 0.0339899\ttotal: 24.5s\tremaining: 2.57s\n",
      "181:\tlearn: 0.0338270\ttotal: 24.6s\tremaining: 2.43s\n",
      "182:\tlearn: 0.0337046\ttotal: 24.7s\tremaining: 2.3s\n",
      "183:\tlearn: 0.0335815\ttotal: 24.8s\tremaining: 2.16s\n",
      "184:\tlearn: 0.0333893\ttotal: 25s\tremaining: 2.02s\n",
      "185:\tlearn: 0.0332846\ttotal: 25.1s\tremaining: 1.89s\n",
      "186:\tlearn: 0.0332199\ttotal: 25.2s\tremaining: 1.75s\n",
      "187:\tlearn: 0.0330782\ttotal: 25.3s\tremaining: 1.62s\n",
      "188:\tlearn: 0.0329057\ttotal: 25.5s\tremaining: 1.48s\n",
      "189:\tlearn: 0.0326634\ttotal: 25.6s\tremaining: 1.35s\n",
      "190:\tlearn: 0.0325267\ttotal: 25.7s\tremaining: 1.21s\n",
      "191:\tlearn: 0.0323960\ttotal: 25.8s\tremaining: 1.08s\n",
      "192:\tlearn: 0.0322559\ttotal: 26s\tremaining: 943ms\n",
      "193:\tlearn: 0.0321503\ttotal: 26.2s\tremaining: 810ms\n",
      "194:\tlearn: 0.0320498\ttotal: 26.3s\tremaining: 674ms\n",
      "195:\tlearn: 0.0319206\ttotal: 26.5s\tremaining: 540ms\n",
      "196:\tlearn: 0.0317843\ttotal: 26.6s\tremaining: 405ms\n",
      "197:\tlearn: 0.0316831\ttotal: 26.7s\tremaining: 270ms\n",
      "198:\tlearn: 0.0315584\ttotal: 26.9s\tremaining: 135ms\n",
      "199:\tlearn: 0.0314683\ttotal: 27s\tremaining: 0us\n"
     ]
    }
   ],
   "source": [
    "flag = 0\n",
    "if flag:\n",
    "    cbc_gpu = CatBoostClassifier(random_state=STATE, max_depth=8, iterations=200,\n",
    "                            task_type='GPU')\n",
    "    cbc_gpu.fit(tf_idf_train, y_train)\n",
    "else:\n",
    "    with open('content/cbc_gpu.pickle', 'rb') as file:\n",
    "        cbc_gpu = pickle.load(file)"
   ]
  },
  {
   "cell_type": "code",
   "execution_count": 44,
   "metadata": {},
   "outputs": [
    {
     "name": "stdout",
     "output_type": "stream",
     "text": [
      "              precision    recall  f1-score   support\n",
      "\n",
      "           0       1.00      0.22      0.36         9\n",
      "           1       0.52      0.88      0.65        16\n",
      "           2       0.79      0.76      0.78        25\n",
      "           3       1.00      0.40      0.57         5\n",
      "\n",
      "    accuracy                           0.67        55\n",
      "   macro avg       0.83      0.56      0.59        55\n",
      "weighted avg       0.77      0.67      0.65        55\n",
      "\n"
     ]
    }
   ],
   "source": [
    "print(classification_report(y_test, cbc_gpu.predict(tf_idf_test)))"
   ]
  },
  {
   "attachments": {},
   "cell_type": "markdown",
   "metadata": {},
   "source": [
    "## Text Complexity by words"
   ]
  },
  {
   "cell_type": "code",
   "execution_count": 45,
   "metadata": {},
   "outputs": [],
   "source": [
    "from nltk.tokenize import RegexpTokenizer\n",
    "from collections import Counter\n",
    "import pandas as pd\n",
    "import numpy as np\n",
    "\n",
    "class TextComplexity():\n",
    "    '''\n",
    "    Return the complexity of a text\n",
    "    the more complex it is, the higher the number\n",
    "    \n",
    "    1. Fit the model on a big text or a list of strings\n",
    "       The model will create a ranking of the most used words\n",
    "       (tokens) in the text.\n",
    "    2. Predict: Calculate the median usage ranking of the words\n",
    "                in a string\n",
    "    '''\n",
    "    \n",
    "    def __init__(self):\n",
    "        # The pattern might have to be updated depending\n",
    "        # on the language\n",
    "        \n",
    "        self.tokenizer = RegexpTokenizer('[a-zöäüß]+')\n",
    "        \n",
    "    def tokenize(self,text):\n",
    "        # Tokenize the text\n",
    "        \n",
    "        text = text.lower()\n",
    "        tokens_raw = self.tokenizer.tokenize(text)\n",
    "        \n",
    "        # Keep only tokens with at least two letters\n",
    "        tokens = []\n",
    "        for t in tokens_raw:\n",
    "            if len(t)>1:\n",
    "                tokens.append(t)\n",
    "            \n",
    "        return tokens\n",
    "    \n",
    "    \n",
    "    \n",
    "    def fit(self,X):\n",
    "        '''Fit the model with a text or a list of strings\n",
    "        '''\n",
    "        try:\n",
    "            object_iterator = iter(X)\n",
    "        except TypeError as te:\n",
    "            print('Error: Input X is not iterable.')\n",
    "            \n",
    "        if not isinstance(X,str):\n",
    "            # If X is a list of strings: Join the strings together\n",
    "            X = \" \".join(X)\n",
    "        \n",
    "        # Tokenize the text\n",
    "        tokens = self.tokenize(X)\n",
    "                \n",
    "        complete_dic = Counter(tokens)\n",
    "        \n",
    "        # Rank the tokens depending on their count\n",
    "        lst = list(complete_dic.items())\n",
    "        lst = sorted(lst, key = lambda x: x[1], reverse = True)\n",
    "        word = [x[0] for x in lst]\n",
    "        word_count = [x[1] for x in lst]\n",
    "        self.df = pd.DataFrame({'word':word, 'word_count': word_count})\n",
    "        rank_dict = self.df.to_dict()\n",
    "        self.rank_word = {v:k for k,v in rank_dict['word'].items()}\n",
    "        \n",
    "        self.corpus = list(self.rank_word.keys()) # List of the corpus\n",
    "        self.corpus_len = len(self.corpus) # The number of distinct tokens in the corpus\n",
    "        self.number_words = len(tokens) # The total number of tokens\n",
    "        \n",
    "        return None\n",
    "      \n",
    "        \n",
    "    def predict(self, X, topn = 100):\n",
    "        '''\n",
    "        Predict: Calculate the median usage ranking of the words\n",
    "                 in a string\n",
    "                 \n",
    "        Input: \n",
    "            X (string or list of strings)\n",
    "            topn (int): The % of words in the top-n most frequent words\n",
    "        '''\n",
    "        \n",
    "        try:\n",
    "            object_iterator = iter(X)\n",
    "        except TypeError as te:\n",
    "            print('Error: Input X is not iterable.')\n",
    "        \n",
    "        if not isinstance(X,str):\n",
    "            # If X is a list of strings: Join the strings together\n",
    "            X = \" \".join(X)\n",
    "            \n",
    "        # Tokenize the text\n",
    "        tokens = self.tokenize(X)\n",
    "\n",
    "        # Create a list with the rank of each token\n",
    "        lst_rank = []\n",
    "        for t in tokens:\n",
    "            if t in self.rank_word:\n",
    "                lst_rank.append(self.rank_word[t])\n",
    "                \n",
    "                # If the following part is ignored\n",
    "                # the tokens not in the corpus will be ignored\n",
    "                \n",
    "#             else: \n",
    "                # If a token isn't in the corpus\n",
    "                # add to the list the highest rank (corpus length)\n",
    "#                 lst_rank.append(self.corpus_len)\n",
    "        median = int(np.median(lst_rank))\n",
    "        percent_topn = sum([t < topn for t in lst_rank]) / len(lst_rank)\n",
    "\n",
    "        return median, percent_topn, lst_rank"
   ]
  },
  {
   "cell_type": "code",
   "execution_count": 46,
   "metadata": {},
   "outputs": [],
   "source": [
    "with open('oxford/The_Oxford_3000_by_CEFR_level.txt', 'r') as file:\n",
    "    words = file.read().split()\n",
    "    a12_words = words[words.index('A1') + 5:words.index('B1')]\n",
    "    b1_words = words[words.index('B1') + 1:]"
   ]
  },
  {
   "cell_type": "code",
   "execution_count": 47,
   "metadata": {},
   "outputs": [],
   "source": [
    "with open('oxford/The_Oxford_5000_by_CEFR_level.txt', 'r') as file:\n",
    "    words = file.read().split()\n",
    "    b2_words = words[words.index('B2') + 5:words.index('C1')]\n",
    "    c1_words = words[words.index('C1') + 1:]"
   ]
  },
  {
   "cell_type": "code",
   "execution_count": 48,
   "metadata": {},
   "outputs": [],
   "source": [
    "my_stop_words = ['indefinite', 'article', 'modal']\n",
    "def prepare_words(words: list) -> list:\n",
    "    words = [w for w in words if '.' not in w]\n",
    "    words = [w for w in words if len(w) >= 3]\n",
    "    words = [w for w in words if w not in my_stop_words]\n",
    "    return words"
   ]
  },
  {
   "cell_type": "code",
   "execution_count": 49,
   "metadata": {},
   "outputs": [],
   "source": [
    "a12_words = prepare_words(a12_words)\n",
    "b1_words = prepare_words(b1_words)\n",
    "b2_words = prepare_words(b2_words)\n",
    "c1_words = prepare_words(c1_words)"
   ]
  },
  {
   "cell_type": "code",
   "execution_count": 50,
   "metadata": {},
   "outputs": [],
   "source": [
    "tc = {\n",
    "    'a12' : TextComplexity(),\n",
    "    'b1' : TextComplexity(),\n",
    "    'b2' : TextComplexity(),\n",
    "    'c1' : TextComplexity(),\n",
    "} \n",
    "tc['a12'].fit(a12_words)\n",
    "tc['b1'].fit(b1_words)\n",
    "tc['b2'].fit(b2_words)\n",
    "tc['c1'].fit(c1_words)"
   ]
  },
  {
   "cell_type": "code",
   "execution_count": 51,
   "metadata": {},
   "outputs": [],
   "source": [
    "p = np.array([])\n",
    "for i in ['a12', 'b1', 'b2', 'c1']:\n",
    "    _, temp, _ = tc[i].predict(df.loc['Aladdin(1992)'].subtitle)\n",
    "    p = np.append(p, temp)"
   ]
  },
  {
   "cell_type": "code",
   "execution_count": 52,
   "metadata": {},
   "outputs": [],
   "source": [
    "def Complexity(sentence: str) -> int:\n",
    "    probability = np.array([])\n",
    "    for i in ['a12', 'b1', 'b2', 'c1']:\n",
    "        _, p, _ = tc[i].predict(sentence)\n",
    "        probability = np.append(probability, p)\n",
    "    return probability.argmax()"
   ]
  },
  {
   "cell_type": "code",
   "execution_count": 55,
   "metadata": {},
   "outputs": [],
   "source": [
    "y_pred = df.lemma_clear_text.apply(lambda text: Complexity(text))"
   ]
  },
  {
   "cell_type": "code",
   "execution_count": 57,
   "metadata": {},
   "outputs": [
    {
     "name": "stdout",
     "output_type": "stream",
     "text": [
      "              precision    recall  f1-score   support\n",
      "\n",
      "           0       0.33      0.06      0.10        36\n",
      "           1       0.00      0.00      0.00        61\n",
      "           2       0.49      0.60      0.54        97\n",
      "           3       0.17      0.70      0.28        23\n",
      "\n",
      "    accuracy                           0.35       217\n",
      "   macro avg       0.25      0.34      0.23       217\n",
      "weighted avg       0.29      0.35      0.29       217\n",
      "\n"
     ]
    },
    {
     "name": "stderr",
     "output_type": "stream",
     "text": [
      "c:\\Users\\miroshkin\\AppData\\Local\\Programs\\Python\\Python39\\lib\\site-packages\\sklearn\\metrics\\_classification.py:1344: UndefinedMetricWarning: Precision and F-score are ill-defined and being set to 0.0 in labels with no predicted samples. Use `zero_division` parameter to control this behavior.\n",
      "  _warn_prf(average, modifier, msg_start, len(result))\n",
      "c:\\Users\\miroshkin\\AppData\\Local\\Programs\\Python\\Python39\\lib\\site-packages\\sklearn\\metrics\\_classification.py:1344: UndefinedMetricWarning: Precision and F-score are ill-defined and being set to 0.0 in labels with no predicted samples. Use `zero_division` parameter to control this behavior.\n",
      "  _warn_prf(average, modifier, msg_start, len(result))\n",
      "c:\\Users\\miroshkin\\AppData\\Local\\Programs\\Python\\Python39\\lib\\site-packages\\sklearn\\metrics\\_classification.py:1344: UndefinedMetricWarning: Precision and F-score are ill-defined and being set to 0.0 in labels with no predicted samples. Use `zero_division` parameter to control this behavior.\n",
      "  _warn_prf(average, modifier, msg_start, len(result))\n"
     ]
    }
   ],
   "source": [
    "print(classification_report(df.level, y_pred))"
   ]
  },
  {
   "cell_type": "code",
   "execution_count": 59,
   "metadata": {},
   "outputs": [
    {
     "data": {
      "image/png": "[encoded data removed]",
      "text/plain": [
       "<Figure size 640x480 with 2 Axes>"
      ]
     },
     "metadata": {},
     "output_type": "display_data"
    }
   ],
   "source": [
    "plot_confusion_matrix(df.level, y_pred)"
   ]
  },
  {
   "attachments": {},
   "cell_type": "markdown",
   "metadata": {},
   "source": [
    "## BERT"
   ]
  },
  {
   "cell_type": "code",
   "execution_count": 72,
   "metadata": {},
   "outputs": [],
   "source": [
    "from bert_dataset import CustomDataset\n",
    "from bert_classifier import BertClassifier"
   ]
  },
  {
   "cell_type": "code",
   "execution_count": 73,
   "metadata": {},
   "outputs": [
    {
     "name": "stderr",
     "output_type": "stream",
     "text": [
      "Some layers from the model checkpoint at bert-base-uncased were not used when initializing TFBertModel: ['mlm___cls', 'nsp___cls']\n",
      "- This IS expected if you are initializing TFBertModel from the checkpoint of a model trained on another task or with another architecture (e.g. initializing a BertForSequenceClassification model from a BertForPreTraining model).\n",
      "- This IS NOT expected if you are initializing TFBertModel from the checkpoint of a model that you expect to be exactly identical (initializing a BertForSequenceClassification model from a BertForSequenceClassification model).\n",
      "All the layers of TFBertModel were initialized from the model checkpoint at bert-base-uncased.\n",
      "If your task is similar to the task the model of the checkpoint was trained on, you can already use TFBertModel for predictions without further training.\n"
     ]
    }
   ],
   "source": [
    "model = TFAutoModel.from_pretrained(\"bert-base-uncased\")\n",
    "tokenizer = AutoTokenizer.from_pretrained(\"bert-base-uncased\")"
   ]
  },
  {
   "cell_type": "code",
   "execution_count": 74,
   "metadata": {},
   "outputs": [
    {
     "name": "stderr",
     "output_type": "stream",
     "text": [
      "Some weights of the model checkpoint at bert-base-uncased were not used when initializing BertForSequenceClassification: ['cls.predictions.transform.dense.weight', 'cls.seq_relationship.bias', 'cls.predictions.decoder.weight', 'cls.predictions.transform.LayerNorm.weight', 'cls.predictions.transform.dense.bias', 'cls.seq_relationship.weight', 'cls.predictions.transform.LayerNorm.bias', 'cls.predictions.bias']\n",
      "- This IS expected if you are initializing BertForSequenceClassification from the checkpoint of a model trained on another task or with another architecture (e.g. initializing a BertForSequenceClassification model from a BertForPreTraining model).\n",
      "- This IS NOT expected if you are initializing BertForSequenceClassification from the checkpoint of a model that you expect to be exactly identical (initializing a BertForSequenceClassification model from a BertForSequenceClassification model).\n",
      "Some weights of BertForSequenceClassification were not initialized from the model checkpoint at bert-base-uncased and are newly initialized: ['classifier.weight', 'classifier.bias']\n",
      "You should probably TRAIN this model on a down-stream task to be able to use it for predictions and inference.\n"
     ]
    }
   ],
   "source": [
    "classifier = BertClassifier(\n",
    "        model_path='bert-base-uncased',\n",
    "        tokenizer_path='bert-base-uncased',\n",
    "        n_classes=y_train.nunique(),\n",
    "        epochs=2,\n",
    "        model_save_path='content/bert.pt'\n",
    ")"
   ]
  },
  {
   "cell_type": "code",
   "execution_count": 75,
   "metadata": {},
   "outputs": [
    {
     "name": "stderr",
     "output_type": "stream",
     "text": [
      "c:\\Users\\miroshkin\\AppData\\Local\\Programs\\Python\\Python39\\lib\\site-packages\\transformers\\optimization.py:306: FutureWarning: This implementation of AdamW is deprecated and will be removed in a future version. Use the PyTorch implementation torch.optim.AdamW instead, or set `no_deprecation_warning=True` to disable this warning\n",
      "  warnings.warn(\n"
     ]
    }
   ],
   "source": [
    "classifier.preparation(\n",
    "        X_train=list(X_train),\n",
    "        y_train=list(y_train),\n",
    "        X_valid=list(X_test),\n",
    "        y_valid=list(y_test)\n",
    "    )"
   ]
  },
  {
   "cell_type": "code",
   "execution_count": 76,
   "metadata": {},
   "outputs": [
    {
     "name": "stdout",
     "output_type": "stream",
     "text": [
      "CPU times: total: 0 ns\n",
      "Wall time: 0 ns\n",
      "Epoch 1/2\n",
      "Train loss 1.3089609173522598 accuracy 0.3850574712643678\n",
      "Val loss 1.1711469054222108 accuracy 0.5254237288135594\n",
      "----------\n",
      "Epoch 2/2\n",
      "Train loss 1.2307004681092568 accuracy 0.4367816091954023\n",
      "Val loss 1.1384449392557143 accuracy 0.5254237288135594\n",
      "----------\n"
     ]
    }
   ],
   "source": [
    "%time\n",
    "classifier.train()"
   ]
  },
  {
   "cell_type": "code",
   "execution_count": 81,
   "metadata": {},
   "outputs": [],
   "source": [
    "y_pred = [classifier.predict(t) for t in X_test]"
   ]
  },
  {
   "cell_type": "code",
   "execution_count": 82,
   "metadata": {},
   "outputs": [
    {
     "name": "stdout",
     "output_type": "stream",
     "text": [
      "              precision    recall  f1-score   support\n",
      "\n",
      "           0       0.00      0.00      0.00         9\n",
      "           1       0.00      0.00      0.00        14\n",
      "           2       0.48      1.00      0.65        26\n",
      "           3       1.00      0.50      0.67        10\n",
      "\n",
      "    accuracy                           0.53        59\n",
      "   macro avg       0.37      0.38      0.33        59\n",
      "weighted avg       0.38      0.53      0.40        59\n",
      "\n"
     ]
    },
    {
     "name": "stderr",
     "output_type": "stream",
     "text": [
      "c:\\Users\\miroshkin\\AppData\\Local\\Programs\\Python\\Python39\\lib\\site-packages\\sklearn\\metrics\\_classification.py:1344: UndefinedMetricWarning: Precision and F-score are ill-defined and being set to 0.0 in labels with no predicted samples. Use `zero_division` parameter to control this behavior.\n",
      "  _warn_prf(average, modifier, msg_start, len(result))\n",
      "c:\\Users\\miroshkin\\AppData\\Local\\Programs\\Python\\Python39\\lib\\site-packages\\sklearn\\metrics\\_classification.py:1344: UndefinedMetricWarning: Precision and F-score are ill-defined and being set to 0.0 in labels with no predicted samples. Use `zero_division` parameter to control this behavior.\n",
      "  _warn_prf(average, modifier, msg_start, len(result))\n",
      "c:\\Users\\miroshkin\\AppData\\Local\\Programs\\Python\\Python39\\lib\\site-packages\\sklearn\\metrics\\_classification.py:1344: UndefinedMetricWarning: Precision and F-score are ill-defined and being set to 0.0 in labels with no predicted samples. Use `zero_division` parameter to control this behavior.\n",
      "  _warn_prf(average, modifier, msg_start, len(result))\n"
     ]
    }
   ],
   "source": [
    "print(classification_report(y_test, y_pred))"
   ]
  }
 ],
 "metadata": {
  "kernelspec": {
   "display_name": "base",
   "language": "python",
   "name": "python3"
  },
  "language_info": {
   "codemirror_mode": {
    "name": "ipython",
    "version": 3
   },
   "file_extension": ".py",
   "mimetype": "text/x-python",
   "name": "python",
   "nbconvert_exporter": "python",
   "pygments_lexer": "ipython3",
   "version": "3.9.6"
  },
  "orig_nbformat": 4
 },
 "nbformat": 4,
 "nbformat_minor": 2
}
