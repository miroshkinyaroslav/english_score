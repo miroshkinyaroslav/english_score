{
 "cells": [
  {
   "attachments": {},
   "cell_type": "markdown",
   "metadata": {},
   "source": [
    "### Проект выполнил\n",
    "Ф.И.О Мирошкин Ярослав Андреевич <br>\n",
    "Telegram - https://t.me/MiroshkinYaroslav"
   ]
  },
  {
   "attachments": {},
   "cell_type": "markdown",
   "metadata": {},
   "source": [
    "## Описание проекта\n",
    "\n",
    "## Цели\n",
    "\n",
    "## Описание данных"
   ]
  },
  {
   "attachments": {},
   "cell_type": "markdown",
   "metadata": {},
   "source": [
    "# English Score\n"
   ]
  },
  {
   "cell_type": "code",
   "execution_count": 8,
   "metadata": {},
   "outputs": [],
   "source": [
    "import os\n",
    "import pysrt as srt\n",
    "import pandas as pd\n",
    "import numpy as np"
   ]
  },
  {
   "attachments": {},
   "cell_type": "markdown",
   "metadata": {},
   "source": [
    "### Парсинг данных и чтение данных"
   ]
  },
  {
   "cell_type": "code",
   "execution_count": 9,
   "metadata": {},
   "outputs": [],
   "source": [
    "movies_labels = pd.read_excel('english_scores\\movies_labels.xlsx', index_col='Movie').drop('id', axis=1)\n",
    "paths = ['english_scores/subtitles_all/subtitles/',\n",
    "         'english_scores/subtitles_all/A2/',\n",
    "         'english_scores/subtitles_all/B1/',\n",
    "         'english_scores/subtitles_all/B2/',\n",
    "         'english_scores/subtitles_all/C1/']\n",
    "#subtitles_list = os.listdir('english_scores/subtitles_all/subtitles')\n",
    "data = {}\n",
    "for path in paths:\n",
    "    for sub_name in os.listdir(path[:-1]):\n",
    "        try:\n",
    "            subs = srt.open(path + sub_name, encoding='utf-8')\n",
    "        except:\n",
    "            subs = srt.open(path + sub_name, encoding='ISO-8859-1')\n",
    "        sub_list = \" \".join([sub.text for sub in subs])\n",
    "        data[sub_name[:-4]] = sub_list\n"
   ]
  },
  {
   "cell_type": "code",
   "execution_count": 10,
   "metadata": {},
   "outputs": [
    {
     "data": {
      "text/html": [
       "<div>\n",
       "<style scoped>\n",
       "    .dataframe tbody tr th:only-of-type {\n",
       "        vertical-align: middle;\n",
       "    }\n",
       "\n",
       "    .dataframe tbody tr th {\n",
       "        vertical-align: top;\n",
       "    }\n",
       "\n",
       "    .dataframe thead th {\n",
       "        text-align: right;\n",
       "    }\n",
       "</style>\n",
       "<table border=\"1\" class=\"dataframe\">\n",
       "  <thead>\n",
       "    <tr style=\"text-align: right;\">\n",
       "      <th></th>\n",
       "      <th>subtitle</th>\n",
       "    </tr>\n",
       "  </thead>\n",
       "  <tbody>\n",
       "    <tr>\n",
       "      <th>10_Cloverfield_lane(2016)</th>\n",
       "      <td>&lt;font color=\"#ffff80\"&gt;&lt;b&gt;Fixed &amp; Synced by boz...</td>\n",
       "    </tr>\n",
       "    <tr>\n",
       "      <th>10_things_I_hate_about_you(1999)</th>\n",
       "      <td>Hey! I'll be right with you. So, Cameron. Here...</td>\n",
       "    </tr>\n",
       "    <tr>\n",
       "      <th>Aladdin(1992)</th>\n",
       "      <td>&lt;i&gt;Oh, I come from a land\\nFrom a faraway plac...</td>\n",
       "    </tr>\n",
       "  </tbody>\n",
       "</table>\n",
       "</div>"
      ],
      "text/plain": [
       "                                                                           subtitle\n",
       "10_Cloverfield_lane(2016)         <font color=\"#ffff80\"><b>Fixed & Synced by boz...\n",
       "10_things_I_hate_about_you(1999)  Hey! I'll be right with you. So, Cameron. Here...\n",
       "Aladdin(1992)                     <i>Oh, I come from a land\\nFrom a faraway plac..."
      ]
     },
     "execution_count": 10,
     "metadata": {},
     "output_type": "execute_result"
    }
   ],
   "source": [
    "df = pd.DataFrame(data.values(), index=data.keys(), columns=['subtitle'])\n",
    "df.head(3)"
   ]
  },
  {
   "attachments": {},
   "cell_type": "markdown",
   "metadata": {},
   "source": [
    "Получен датасет, где:<br>\n",
    "индексы - названия фильмов<br>\n",
    "subtitle - субтитры в строков формате <br><br>\n",
    "Оценим общее количество символов в \"сыром датасете\""
   ]
  },
  {
   "cell_type": "code",
   "execution_count": 11,
   "metadata": {},
   "outputs": [
    {
     "name": "stdout",
     "output_type": "stream",
     "text": [
      "Общее количество символов в субтитрах: 11,188,852\n"
     ]
    }
   ],
   "source": [
    "print(f'Общее количество символов в субтитрах: {df.subtitle.str.len().sum():,.0f}')"
   ]
  },
  {
   "attachments": {},
   "cell_type": "markdown",
   "metadata": {},
   "source": [
    "Добавим в датасет разметку"
   ]
  },
  {
   "cell_type": "code",
   "execution_count": 12,
   "metadata": {},
   "outputs": [
    {
     "data": {
      "text/html": [
       "<div>\n",
       "<style scoped>\n",
       "    .dataframe tbody tr th:only-of-type {\n",
       "        vertical-align: middle;\n",
       "    }\n",
       "\n",
       "    .dataframe tbody tr th {\n",
       "        vertical-align: top;\n",
       "    }\n",
       "\n",
       "    .dataframe thead th {\n",
       "        text-align: right;\n",
       "    }\n",
       "</style>\n",
       "<table border=\"1\" class=\"dataframe\">\n",
       "  <thead>\n",
       "    <tr style=\"text-align: right;\">\n",
       "      <th></th>\n",
       "      <th>Level</th>\n",
       "    </tr>\n",
       "    <tr>\n",
       "      <th>Movie</th>\n",
       "      <th></th>\n",
       "    </tr>\n",
       "  </thead>\n",
       "  <tbody>\n",
       "    <tr>\n",
       "      <th>10_Cloverfield_lane(2016)</th>\n",
       "      <td>B1</td>\n",
       "    </tr>\n",
       "    <tr>\n",
       "      <th>10_things_I_hate_about_you(1999)</th>\n",
       "      <td>B1</td>\n",
       "    </tr>\n",
       "    <tr>\n",
       "      <th>A_knights_tale(2001)</th>\n",
       "      <td>B2</td>\n",
       "    </tr>\n",
       "  </tbody>\n",
       "</table>\n",
       "</div>"
      ],
      "text/plain": [
       "                                 Level\n",
       "Movie                                 \n",
       "10_Cloverfield_lane(2016)           B1\n",
       "10_things_I_hate_about_you(1999)    B1\n",
       "A_knights_tale(2001)                B2"
      ]
     },
     "execution_count": 12,
     "metadata": {},
     "output_type": "execute_result"
    }
   ],
   "source": [
    "movies_labels.head(3)"
   ]
  },
  {
   "cell_type": "code",
   "execution_count": 13,
   "metadata": {},
   "outputs": [
    {
     "name": "stdout",
     "output_type": "stream",
     "text": [
      "Количество файлов субтитров: 278\n",
      "Количество строк в разметке: 241\n"
     ]
    }
   ],
   "source": [
    "print(f'Количество файлов субтитров: {df.subtitle.count()}\\n\\\n",
    "Количество строк в разметке: {movies_labels.Level.count()}')"
   ]
  },
  {
   "attachments": {},
   "cell_type": "markdown",
   "metadata": {},
   "source": [
    "Часть данных не размечена"
   ]
  },
  {
   "cell_type": "code",
   "execution_count": 14,
   "metadata": {},
   "outputs": [
    {
     "data": {
      "text/html": [
       "<div>\n",
       "<style scoped>\n",
       "    .dataframe tbody tr th:only-of-type {\n",
       "        vertical-align: middle;\n",
       "    }\n",
       "\n",
       "    .dataframe tbody tr th {\n",
       "        vertical-align: top;\n",
       "    }\n",
       "\n",
       "    .dataframe thead th {\n",
       "        text-align: right;\n",
       "    }\n",
       "</style>\n",
       "<table border=\"1\" class=\"dataframe\">\n",
       "  <thead>\n",
       "    <tr style=\"text-align: right;\">\n",
       "      <th></th>\n",
       "      <th>subtitle</th>\n",
       "      <th>level</th>\n",
       "    </tr>\n",
       "  </thead>\n",
       "  <tbody>\n",
       "    <tr>\n",
       "      <th>10_Cloverfield_lane(2016)</th>\n",
       "      <td>&lt;font color=\"#ffff80\"&gt;&lt;b&gt;Fixed &amp; Synced by boz...</td>\n",
       "      <td>B1</td>\n",
       "    </tr>\n",
       "    <tr>\n",
       "      <th>10_things_I_hate_about_you(1999)</th>\n",
       "      <td>Hey! I'll be right with you. So, Cameron. Here...</td>\n",
       "      <td>B1</td>\n",
       "    </tr>\n",
       "  </tbody>\n",
       "</table>\n",
       "</div>"
      ],
      "text/plain": [
       "                                                                           subtitle  \\\n",
       "10_Cloverfield_lane(2016)         <font color=\"#ffff80\"><b>Fixed & Synced by boz...   \n",
       "10_things_I_hate_about_you(1999)  Hey! I'll be right with you. So, Cameron. Here...   \n",
       "\n",
       "                                 level  \n",
       "10_Cloverfield_lane(2016)           B1  \n",
       "10_things_I_hate_about_you(1999)    B1  "
      ]
     },
     "execution_count": 14,
     "metadata": {},
     "output_type": "execute_result"
    }
   ],
   "source": [
    "df = df.join(movies_labels)\n",
    "df = df.rename(columns={'Level': 'level'})\n",
    "df.head(2)"
   ]
  }
 ],
 "metadata": {
  "kernelspec": {
   "display_name": "base",
   "language": "python",
   "name": "python3"
  },
  "language_info": {
   "codemirror_mode": {
    "name": "ipython",
    "version": 3
   },
   "file_extension": ".py",
   "mimetype": "text/x-python",
   "name": "python",
   "nbconvert_exporter": "python",
   "pygments_lexer": "ipython3",
   "version": "3.10.9"
  },
  "orig_nbformat": 4
 },
 "nbformat": 4,
 "nbformat_minor": 2
}
