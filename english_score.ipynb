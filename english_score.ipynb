{
 "cells": [
  {
   "attachments": {},
   "cell_type": "markdown",
   "metadata": {},
   "source": [
    "### Проект выполнил\n",
    "Ф.И.О Мирошкин Ярослав Андреевич <br>\n",
    "Telegram - https://t.me/MiroshkinYaroslav"
   ]
  },
  {
   "attachments": {},
   "cell_type": "markdown",
   "metadata": {},
   "source": [
    "## Описание проекта\n",
    "Необходимо на основе имеющихся размеченных субтитров на английском языке автоматизировать процесс подбора фильма по заданному уровню английского языка.   \n",
    "\n",
    "## Тип задачи\n",
    "* Обработка естественного языка\n",
    "* Обучение с учителем\n",
    "* Ранжирование\n",
    "\n",
    "## Цели\n",
    "* Разработать модель машинного обучения позволяющую предсказать необходимый уровень английского языка для просмотра фильма \n",
    "\n",
    "## Описание данных\n",
    "* Субтитры на английском языке разного (известного) уровня сложности. От A1+ (elementary) до C1 (Advanced). "
   ]
  },
  {
   "attachments": {},
   "cell_type": "markdown",
   "metadata": {},
   "source": [
    "# English Score\n"
   ]
  },
  {
   "cell_type": "code",
   "execution_count": 1,
   "metadata": {},
   "outputs": [
    {
     "name": "stderr",
     "output_type": "stream",
     "text": [
      "c:\\Users\\miroshkin\\AppData\\Local\\Programs\\Python\\Python39\\lib\\site-packages\\tqdm\\auto.py:21: TqdmWarning: IProgress not found. Please update jupyter and ipywidgets. See https://ipywidgets.readthedocs.io/en/stable/user_install.html\n",
      "  from .autonotebook import tqdm as notebook_tqdm\n",
      "[nltk_data] Downloading package stopwords to\n",
      "[nltk_data]     C:\\Users\\miroshkin\\AppData\\Roaming\\nltk_data...\n",
      "[nltk_data]   Package stopwords is already up-to-date!\n",
      "[nltk_data] Downloading package punkt to\n",
      "[nltk_data]     C:\\Users\\miroshkin\\AppData\\Roaming\\nltk_data...\n",
      "[nltk_data]   Package punkt is already up-to-date!\n"
     ]
    }
   ],
   "source": [
    "import os\n",
    "import pysrt as srt\n",
    "import pandas as pd\n",
    "import numpy as np\n",
    "import matplotlib.pyplot as plt\n",
    "import seaborn as sns\n",
    "import spacy\n",
    "import pickle\n",
    "import optuna\n",
    "import pprint\n",
    "import re\n",
    "import torch\n",
    "import tensorflow as tf\n",
    "import warnings\n",
    "\n",
    "\n",
    "import lightgbm as lgb\n",
    "\n",
    "import nltk\n",
    "from nltk.corpus import stopwords\n",
    "\n",
    "from catboost import CatBoostClassifier, Pool\n",
    "\n",
    "from sklearn.feature_extraction.text import (CountVectorizer,\n",
    "                                             TfidfTransformer,\n",
    "                                             TfidfVectorizer)\n",
    "from sklearn.model_selection import train_test_split, KFold\n",
    "from sklearn.metrics import (\n",
    "    ConfusionMatrixDisplay, confusion_matrix,\n",
    "    f1_score, roc_auc_score,\n",
    "    classification_report, make_scorer,\n",
    "    precision_recall_fscore_support,\n",
    "    accuracy_score,\n",
    ")\n",
    "from sklearn.utils.class_weight import compute_class_weight\n",
    "from sklearn.ensemble import RandomForestClassifier\n",
    "from sklearn.linear_model import LogisticRegression\n",
    "from sklearn.model_selection import (RandomizedSearchCV,\n",
    "GridSearchCV)\n",
    "from sklearn.neighbors import  KNeighborsClassifier\n",
    "\n",
    "from transformers import TFAutoModel, AutoTokenizer\n",
    "\n",
    "from datasets import load_dataset\n",
    "\n",
    "\n",
    "warnings.filterwarnings(\"ignore\")\n",
    "\n",
    "nltk.download('stopwords')\n",
    "nltk.download('punkt')\n",
    "\n",
    "STATE = 0\n",
    "N_FOLDS = 3"
   ]
  },
  {
   "cell_type": "code",
   "execution_count": 2,
   "metadata": {},
   "outputs": [],
   "source": [
    "def plot_confusion_matrix(y_true, y_pred):\n",
    "    cm = confusion_matrix(y_true, y_pred)\n",
    "    cmp = ConfusionMatrixDisplay(cm)\n",
    "    cmp.plot()\n"
   ]
  },
  {
   "cell_type": "code",
   "execution_count": 3,
   "metadata": {},
   "outputs": [],
   "source": [
    "def my_bar(data: pd.Series, dropna=True, title='', xlabel='', ylabel=''):\n",
    "    distribution = data.value_counts(dropna=dropna, normalize=False)\n",
    "    distribution_normalized = data.value_counts(dropna=dropna, normalize=True)\n",
    "    _, ax = plt.subplots(1)\n",
    "    sns.barplot(x=distribution_normalized.index, y=distribution_normalized.values).set(\n",
    "    title=title, xlabel=xlabel, ylabel=ylabel)\n",
    "    for a, p in enumerate(ax.patches):\n",
    "        text = str(distribution.iloc[a])\n",
    "        ax.annotate(text, xy=(p.get_x() + p.get_width() / 2, 0.8 * p.get_height()), \\\n",
    "        size=13, color='black', ha = 'center', va = 'center',\n",
    "        bbox = dict(boxstyle = 'round',\\\n",
    "        facecolor='none',edgecolor='black', alpha = 0.5) )\n",
    "\n",
    "def my_kde(df: pd.DataFrame(), col=''):\n",
    "    f, (ax_kde, ax_box) = plt.subplots(2, gridspec_kw={\"height_ratios\": (0.85, 0.15)}, sharex=True)\n",
    "    sns.kdeplot(df, alpha=0.3, fill=True, color='green', ax=ax_kde)\n",
    "    ax_kde.set(xlabel='', yticks=[])\n",
    "    ax_kde.set_title(col, fontsize=16)\n",
    "    sns.boxplot(data=df, orient='h', ax=ax_box, color='green')\n",
    "    plt.subplots_adjust(hspace=0)\n",
    "    ax_box.set_xlabel('')\n",
    "\n",
    "def check_overfitting(model, X_train, y_train, X_test, y_test, metric_fun, return_delta=False):\n",
    "    y_pred_train = model.predict(X_train)\n",
    "    y_pred_test = model.predict(X_test)\n",
    "    metric_train = metric_fun(y_train, y_pred_train, average='macro')\n",
    "    metric_test = metric_fun(y_test, y_pred_test, average='macro')\n",
    "    if return_delta:\n",
    "        return round((abs(metric_train - metric_test)/metric_train*100), 2)\n",
    "    else:\n",
    "        print(f'{metric_fun.__name__} train: %.3f' % metric_train)\n",
    "        print(f'{metric_fun.__name__} test: %.3f' % metric_test)\n",
    "        print(f'delta = {(abs(metric_train - metric_test)/metric_train*100):.1f} %')\n",
    "    \n",
    "def get_metrics(y_true, y_pred, name='None', metrics=None):\n",
    "    presision, recall, f1, sup = precision_recall_fscore_support(y_test, \n",
    "                            y_pred)\n",
    "    presision, recall, f1 = presision.mean(), recall.mean(), f1.mean()\n",
    "    result = pd.DataFrame(data={'precision': presision,\n",
    "                                'recall': recall,\n",
    "                                'f1_score': f1,\n",
    "                                'accuracy': accuracy_score(y_true, y_pred)}, \n",
    "                                index=[name]).round(2)\n",
    "    if metrics is None:\n",
    "        return result\n",
    "    else:\n",
    "        return pd.concat([metrics, result], axis=0)"
   ]
  },
  {
   "attachments": {},
   "cell_type": "markdown",
   "metadata": {},
   "source": [
    "## Чтение данных"
   ]
  },
  {
   "cell_type": "code",
   "execution_count": 4,
   "metadata": {},
   "outputs": [],
   "source": [
    "movies_labels = pd.read_excel('english_scores\\movies_labels.xlsx', index_col='Movie').drop('id', axis=1)\n",
    "paths = ['english_scores/subtitles_all/subtitles/',\n",
    "         'english_scores/subtitles_all/A2/',\n",
    "         'english_scores/subtitles_all/B1/',\n",
    "         'english_scores/subtitles_all/B2/',\n",
    "         'english_scores/subtitles_all/C1/',\n",
    "         'subtitles/']\n",
    "data = {}\n",
    "for path in paths:\n",
    "    for sub_name in os.listdir(path[:-1]):\n",
    "        try:\n",
    "            subs = srt.open(path + sub_name, encoding='utf-8')\n",
    "        except:\n",
    "            subs = srt.open(path + sub_name, encoding='ISO-8859-1')\n",
    "        sub_list = \" \".join([sub.text for sub in subs])\n",
    "        data[sub_name[:-4]] = sub_list\n"
   ]
  },
  {
   "cell_type": "code",
   "execution_count": 5,
   "metadata": {},
   "outputs": [
    {
     "data": {
      "text/html": [
       "<div>\n",
       "<style scoped>\n",
       "    .dataframe tbody tr th:only-of-type {\n",
       "        vertical-align: middle;\n",
       "    }\n",
       "\n",
       "    .dataframe tbody tr th {\n",
       "        vertical-align: top;\n",
       "    }\n",
       "\n",
       "    .dataframe thead th {\n",
       "        text-align: right;\n",
       "    }\n",
       "</style>\n",
       "<table border=\"1\" class=\"dataframe\">\n",
       "  <thead>\n",
       "    <tr style=\"text-align: right;\">\n",
       "      <th></th>\n",
       "      <th>subtitle</th>\n",
       "    </tr>\n",
       "  </thead>\n",
       "  <tbody>\n",
       "    <tr>\n",
       "      <th>10_Cloverfield_lane(2016)</th>\n",
       "      <td>&lt;font color=\"#ffff80\"&gt;&lt;b&gt;Fixed &amp; Synced by boz...</td>\n",
       "    </tr>\n",
       "    <tr>\n",
       "      <th>10_things_I_hate_about_you(1999)</th>\n",
       "      <td>Hey! I'll be right with you. So, Cameron. Here...</td>\n",
       "    </tr>\n",
       "    <tr>\n",
       "      <th>Aladdin(1992)</th>\n",
       "      <td>&lt;i&gt;Oh, I come from a land\\nFrom a faraway plac...</td>\n",
       "    </tr>\n",
       "  </tbody>\n",
       "</table>\n",
       "</div>"
      ],
      "text/plain": [
       "                                                                           subtitle\n",
       "10_Cloverfield_lane(2016)         <font color=\"#ffff80\"><b>Fixed & Synced by boz...\n",
       "10_things_I_hate_about_you(1999)  Hey! I'll be right with you. So, Cameron. Here...\n",
       "Aladdin(1992)                     <i>Oh, I come from a land\\nFrom a faraway plac..."
      ]
     },
     "execution_count": 5,
     "metadata": {},
     "output_type": "execute_result"
    }
   ],
   "source": [
    "df = pd.DataFrame(data.values(), index=data.keys(), columns=['subtitle'])\n",
    "df.head(3)"
   ]
  },
  {
   "attachments": {},
   "cell_type": "markdown",
   "metadata": {},
   "source": [
    "Получен датасет, где:<br>\n",
    "индексы - названия фильмов<br>\n",
    "subtitle - субтитры в строков формате <br><br>\n",
    "Оценим общее количество символов в \"сыром датасете\""
   ]
  },
  {
   "cell_type": "code",
   "execution_count": 6,
   "metadata": {},
   "outputs": [
    {
     "name": "stdout",
     "output_type": "stream",
     "text": [
      "Общее количество символов в субтитрах: 11,277,626\n"
     ]
    }
   ],
   "source": [
    "print(f'Общее количество символов в субтитрах: {df.subtitle.str.len().sum():,.0f}')"
   ]
  },
  {
   "attachments": {},
   "cell_type": "markdown",
   "metadata": {},
   "source": [
    "## Добавление и обработка разметки"
   ]
  },
  {
   "attachments": {},
   "cell_type": "markdown",
   "metadata": {},
   "source": [
    "Добавим в датасет разметку"
   ]
  },
  {
   "cell_type": "code",
   "execution_count": 7,
   "metadata": {},
   "outputs": [
    {
     "data": {
      "text/html": [
       "<div>\n",
       "<style scoped>\n",
       "    .dataframe tbody tr th:only-of-type {\n",
       "        vertical-align: middle;\n",
       "    }\n",
       "\n",
       "    .dataframe tbody tr th {\n",
       "        vertical-align: top;\n",
       "    }\n",
       "\n",
       "    .dataframe thead th {\n",
       "        text-align: right;\n",
       "    }\n",
       "</style>\n",
       "<table border=\"1\" class=\"dataframe\">\n",
       "  <thead>\n",
       "    <tr style=\"text-align: right;\">\n",
       "      <th></th>\n",
       "      <th>Level</th>\n",
       "    </tr>\n",
       "    <tr>\n",
       "      <th>Movie</th>\n",
       "      <th></th>\n",
       "    </tr>\n",
       "  </thead>\n",
       "  <tbody>\n",
       "    <tr>\n",
       "      <th>10_Cloverfield_lane(2016)</th>\n",
       "      <td>B1</td>\n",
       "    </tr>\n",
       "    <tr>\n",
       "      <th>10_things_I_hate_about_you(1999)</th>\n",
       "      <td>B1</td>\n",
       "    </tr>\n",
       "    <tr>\n",
       "      <th>A_knights_tale(2001)</th>\n",
       "      <td>B2</td>\n",
       "    </tr>\n",
       "  </tbody>\n",
       "</table>\n",
       "</div>"
      ],
      "text/plain": [
       "                                 Level\n",
       "Movie                                 \n",
       "10_Cloverfield_lane(2016)           B1\n",
       "10_things_I_hate_about_you(1999)    B1\n",
       "A_knights_tale(2001)                B2"
      ]
     },
     "execution_count": 7,
     "metadata": {},
     "output_type": "execute_result"
    }
   ],
   "source": [
    "movies_labels.head(3)"
   ]
  },
  {
   "cell_type": "code",
   "execution_count": 8,
   "metadata": {},
   "outputs": [
    {
     "name": "stdout",
     "output_type": "stream",
     "text": [
      "Количество файлов субтитров: 279\n",
      "Количество строк в разметке: 241\n"
     ]
    }
   ],
   "source": [
    "print(f'Количество файлов субтитров: {df.subtitle.count()}\\n\\\n",
    "Количество строк в разметке: {movies_labels.Level.count()}')"
   ]
  },
  {
   "attachments": {},
   "cell_type": "markdown",
   "metadata": {},
   "source": [
    "Часть данных не размечена"
   ]
  },
  {
   "cell_type": "code",
   "execution_count": 9,
   "metadata": {},
   "outputs": [
    {
     "data": {
      "text/html": [
       "<div>\n",
       "<style scoped>\n",
       "    .dataframe tbody tr th:only-of-type {\n",
       "        vertical-align: middle;\n",
       "    }\n",
       "\n",
       "    .dataframe tbody tr th {\n",
       "        vertical-align: top;\n",
       "    }\n",
       "\n",
       "    .dataframe thead th {\n",
       "        text-align: right;\n",
       "    }\n",
       "</style>\n",
       "<table border=\"1\" class=\"dataframe\">\n",
       "  <thead>\n",
       "    <tr style=\"text-align: right;\">\n",
       "      <th></th>\n",
       "      <th>subtitle</th>\n",
       "      <th>level</th>\n",
       "    </tr>\n",
       "  </thead>\n",
       "  <tbody>\n",
       "    <tr>\n",
       "      <th>10_Cloverfield_lane(2016)</th>\n",
       "      <td>&lt;font color=\"#ffff80\"&gt;&lt;b&gt;Fixed &amp; Synced by boz...</td>\n",
       "      <td>B1</td>\n",
       "    </tr>\n",
       "    <tr>\n",
       "      <th>10_things_I_hate_about_you(1999)</th>\n",
       "      <td>Hey! I'll be right with you. So, Cameron. Here...</td>\n",
       "      <td>B1</td>\n",
       "    </tr>\n",
       "  </tbody>\n",
       "</table>\n",
       "</div>"
      ],
      "text/plain": [
       "                                                                           subtitle   \n",
       "10_Cloverfield_lane(2016)         <font color=\"#ffff80\"><b>Fixed & Synced by boz...  \\\n",
       "10_things_I_hate_about_you(1999)  Hey! I'll be right with you. So, Cameron. Here...   \n",
       "\n",
       "                                 level  \n",
       "10_Cloverfield_lane(2016)           B1  \n",
       "10_things_I_hate_about_you(1999)    B1  "
      ]
     },
     "execution_count": 9,
     "metadata": {},
     "output_type": "execute_result"
    }
   ],
   "source": [
    "df = df.join(movies_labels)\n",
    "df = df.rename(columns={'Level': 'level'})\n",
    "df.head(2)"
   ]
  },
  {
   "attachments": {},
   "cell_type": "markdown",
   "metadata": {},
   "source": [
    "Проанализируем баланс классов в `level`"
   ]
  },
  {
   "cell_type": "code",
   "execution_count": 10,
   "metadata": {},
   "outputs": [
    {
     "data": {
      "image/png": "[encoded data removed]",
      "text/plain": [
       "<Figure size 640x480 with 1 Axes>"
      ]
     },
     "metadata": {},
     "output_type": "display_data"
    }
   ],
   "source": [
    "my_bar(df.level, dropna=False, title='Распределение уровней английского в субтитрах',\\\n",
    "        xlabel='Уровень', ylabel='Доля среди всех субтитров')"
   ]
  },
  {
   "attachments": {},
   "cell_type": "markdown",
   "metadata": {},
   "source": [
    "Оставим 4 основных уровня знания языка:\n",
    "* A2, A2+ - Beginner, Elementary \n",
    "* B1 - Intermediate \n",
    "* B2 - Upper-Intermediate \n",
    "* C1 - Advanced\n"
   ]
  },
  {
   "cell_type": "code",
   "execution_count": 11,
   "metadata": {},
   "outputs": [],
   "source": [
    "df = df.replace({'level' :{'B1, B2': 'B1',\n",
    "                      'A2': 'A2/A2+',\n",
    "                      'A2/A2+, B1': 'A2/A2+'}})"
   ]
  },
  {
   "cell_type": "code",
   "execution_count": 12,
   "metadata": {},
   "outputs": [
    {
     "data": {
      "image/png": "[encoded data removed]",
      "text/plain": [
       "<Figure size 640x480 with 1 Axes>"
      ]
     },
     "metadata": {},
     "output_type": "display_data"
    }
   ],
   "source": [
    "my_bar(df.level, dropna=False, title='Распределение уровней английского в субтитрах',\\\n",
    "        xlabel='Уровень', ylabel='Доля среди всех субтитров')"
   ]
  },
  {
   "cell_type": "code",
   "execution_count": 13,
   "metadata": {},
   "outputs": [],
   "source": [
    "english_levels = ['A2/A2+', 'B1', 'B2', 'C1']"
   ]
  },
  {
   "attachments": {},
   "cell_type": "markdown",
   "metadata": {},
   "source": [
    "Присутствует дисбаланс классов <br><br>\n",
    "Удалим неразмеченные данные"
   ]
  },
  {
   "cell_type": "code",
   "execution_count": 14,
   "metadata": {},
   "outputs": [],
   "source": [
    "df = df.dropna(subset='level', axis=0)"
   ]
  },
  {
   "attachments": {},
   "cell_type": "markdown",
   "metadata": {},
   "source": [
    "Заменим уровни знания языка числовыми параметрами в порядке возрастания.\n",
    "* A2, A2+ - 0\n",
    "* B1 - 1\n",
    "* B2 - 2 \n",
    "* C1 - 3"
   ]
  },
  {
   "cell_type": "code",
   "execution_count": 15,
   "metadata": {},
   "outputs": [],
   "source": [
    "df.level = df.level.replace({'A2/A2+': 0,\n",
    "                  'B1': 1,\n",
    "                  'B2': 2,\n",
    "                  'C1': 3})"
   ]
  },
  {
   "attachments": {},
   "cell_type": "markdown",
   "metadata": {},
   "source": [
    "## Обработка данных"
   ]
  },
  {
   "attachments": {},
   "cell_type": "markdown",
   "metadata": {},
   "source": [
    "#### Приведение к нижнему регистру, обработка спецсимволов и \"стоп-слов\""
   ]
  },
  {
   "cell_type": "code",
   "execution_count": 16,
   "metadata": {},
   "outputs": [
    {
     "data": {
      "text/plain": [
       "array(['i', 'me', 'my', 'myself', 'we', 'our', 'ours', 'ourselves', 'you',\n",
       "       \"you're\", \"you've\", \"you'll\", \"you'd\", 'your', 'yours', 'yourself',\n",
       "       'yourselves', 'he', 'him', 'his'], dtype='<U10')"
      ]
     },
     "execution_count": 16,
     "metadata": {},
     "output_type": "execute_result"
    }
   ],
   "source": [
    "# Пример \"стоп-слов\"\n",
    "np.array(stopwords.words('english'))[:20]"
   ]
  },
  {
   "cell_type": "code",
   "execution_count": 17,
   "metadata": {},
   "outputs": [],
   "source": [
    "def preprocess_text(data, stopwords=stopwords.words('english')):\n",
    "    #Приводим к нижему регистру\n",
    "    text = data.lower()\n",
    "    #Удаляем все символы между <>, '<some symbols>' -> ''\n",
    "    text = re.sub('<[^>]+>', '', text)\n",
    "    #Добавляем пробелы между знаками препинания\n",
    "    text = re.sub(r\"([.,!?])\", r\" \\1 \", text)\n",
    "    # удаляем пробелы в начале и в конце предложения\n",
    "    text = text.strip()\n",
    "    #Удаляем слова в скобках\n",
    "    text = re.sub(r'\\([^)]*\\)', '', text)\n",
    "    # Оставляем только латинские буквы\n",
    "    text = re.sub(r'[^a-z]', ' ', text)\n",
    "    # удаление стоп-слов\n",
    "    text = [w for w in text.split() if w not in stopwords]\n",
    "    # удаляем слова короче 3х символов\n",
    "    text = [w for w in text if len(w) >= 3]\n",
    "    return ' '.join(text)"
   ]
  },
  {
   "cell_type": "code",
   "execution_count": 18,
   "metadata": {},
   "outputs": [],
   "source": [
    "df.subtitle = df.subtitle.apply(lambda text: preprocess_text(text))"
   ]
  },
  {
   "attachments": {},
   "cell_type": "markdown",
   "metadata": {},
   "source": [
    "#### Стемминг и лемматизация"
   ]
  },
  {
   "cell_type": "code",
   "execution_count": 19,
   "metadata": {},
   "outputs": [],
   "source": [
    "nlp = spacy.load(\"en_core_web_sm\", disable=['parser', 'ner'])\n",
    "def lemmatize(text):\n",
    "    doc = nlp(text)\n",
    "    return \" \".join([token.lemma_ for token in doc])"
   ]
  },
  {
   "cell_type": "code",
   "execution_count": 30,
   "metadata": {},
   "outputs": [],
   "source": [
    "flag = 0\n",
    "if flag:\n",
    "    df['lemma_clear_text'] = df.subtitle.apply(lambda row: lemmatize(row))\n",
    "    with open('df_lemma.pickle', 'wb') as file:\n",
    "        pickle.dump(df, file)\n",
    "else:\n",
    "    with open('df_lemma.pickle', 'rb') as file:\n",
    "        df = pickle.load(file)"
   ]
  },
  {
   "cell_type": "code",
   "execution_count": 31,
   "metadata": {},
   "outputs": [],
   "source": [
    "df = df.loc[~(df.lemma_clear_text=='')]"
   ]
  },
  {
   "cell_type": "code",
   "execution_count": 32,
   "metadata": {},
   "outputs": [],
   "source": [
    "features = df.lemma_clear_text\n",
    "target = df.level"
   ]
  },
  {
   "cell_type": "code",
   "execution_count": 33,
   "metadata": {},
   "outputs": [],
   "source": [
    "X_train, X_test, y_train, y_test = \\\n",
    "    train_test_split(features, target,\n",
    "         test_size=0.25, random_state=STATE, shuffle=True)"
   ]
  },
  {
   "attachments": {},
   "cell_type": "markdown",
   "metadata": {},
   "source": [
    "### Оценка количества слов в субтитрах"
   ]
  },
  {
   "cell_type": "code",
   "execution_count": 34,
   "metadata": {},
   "outputs": [
    {
     "data": {
      "image/png": "[encoded data removed]",
      "text/plain": [
       "<Figure size 640x480 with 2 Axes>"
      ]
     },
     "metadata": {},
     "output_type": "display_data"
    }
   ],
   "source": [
    "my_kde(df.lemma_clear_text.apply(lambda x: len(x.split())), \n",
    "       col='Количество слов в субтитрах')"
   ]
  },
  {
   "attachments": {},
   "cell_type": "markdown",
   "metadata": {},
   "source": [
    "###  Наиболее популярные слова"
   ]
  },
  {
   "attachments": {},
   "cell_type": "markdown",
   "metadata": {},
   "source": [
    "Найдем 100 наиболее популярных слов в фильмах различного уровня знания английского языка"
   ]
  },
  {
   "cell_type": "code",
   "execution_count": 53,
   "metadata": {},
   "outputs": [],
   "source": [
    "most_popular_words = {}\n",
    "HOW_MANY_WORDS = 1000\n",
    "for level in range(0, 3 + 1):\n",
    "    count_words = CountVectorizer()\n",
    "    bag = count_words.fit_transform(\n",
    "        df.loc[df.level==level].lemma_clear_text.values)\n",
    "    most_popular_words[level] = \\\n",
    "        list(pd.DataFrame.sparse.from_spmatrix(bag, \n",
    "                        columns=count_words.get_feature_names_out())\\\n",
    "    .sum().sort_values(ascending=False)[:HOW_MANY_WORDS].index)\n",
    "    "
   ]
  },
  {
   "cell_type": "code",
   "execution_count": 54,
   "metadata": {},
   "outputs": [
    {
     "name": "stdout",
     "output_type": "stream",
     "text": [
      "Уровень A2/A2+, 25 наиболее популярных слов:\n",
      "          ['get', 'know', 'come', 'go', 'like', 'right', 'yeah', 'okay', 'well', 'see', 'want', 'think', 'one', 'to', 'say', 'good', 'look', 'hey', 'let', 'man', 'tell', 'take', 'make', 'love', 'time']\n",
      "\n",
      "Уровень B1, 25 наиболее популярных слов:\n",
      "          ['get', 'know', 'go', 'come', 'like', 'right', 'well', 'yeah', 'one', 'think', 'look', 'see', 'say', 'okay', 'good', 'want', 'to', 'let', 'make', 'take', 'tell', 'hey', 'yes', 'time', 'man']\n",
      "\n",
      "Уровень B2, 25 наиболее популярных слов:\n",
      "          ['get', 'know', 'go', 'want', 'well', 'right', 'tell', 'say', 'come', 'like', 'think', 'one', 'to', 'see', 'yeah', 'make', 'good', 'take', 'need', 'look', 'okay', 'time', 'harvey', 'let', 'thing']\n",
      "\n",
      "Уровень C1, 25 наиболее популярных слов:\n",
      "          ['know', 'get', 'go', 'well', 'think', 'want', 'say', 'tell', 'come', 'one', 'right', 'like', 'take', 'see', 'make', 'to', 'would', 'good', 'need', 'look', 'back', 'let', 'thing', 'harvey', 'mean']\n",
      "\n"
     ]
    }
   ],
   "source": [
    "WORDS_TO_SHOW = 25\n",
    "for level, words in most_popular_words.items():\n",
    "    print(f'Уровень {english_levels[level]}, {WORDS_TO_SHOW} наиболее популярных слов:\\n\\\n",
    "          {words[:WORDS_TO_SHOW]}\\n')\n"
   ]
  },
  {
   "attachments": {},
   "cell_type": "markdown",
   "metadata": {},
   "source": [
    "Сравним наиболее популярную лексику в представленных фильмах с лексикой  A2/A2+"
   ]
  },
  {
   "cell_type": "code",
   "execution_count": 65,
   "metadata": {},
   "outputs": [],
   "source": [
    "def set_intersection(set1: set, set2: set) -> float:\n",
    "    return len(set1 & set2) / len(set1)\n",
    "\n",
    "set_shares = [set_intersection(\n",
    "    set(most_popular_words[0]), set(most_popular_words[i])\n",
    "    ) for i in range(0,3+1)]"
   ]
  },
  {
   "cell_type": "code",
   "execution_count": 76,
   "metadata": {},
   "outputs": [
    {
     "data": {
      "image/png": "[encoded data removed]",
      "text/plain": [
       "<Figure size 640x480 with 1 Axes>"
      ]
     },
     "metadata": {},
     "output_type": "display_data"
    }
   ],
   "source": [
    "_, ax = plt.subplots(1)\n",
    "sns.barplot(x=english_levels, y=set_shares, ax=ax)\\\n",
    "    .set(title=f'Доля пересечения наиболее популярных {HOW_MANY_WORDS}\\n\\\n",
    " слов в фильмах раличного уровня сложности');\n",
    "for a, p in enumerate(ax.patches):\n",
    "        text = set_shares[a]\n",
    "        ax.annotate(text, xy=(p.get_x() + p.get_width() / 2, 0.8 * p.get_height()), \\\n",
    "        size=13, color='black', ha = 'center', va = 'center',\n",
    "        bbox = dict(boxstyle = 'round',\\\n",
    "        facecolor='none',edgecolor='black', alpha = 0.5) )"
   ]
  },
  {
   "attachments": {},
   "cell_type": "markdown",
   "metadata": {},
   "source": [
    "Доля совпадающей лексики снижается, с улучшением знания языка "
   ]
  },
  {
   "attachments": {},
   "cell_type": "markdown",
   "metadata": {},
   "source": [
    "### Векторизация"
   ]
  },
  {
   "cell_type": "code",
   "execution_count": 24,
   "metadata": {},
   "outputs": [],
   "source": [
    "corpus_train = X_train.values\n",
    "corpus_test = X_test.values"
   ]
  },
  {
   "cell_type": "code",
   "execution_count": 25,
   "metadata": {},
   "outputs": [],
   "source": [
    "tfidf = TfidfVectorizer()\n",
    "tf_idf_train = tfidf.fit_transform(corpus_train)\n",
    "tf_idf_test = tfidf.transform(corpus_test)"
   ]
  },
  {
   "attachments": {},
   "cell_type": "markdown",
   "metadata": {},
   "source": [
    "### Моделирование"
   ]
  },
  {
   "attachments": {},
   "cell_type": "markdown",
   "metadata": {},
   "source": [
    "### Dummy model \n",
    "Предсказание наиболее популярного класса"
   ]
  },
  {
   "cell_type": "code",
   "execution_count": 26,
   "metadata": {},
   "outputs": [
    {
     "name": "stdout",
     "output_type": "stream",
     "text": [
      "              precision    recall  f1-score   support\n",
      "\n",
      "           0       0.00      0.00      0.00         9\n",
      "           1       0.00      0.00      0.00        16\n",
      "           2       0.45      1.00      0.62        25\n",
      "           3       0.00      0.00      0.00         5\n",
      "\n",
      "    accuracy                           0.45        55\n",
      "   macro avg       0.11      0.25      0.16        55\n",
      "weighted avg       0.21      0.45      0.28        55\n",
      "\n"
     ]
    }
   ],
   "source": [
    "print(classification_report(y_test, 2 * np.ones(len(y_test))))"
   ]
  },
  {
   "cell_type": "code",
   "execution_count": 27,
   "metadata": {},
   "outputs": [
    {
     "data": {
      "text/html": [
       "<div>\n",
       "<style scoped>\n",
       "    .dataframe tbody tr th:only-of-type {\n",
       "        vertical-align: middle;\n",
       "    }\n",
       "\n",
       "    .dataframe tbody tr th {\n",
       "        vertical-align: top;\n",
       "    }\n",
       "\n",
       "    .dataframe thead th {\n",
       "        text-align: right;\n",
       "    }\n",
       "</style>\n",
       "<table border=\"1\" class=\"dataframe\">\n",
       "  <thead>\n",
       "    <tr style=\"text-align: right;\">\n",
       "      <th></th>\n",
       "      <th>precision</th>\n",
       "      <th>recall</th>\n",
       "      <th>f1_score</th>\n",
       "      <th>accuracy</th>\n",
       "    </tr>\n",
       "  </thead>\n",
       "  <tbody>\n",
       "    <tr>\n",
       "      <th>dummy_model</th>\n",
       "      <td>0.11</td>\n",
       "      <td>0.25</td>\n",
       "      <td>0.16</td>\n",
       "      <td>0.45</td>\n",
       "    </tr>\n",
       "  </tbody>\n",
       "</table>\n",
       "</div>"
      ],
      "text/plain": [
       "             precision  recall  f1_score  accuracy\n",
       "dummy_model       0.11    0.25      0.16      0.45"
      ]
     },
     "execution_count": 27,
     "metadata": {},
     "output_type": "execute_result"
    }
   ],
   "source": [
    "metrics = get_metrics(y_test, 2 * np.ones(len(y_test)), 'dummy_model')\n",
    "metrics"
   ]
  },
  {
   "attachments": {},
   "cell_type": "markdown",
   "metadata": {},
   "source": [
    "### LogisticRegression Tuning"
   ]
  },
  {
   "cell_type": "code",
   "execution_count": 28,
   "metadata": {},
   "outputs": [],
   "source": [
    "lr = LogisticRegression(random_state=STATE, class_weight='balanced')\n",
    "params_lr = {\n",
    "    'penalty': ['l1', 'l2'],\n",
    "    'C': [0.01, 1.0, 10.0, 100.0]\n",
    "}\n",
    "grid_lr = GridSearchCV(estimator=lr, \n",
    "                    param_grid=params_lr, \n",
    "                    cv=5, \n",
    "                    scoring='accuracy',\n",
    "                    verbose=1,\n",
    "                    n_jobs=-1)"
   ]
  },
  {
   "cell_type": "code",
   "execution_count": 29,
   "metadata": {},
   "outputs": [
    {
     "name": "stdout",
     "output_type": "stream",
     "text": [
      "Fitting 5 folds for each of 8 candidates, totalling 40 fits\n"
     ]
    },
    {
     "data": {
      "text/html": [
       "<style>#sk-container-id-1 {color: black;background-color: white;}#sk-container-id-1 pre{padding: 0;}#sk-container-id-1 div.sk-toggleable {background-color: white;}#sk-container-id-1 label.sk-toggleable__label {cursor: pointer;display: block;width: 100%;margin-bottom: 0;padding: 0.3em;box-sizing: border-box;text-align: center;}#sk-container-id-1 label.sk-toggleable__label-arrow:before {content: \"▸\";float: left;margin-right: 0.25em;color: #696969;}#sk-container-id-1 label.sk-toggleable__label-arrow:hover:before {color: black;}#sk-container-id-1 div.sk-estimator:hover label.sk-toggleable__label-arrow:before {color: black;}#sk-container-id-1 div.sk-toggleable__content {max-height: 0;max-width: 0;overflow: hidden;text-align: left;background-color: #f0f8ff;}#sk-container-id-1 div.sk-toggleable__content pre {margin: 0.2em;color: black;border-radius: 0.25em;background-color: #f0f8ff;}#sk-container-id-1 input.sk-toggleable__control:checked~div.sk-toggleable__content {max-height: 200px;max-width: 100%;overflow: auto;}#sk-container-id-1 input.sk-toggleable__control:checked~label.sk-toggleable__label-arrow:before {content: \"▾\";}#sk-container-id-1 div.sk-estimator input.sk-toggleable__control:checked~label.sk-toggleable__label {background-color: #d4ebff;}#sk-container-id-1 div.sk-label input.sk-toggleable__control:checked~label.sk-toggleable__label {background-color: #d4ebff;}#sk-container-id-1 input.sk-hidden--visually {border: 0;clip: rect(1px 1px 1px 1px);clip: rect(1px, 1px, 1px, 1px);height: 1px;margin: -1px;overflow: hidden;padding: 0;position: absolute;width: 1px;}#sk-container-id-1 div.sk-estimator {font-family: monospace;background-color: #f0f8ff;border: 1px dotted black;border-radius: 0.25em;box-sizing: border-box;margin-bottom: 0.5em;}#sk-container-id-1 div.sk-estimator:hover {background-color: #d4ebff;}#sk-container-id-1 div.sk-parallel-item::after {content: \"\";width: 100%;border-bottom: 1px solid gray;flex-grow: 1;}#sk-container-id-1 div.sk-label:hover label.sk-toggleable__label {background-color: #d4ebff;}#sk-container-id-1 div.sk-serial::before {content: \"\";position: absolute;border-left: 1px solid gray;box-sizing: border-box;top: 0;bottom: 0;left: 50%;z-index: 0;}#sk-container-id-1 div.sk-serial {display: flex;flex-direction: column;align-items: center;background-color: white;padding-right: 0.2em;padding-left: 0.2em;position: relative;}#sk-container-id-1 div.sk-item {position: relative;z-index: 1;}#sk-container-id-1 div.sk-parallel {display: flex;align-items: stretch;justify-content: center;background-color: white;position: relative;}#sk-container-id-1 div.sk-item::before, #sk-container-id-1 div.sk-parallel-item::before {content: \"\";position: absolute;border-left: 1px solid gray;box-sizing: border-box;top: 0;bottom: 0;left: 50%;z-index: -1;}#sk-container-id-1 div.sk-parallel-item {display: flex;flex-direction: column;z-index: 1;position: relative;background-color: white;}#sk-container-id-1 div.sk-parallel-item:first-child::after {align-self: flex-end;width: 50%;}#sk-container-id-1 div.sk-parallel-item:last-child::after {align-self: flex-start;width: 50%;}#sk-container-id-1 div.sk-parallel-item:only-child::after {width: 0;}#sk-container-id-1 div.sk-dashed-wrapped {border: 1px dashed gray;margin: 0 0.4em 0.5em 0.4em;box-sizing: border-box;padding-bottom: 0.4em;background-color: white;}#sk-container-id-1 div.sk-label label {font-family: monospace;font-weight: bold;display: inline-block;line-height: 1.2em;}#sk-container-id-1 div.sk-label-container {text-align: center;}#sk-container-id-1 div.sk-container {/* jupyter's `normalize.less` sets `[hidden] { display: none; }` but bootstrap.min.css set `[hidden] { display: none !important; }` so we also need the `!important` here to be able to override the default hidden behavior on the sphinx rendered scikit-learn.org. See: https://github.com/scikit-learn/scikit-learn/issues/21755 */display: inline-block !important;position: relative;}#sk-container-id-1 div.sk-text-repr-fallback {display: none;}</style><div id=\"sk-container-id-1\" class=\"sk-top-container\"><div class=\"sk-text-repr-fallback\"><pre>GridSearchCV(cv=5,\n",
       "             estimator=LogisticRegression(class_weight=&#x27;balanced&#x27;,\n",
       "                                          random_state=0),\n",
       "             n_jobs=-1,\n",
       "             param_grid={&#x27;C&#x27;: [0.01, 1.0, 10.0, 100.0],\n",
       "                         &#x27;penalty&#x27;: [&#x27;l1&#x27;, &#x27;l2&#x27;]},\n",
       "             scoring=&#x27;accuracy&#x27;, verbose=1)</pre><b>In a Jupyter environment, please rerun this cell to show the HTML representation or trust the notebook. <br />On GitHub, the HTML representation is unable to render, please try loading this page with nbviewer.org.</b></div><div class=\"sk-container\" hidden><div class=\"sk-item sk-dashed-wrapped\"><div class=\"sk-label-container\"><div class=\"sk-label sk-toggleable\"><input class=\"sk-toggleable__control sk-hidden--visually\" id=\"sk-estimator-id-1\" type=\"checkbox\" ><label for=\"sk-estimator-id-1\" class=\"sk-toggleable__label sk-toggleable__label-arrow\">GridSearchCV</label><div class=\"sk-toggleable__content\"><pre>GridSearchCV(cv=5,\n",
       "             estimator=LogisticRegression(class_weight=&#x27;balanced&#x27;,\n",
       "                                          random_state=0),\n",
       "             n_jobs=-1,\n",
       "             param_grid={&#x27;C&#x27;: [0.01, 1.0, 10.0, 100.0],\n",
       "                         &#x27;penalty&#x27;: [&#x27;l1&#x27;, &#x27;l2&#x27;]},\n",
       "             scoring=&#x27;accuracy&#x27;, verbose=1)</pre></div></div></div><div class=\"sk-parallel\"><div class=\"sk-parallel-item\"><div class=\"sk-item\"><div class=\"sk-label-container\"><div class=\"sk-label sk-toggleable\"><input class=\"sk-toggleable__control sk-hidden--visually\" id=\"sk-estimator-id-2\" type=\"checkbox\" ><label for=\"sk-estimator-id-2\" class=\"sk-toggleable__label sk-toggleable__label-arrow\">estimator: LogisticRegression</label><div class=\"sk-toggleable__content\"><pre>LogisticRegression(class_weight=&#x27;balanced&#x27;, random_state=0)</pre></div></div></div><div class=\"sk-serial\"><div class=\"sk-item\"><div class=\"sk-estimator sk-toggleable\"><input class=\"sk-toggleable__control sk-hidden--visually\" id=\"sk-estimator-id-3\" type=\"checkbox\" ><label for=\"sk-estimator-id-3\" class=\"sk-toggleable__label sk-toggleable__label-arrow\">LogisticRegression</label><div class=\"sk-toggleable__content\"><pre>LogisticRegression(class_weight=&#x27;balanced&#x27;, random_state=0)</pre></div></div></div></div></div></div></div></div></div></div>"
      ],
      "text/plain": [
       "GridSearchCV(cv=5,\n",
       "             estimator=LogisticRegression(class_weight='balanced',\n",
       "                                          random_state=0),\n",
       "             n_jobs=-1,\n",
       "             param_grid={'C': [0.01, 1.0, 10.0, 100.0],\n",
       "                         'penalty': ['l1', 'l2']},\n",
       "             scoring='accuracy', verbose=1)"
      ]
     },
     "execution_count": 29,
     "metadata": {},
     "output_type": "execute_result"
    }
   ],
   "source": [
    "grid_lr.fit(tf_idf_train, y_train)"
   ]
  },
  {
   "cell_type": "code",
   "execution_count": 30,
   "metadata": {},
   "outputs": [
    {
     "data": {
      "image/png": "[encoded data removed]",
      "text/plain": [
       "<Figure size 640x480 with 2 Axes>"
      ]
     },
     "metadata": {},
     "output_type": "display_data"
    }
   ],
   "source": [
    "plot_confusion_matrix(y_test, \n",
    "                      grid_lr.best_estimator_.predict(tf_idf_test))"
   ]
  },
  {
   "cell_type": "code",
   "execution_count": 31,
   "metadata": {},
   "outputs": [
    {
     "name": "stdout",
     "output_type": "stream",
     "text": [
      "              precision    recall  f1-score   support\n",
      "\n",
      "           0       1.00      0.22      0.36         9\n",
      "           1       0.50      1.00      0.67        16\n",
      "           2       0.76      0.64      0.70        25\n",
      "           3       0.00      0.00      0.00         5\n",
      "\n",
      "    accuracy                           0.62        55\n",
      "   macro avg       0.57      0.47      0.43        55\n",
      "weighted avg       0.66      0.62      0.57        55\n",
      "\n"
     ]
    }
   ],
   "source": [
    "print(classification_report(y_test, \n",
    "                      grid_lr.best_estimator_.predict(tf_idf_test)))"
   ]
  },
  {
   "cell_type": "code",
   "execution_count": 32,
   "metadata": {},
   "outputs": [
    {
     "data": {
      "text/html": [
       "<div>\n",
       "<style scoped>\n",
       "    .dataframe tbody tr th:only-of-type {\n",
       "        vertical-align: middle;\n",
       "    }\n",
       "\n",
       "    .dataframe tbody tr th {\n",
       "        vertical-align: top;\n",
       "    }\n",
       "\n",
       "    .dataframe thead th {\n",
       "        text-align: right;\n",
       "    }\n",
       "</style>\n",
       "<table border=\"1\" class=\"dataframe\">\n",
       "  <thead>\n",
       "    <tr style=\"text-align: right;\">\n",
       "      <th></th>\n",
       "      <th>precision</th>\n",
       "      <th>recall</th>\n",
       "      <th>f1_score</th>\n",
       "      <th>accuracy</th>\n",
       "    </tr>\n",
       "  </thead>\n",
       "  <tbody>\n",
       "    <tr>\n",
       "      <th>dummy_model</th>\n",
       "      <td>0.11</td>\n",
       "      <td>0.25</td>\n",
       "      <td>0.16</td>\n",
       "      <td>0.45</td>\n",
       "    </tr>\n",
       "    <tr>\n",
       "      <th>LogisticRegression</th>\n",
       "      <td>0.57</td>\n",
       "      <td>0.47</td>\n",
       "      <td>0.43</td>\n",
       "      <td>0.62</td>\n",
       "    </tr>\n",
       "  </tbody>\n",
       "</table>\n",
       "</div>"
      ],
      "text/plain": [
       "                    precision  recall  f1_score  accuracy\n",
       "dummy_model              0.11    0.25      0.16      0.45\n",
       "LogisticRegression       0.57    0.47      0.43      0.62"
      ]
     },
     "execution_count": 32,
     "metadata": {},
     "output_type": "execute_result"
    }
   ],
   "source": [
    "metrics = get_metrics(y_test, \n",
    "                      grid_lr.best_estimator_.predict(tf_idf_test),\n",
    "                      name='LogisticRegression', metrics=metrics)\n",
    "metrics"
   ]
  },
  {
   "cell_type": "code",
   "execution_count": 33,
   "metadata": {},
   "outputs": [
    {
     "name": "stdout",
     "output_type": "stream",
     "text": [
      "f1_score train: 0.938\n",
      "f1_score test: 0.431\n",
      "delta = 54.0 %\n"
     ]
    }
   ],
   "source": [
    "check_overfitting(grid_lr.best_estimator_, \n",
    "                  tf_idf_train, y_train, \n",
    "                  tf_idf_test, y_test, f1_score)"
   ]
  },
  {
   "attachments": {},
   "cell_type": "markdown",
   "metadata": {},
   "source": [
    "### RandomForestClassifier Tuning"
   ]
  },
  {
   "cell_type": "code",
   "execution_count": 34,
   "metadata": {},
   "outputs": [],
   "source": [
    "flag = 0\n",
    "if flag:\n",
    "    rfc = RandomForestClassifier(random_state=STATE)\n",
    "    params_rfc = {\n",
    "    'max_depth': range(8, 25, 2),\n",
    "    'n_estimators': range(40, 161, 30),\n",
    "    'class_weight': ['balanced', 'balanced_subsample'],\n",
    "    'min_samples_split': range(2,5,1)\n",
    "    }\n",
    "    grid_rfc = GridSearchCV(estimator=rfc, \n",
    "                            param_grid=params_rfc,\n",
    "                            n_jobs=-1, \n",
    "                            )\n",
    "    grid_rfc.fit(tf_idf_train, y_train)\n",
    "    with open('content/grid_rfc.pickle', 'wb') as file:\n",
    "        pickle.dump(grid_rfc, file)\n",
    "else:\n",
    "    with open('content/grid_rfc.pickle', 'rb') as file:\n",
    "        grid_rfc = pickle.load(file)"
   ]
  },
  {
   "cell_type": "code",
   "execution_count": 35,
   "metadata": {},
   "outputs": [
    {
     "data": {
      "image/png": "[encoded data removed]",
      "text/plain": [
       "<Figure size 640x480 with 2 Axes>"
      ]
     },
     "metadata": {},
     "output_type": "display_data"
    }
   ],
   "source": [
    "plot_confusion_matrix(y_test, \n",
    "                      y_pred=grid_rfc.best_estimator_.predict(tf_idf_test))"
   ]
  },
  {
   "cell_type": "code",
   "execution_count": 36,
   "metadata": {},
   "outputs": [
    {
     "name": "stdout",
     "output_type": "stream",
     "text": [
      "              precision    recall  f1-score   support\n",
      "\n",
      "           0       1.00      0.11      0.20         9\n",
      "           1       0.50      0.75      0.60        16\n",
      "           2       0.63      0.76      0.69        25\n",
      "           3       0.00      0.00      0.00         5\n",
      "\n",
      "    accuracy                           0.58        55\n",
      "   macro avg       0.53      0.41      0.37        55\n",
      "weighted avg       0.60      0.58      0.52        55\n",
      "\n"
     ]
    }
   ],
   "source": [
    "print(classification_report(y_test, \n",
    "                            y_pred=grid_rfc.best_estimator_.predict(tf_idf_test)))"
   ]
  },
  {
   "cell_type": "code",
   "execution_count": 37,
   "metadata": {},
   "outputs": [
    {
     "data": {
      "text/html": [
       "<div>\n",
       "<style scoped>\n",
       "    .dataframe tbody tr th:only-of-type {\n",
       "        vertical-align: middle;\n",
       "    }\n",
       "\n",
       "    .dataframe tbody tr th {\n",
       "        vertical-align: top;\n",
       "    }\n",
       "\n",
       "    .dataframe thead th {\n",
       "        text-align: right;\n",
       "    }\n",
       "</style>\n",
       "<table border=\"1\" class=\"dataframe\">\n",
       "  <thead>\n",
       "    <tr style=\"text-align: right;\">\n",
       "      <th></th>\n",
       "      <th>precision</th>\n",
       "      <th>recall</th>\n",
       "      <th>f1_score</th>\n",
       "      <th>accuracy</th>\n",
       "    </tr>\n",
       "  </thead>\n",
       "  <tbody>\n",
       "    <tr>\n",
       "      <th>dummy_model</th>\n",
       "      <td>0.11</td>\n",
       "      <td>0.25</td>\n",
       "      <td>0.16</td>\n",
       "      <td>0.45</td>\n",
       "    </tr>\n",
       "    <tr>\n",
       "      <th>LogisticRegression</th>\n",
       "      <td>0.57</td>\n",
       "      <td>0.47</td>\n",
       "      <td>0.43</td>\n",
       "      <td>0.62</td>\n",
       "    </tr>\n",
       "    <tr>\n",
       "      <th>RandomForesClassifier</th>\n",
       "      <td>0.53</td>\n",
       "      <td>0.41</td>\n",
       "      <td>0.37</td>\n",
       "      <td>0.58</td>\n",
       "    </tr>\n",
       "  </tbody>\n",
       "</table>\n",
       "</div>"
      ],
      "text/plain": [
       "                       precision  recall  f1_score  accuracy\n",
       "dummy_model                 0.11    0.25      0.16      0.45\n",
       "LogisticRegression          0.57    0.47      0.43      0.62\n",
       "RandomForesClassifier       0.53    0.41      0.37      0.58"
      ]
     },
     "execution_count": 37,
     "metadata": {},
     "output_type": "execute_result"
    }
   ],
   "source": [
    "metrics = get_metrics(y_test, \n",
    "                      grid_rfc.best_estimator_.predict(tf_idf_test),\n",
    "                      name='RandomForesClassifier', metrics=metrics)\n",
    "metrics"
   ]
  },
  {
   "cell_type": "code",
   "execution_count": 38,
   "metadata": {},
   "outputs": [
    {
     "name": "stdout",
     "output_type": "stream",
     "text": [
      "f1_score train: 0.993\n",
      "f1_score test: 0.373\n",
      "delta = 62.5 %\n"
     ]
    }
   ],
   "source": [
    "check_overfitting(grid_rfc.best_estimator_, \n",
    "                  tf_idf_train, y_train, \n",
    "                  tf_idf_test, y_test, f1_score)"
   ]
  },
  {
   "attachments": {},
   "cell_type": "markdown",
   "metadata": {},
   "source": [
    "### LightGBM Tuning"
   ]
  },
  {
   "cell_type": "code",
   "execution_count": 39,
   "metadata": {},
   "outputs": [],
   "source": [
    "flag = 0\n",
    "if flag:\n",
    "    lgb_model = lgb.LGBMClassifier(random_state=STATE, class_weight='balanced')\n",
    "    params_lgb = {\n",
    "    'num_leaves': range(40, 120),\n",
    "    'max_depth': range(4, 13, 2),\n",
    "    'max_bin': range(20, 51, 10),\n",
    "    'num_iterations': [100, 200, 500],\n",
    "    'learning_rate': [0.01, 0.05, 0.1]\n",
    "    }\n",
    "    grid_lgb = RandomizedSearchCV(estimator=lgb_model,\n",
    "                            param_distributions=params_lgb,\n",
    "                            n_jobs=-1, verbose=2, n_iter=1_000, random_state=STATE\n",
    "                            )\n",
    "    grid_lgb.fit(tf_idf_train, y_train)\n",
    "    with open('content/grid_lgb.pickle', 'wb') as file:\n",
    "        pickle.dump(grid_lgb, file)\n",
    "else:\n",
    "    with open('content/grid_lgb.pickle', 'rb') as file:\n",
    "        grid_lgb = pickle.load(file)"
   ]
  },
  {
   "cell_type": "code",
   "execution_count": 40,
   "metadata": {},
   "outputs": [
    {
     "data": {
      "image/png": "[encoded data removed]",
      "text/plain": [
       "<Figure size 640x480 with 2 Axes>"
      ]
     },
     "metadata": {},
     "output_type": "display_data"
    }
   ],
   "source": [
    "plot_confusion_matrix(y_test, grid_lgb.best_estimator_.predict(tf_idf_test))"
   ]
  },
  {
   "cell_type": "code",
   "execution_count": 41,
   "metadata": {},
   "outputs": [
    {
     "name": "stdout",
     "output_type": "stream",
     "text": [
      "              precision    recall  f1-score   support\n",
      "\n",
      "           0       0.50      0.22      0.31         9\n",
      "           1       0.59      0.81      0.68        16\n",
      "           2       0.61      0.68      0.64        25\n",
      "           3       0.00      0.00      0.00         5\n",
      "\n",
      "    accuracy                           0.58        55\n",
      "   macro avg       0.42      0.43      0.41        55\n",
      "weighted avg       0.53      0.58      0.54        55\n",
      "\n"
     ]
    }
   ],
   "source": [
    "print(classification_report(y_test, \n",
    "                            grid_lgb.best_estimator_.predict(tf_idf_test)))"
   ]
  },
  {
   "cell_type": "code",
   "execution_count": 42,
   "metadata": {},
   "outputs": [
    {
     "data": {
      "text/html": [
       "<div>\n",
       "<style scoped>\n",
       "    .dataframe tbody tr th:only-of-type {\n",
       "        vertical-align: middle;\n",
       "    }\n",
       "\n",
       "    .dataframe tbody tr th {\n",
       "        vertical-align: top;\n",
       "    }\n",
       "\n",
       "    .dataframe thead th {\n",
       "        text-align: right;\n",
       "    }\n",
       "</style>\n",
       "<table border=\"1\" class=\"dataframe\">\n",
       "  <thead>\n",
       "    <tr style=\"text-align: right;\">\n",
       "      <th></th>\n",
       "      <th>precision</th>\n",
       "      <th>recall</th>\n",
       "      <th>f1_score</th>\n",
       "      <th>accuracy</th>\n",
       "    </tr>\n",
       "  </thead>\n",
       "  <tbody>\n",
       "    <tr>\n",
       "      <th>dummy_model</th>\n",
       "      <td>0.11</td>\n",
       "      <td>0.25</td>\n",
       "      <td>0.16</td>\n",
       "      <td>0.45</td>\n",
       "    </tr>\n",
       "    <tr>\n",
       "      <th>LogisticRegression</th>\n",
       "      <td>0.57</td>\n",
       "      <td>0.47</td>\n",
       "      <td>0.43</td>\n",
       "      <td>0.62</td>\n",
       "    </tr>\n",
       "    <tr>\n",
       "      <th>RandomForesClassifier</th>\n",
       "      <td>0.53</td>\n",
       "      <td>0.41</td>\n",
       "      <td>0.37</td>\n",
       "      <td>0.58</td>\n",
       "    </tr>\n",
       "    <tr>\n",
       "      <th>LightGBM</th>\n",
       "      <td>0.42</td>\n",
       "      <td>0.43</td>\n",
       "      <td>0.41</td>\n",
       "      <td>0.58</td>\n",
       "    </tr>\n",
       "  </tbody>\n",
       "</table>\n",
       "</div>"
      ],
      "text/plain": [
       "                       precision  recall  f1_score  accuracy\n",
       "dummy_model                 0.11    0.25      0.16      0.45\n",
       "LogisticRegression          0.57    0.47      0.43      0.62\n",
       "RandomForesClassifier       0.53    0.41      0.37      0.58\n",
       "LightGBM                    0.42    0.43      0.41      0.58"
      ]
     },
     "execution_count": 42,
     "metadata": {},
     "output_type": "execute_result"
    }
   ],
   "source": [
    "metrics = get_metrics(y_test, \n",
    "                      grid_lgb.best_estimator_.predict(tf_idf_test),\n",
    "                      name='LightGBM', metrics=metrics)\n",
    "metrics"
   ]
  },
  {
   "cell_type": "code",
   "execution_count": 43,
   "metadata": {},
   "outputs": [
    {
     "name": "stdout",
     "output_type": "stream",
     "text": [
      "f1_score train: 0.993\n",
      "f1_score test: 0.408\n",
      "delta = 58.9 %\n"
     ]
    }
   ],
   "source": [
    "check_overfitting(grid_lgb.best_estimator_, \n",
    "                  tf_idf_train, y_train, \n",
    "                  tf_idf_test, y_test, f1_score)"
   ]
  },
  {
   "attachments": {},
   "cell_type": "markdown",
   "metadata": {},
   "source": [
    "### CatBoostClassifier `GPU` Baseline"
   ]
  },
  {
   "cell_type": "code",
   "execution_count": 44,
   "metadata": {},
   "outputs": [],
   "source": [
    "flag = 0\n",
    "if flag:\n",
    "    cbc_gpu_baseline = CatBoostClassifier(random_state=STATE,  task_type='GPU',\n",
    "                                          max_depth=8)\n",
    "    cbc_gpu_baseline.fit(tf_idf_train, y_train)\n",
    "    with open('content/cbc_gpu_baseline.pickle', 'wb') as file:\n",
    "        pickle.dump(cbc_gpu_baseline,file)\n",
    "else:\n",
    "    with open('content/cbc_gpu_baseline.pickle', 'rb') as file:\n",
    "        cbc_gpu_baseline = pickle.load(file)"
   ]
  },
  {
   "cell_type": "code",
   "execution_count": 45,
   "metadata": {},
   "outputs": [
    {
     "name": "stdout",
     "output_type": "stream",
     "text": [
      "              precision    recall  f1-score   support\n",
      "\n",
      "           0       0.50      0.11      0.18         9\n",
      "           1       0.56      0.94      0.70        16\n",
      "           2       0.83      0.80      0.82        25\n",
      "           3       1.00      0.40      0.57         5\n",
      "\n",
      "    accuracy                           0.69        55\n",
      "   macro avg       0.72      0.56      0.57        55\n",
      "weighted avg       0.71      0.69      0.66        55\n",
      "\n"
     ]
    }
   ],
   "source": [
    "print(classification_report(y_test, cbc_gpu_baseline.predict(tf_idf_test)))"
   ]
  },
  {
   "cell_type": "code",
   "execution_count": 46,
   "metadata": {},
   "outputs": [
    {
     "data": {
      "image/png": "[encoded data removed]",
      "text/plain": [
       "<Figure size 640x480 with 2 Axes>"
      ]
     },
     "metadata": {},
     "output_type": "display_data"
    }
   ],
   "source": [
    "plot_confusion_matrix(y_test, \\\n",
    "                      cbc_gpu_baseline.predict(tf_idf_test))"
   ]
  },
  {
   "cell_type": "code",
   "execution_count": 47,
   "metadata": {},
   "outputs": [
    {
     "data": {
      "text/html": [
       "<div>\n",
       "<style scoped>\n",
       "    .dataframe tbody tr th:only-of-type {\n",
       "        vertical-align: middle;\n",
       "    }\n",
       "\n",
       "    .dataframe tbody tr th {\n",
       "        vertical-align: top;\n",
       "    }\n",
       "\n",
       "    .dataframe thead th {\n",
       "        text-align: right;\n",
       "    }\n",
       "</style>\n",
       "<table border=\"1\" class=\"dataframe\">\n",
       "  <thead>\n",
       "    <tr style=\"text-align: right;\">\n",
       "      <th></th>\n",
       "      <th>precision</th>\n",
       "      <th>recall</th>\n",
       "      <th>f1_score</th>\n",
       "      <th>accuracy</th>\n",
       "    </tr>\n",
       "  </thead>\n",
       "  <tbody>\n",
       "    <tr>\n",
       "      <th>dummy_model</th>\n",
       "      <td>0.11</td>\n",
       "      <td>0.25</td>\n",
       "      <td>0.16</td>\n",
       "      <td>0.45</td>\n",
       "    </tr>\n",
       "    <tr>\n",
       "      <th>LogisticRegression</th>\n",
       "      <td>0.57</td>\n",
       "      <td>0.47</td>\n",
       "      <td>0.43</td>\n",
       "      <td>0.62</td>\n",
       "    </tr>\n",
       "    <tr>\n",
       "      <th>RandomForesClassifier</th>\n",
       "      <td>0.53</td>\n",
       "      <td>0.41</td>\n",
       "      <td>0.37</td>\n",
       "      <td>0.58</td>\n",
       "    </tr>\n",
       "    <tr>\n",
       "      <th>LightGBM</th>\n",
       "      <td>0.42</td>\n",
       "      <td>0.43</td>\n",
       "      <td>0.41</td>\n",
       "      <td>0.58</td>\n",
       "    </tr>\n",
       "    <tr>\n",
       "      <th>Catboost_baseline</th>\n",
       "      <td>0.72</td>\n",
       "      <td>0.56</td>\n",
       "      <td>0.57</td>\n",
       "      <td>0.69</td>\n",
       "    </tr>\n",
       "  </tbody>\n",
       "</table>\n",
       "</div>"
      ],
      "text/plain": [
       "                       precision  recall  f1_score  accuracy\n",
       "dummy_model                 0.11    0.25      0.16      0.45\n",
       "LogisticRegression          0.57    0.47      0.43      0.62\n",
       "RandomForesClassifier       0.53    0.41      0.37      0.58\n",
       "LightGBM                    0.42    0.43      0.41      0.58\n",
       "Catboost_baseline           0.72    0.56      0.57      0.69"
      ]
     },
     "execution_count": 47,
     "metadata": {},
     "output_type": "execute_result"
    }
   ],
   "source": [
    "metrics = get_metrics(y_test, \n",
    "                      cbc_gpu_baseline.predict(tf_idf_test),\n",
    "                      name='Catboost_baseline', metrics=metrics)\n",
    "metrics"
   ]
  },
  {
   "cell_type": "code",
   "execution_count": 48,
   "metadata": {},
   "outputs": [
    {
     "name": "stdout",
     "output_type": "stream",
     "text": [
      "f1_score train: 0.993\n",
      "f1_score test: 0.567\n",
      "delta = 42.9 %\n"
     ]
    }
   ],
   "source": [
    "check_overfitting(cbc_gpu_baseline, \n",
    "                  tf_idf_train, y_train, \n",
    "                  tf_idf_test, y_test, f1_score)"
   ]
  },
  {
   "attachments": {},
   "cell_type": "markdown",
   "metadata": {},
   "source": [
    "### CatBoostClassifier `GPU` Optuna"
   ]
  },
  {
   "cell_type": "code",
   "execution_count": 49,
   "metadata": {},
   "outputs": [],
   "source": [
    "def objective(trial, X, y, N_FOLDS, random_state=0):\n",
    "    params = {\n",
    "        \"iterations\": 1000,\n",
    "        \"learning_rate\": trial.suggest_float(\"learning_rate\", 1e-3, 0.1, log=True),\n",
    "        \"depth\": trial.suggest_int(\"depth\", 1, 8),\n",
    "    }\n",
    "\n",
    "    cv = KFold(n_splits=N_FOLDS, shuffle=True, random_state=STATE)\n",
    "    cv_predicts = np.empty(N_FOLDS)\n",
    "    for idx, (train_idx, test_idx) in enumerate(cv.split(X, y)):\n",
    "        X_train, X_test = X.iloc[train_idx], X.iloc[test_idx]\n",
    "        y_train, y_test = y.iloc[train_idx], y.iloc[test_idx]\n",
    "        \n",
    "        train_data = Pool(data=X_train, label=y_train)\n",
    "        eval_data = Pool(data=X_test, label=y_test)\n",
    "        \n",
    "        model = CatBoostClassifier(**params, task_type='GPU')\n",
    "        model.fit(train_data,\n",
    "                  eval_set=eval_data,\n",
    "                  early_stopping_rounds=100,\n",
    "                  verbose=0)\n",
    "\n",
    "        preds = model.predict(X_test)\n",
    "        cv_predicts[idx] = f1_score(y_test, preds, average='macro')\n",
    "\n",
    "    return np.mean(cv_predicts[idx])"
   ]
  },
  {
   "cell_type": "code",
   "execution_count": 50,
   "metadata": {},
   "outputs": [],
   "source": [
    "flag = 0\n",
    "if flag:\n",
    "    study_cat = optuna.create_study(direction=\"maximize\", study_name=\"cbc\")\n",
    "    def func_cat(trial):\n",
    "        return objective(trial,\n",
    "                            X=pd.DataFrame.sparse.from_spmatrix(tf_idf_train),\n",
    "                            y=y_train,\n",
    "                            N_FOLDS=N_FOLDS,\n",
    "                            random_state=STATE)\n",
    "    study_cat.optimize(func_cat, n_trials=5, show_progress_bar=True)\n",
    "    cbc_gpu_optuna = CatBoostClassifier(**study_cat.best_params,\n",
    "                                        task_type='GPU', \n",
    "                                        random_state=STATE)\n",
    "    cbc_gpu_optuna.fit(tf_idf_train, y_train)\n",
    "    with open('content/cbc_optuna.pkl', 'wb') as file:\n",
    "        pickle.dump(cbc_gpu_optuna, file)\n",
    "else:\n",
    "    with open('content/cbc_optuna.pkl', 'rb') as file:\n",
    "        cbc_gpu_optuna = pickle.load(file)"
   ]
  },
  {
   "cell_type": "code",
   "execution_count": 52,
   "metadata": {},
   "outputs": [
    {
     "name": "stdout",
     "output_type": "stream",
     "text": [
      "              precision    recall  f1-score   support\n",
      "\n",
      "           0       0.29      0.22      0.25         9\n",
      "           1       0.45      0.81      0.58        16\n",
      "           2       0.82      0.56      0.67        25\n",
      "           3       1.00      0.40      0.57         5\n",
      "\n",
      "    accuracy                           0.56        55\n",
      "   macro avg       0.64      0.50      0.52        55\n",
      "weighted avg       0.64      0.56      0.56        55\n",
      "\n"
     ]
    }
   ],
   "source": [
    "print(classification_report(y_test, cbc_gpu_optuna.predict(tf_idf_test)))"
   ]
  },
  {
   "cell_type": "code",
   "execution_count": 53,
   "metadata": {},
   "outputs": [
    {
     "data": {
      "image/png": "[encoded data removed]",
      "text/plain": [
       "<Figure size 640x480 with 2 Axes>"
      ]
     },
     "metadata": {},
     "output_type": "display_data"
    }
   ],
   "source": [
    "plot_confusion_matrix(y_test, \\\n",
    "                      cbc_gpu_optuna.predict(tf_idf_test))"
   ]
  },
  {
   "cell_type": "code",
   "execution_count": 54,
   "metadata": {},
   "outputs": [
    {
     "data": {
      "text/html": [
       "<div>\n",
       "<style scoped>\n",
       "    .dataframe tbody tr th:only-of-type {\n",
       "        vertical-align: middle;\n",
       "    }\n",
       "\n",
       "    .dataframe tbody tr th {\n",
       "        vertical-align: top;\n",
       "    }\n",
       "\n",
       "    .dataframe thead th {\n",
       "        text-align: right;\n",
       "    }\n",
       "</style>\n",
       "<table border=\"1\" class=\"dataframe\">\n",
       "  <thead>\n",
       "    <tr style=\"text-align: right;\">\n",
       "      <th></th>\n",
       "      <th>precision</th>\n",
       "      <th>recall</th>\n",
       "      <th>f1_score</th>\n",
       "      <th>accuracy</th>\n",
       "    </tr>\n",
       "  </thead>\n",
       "  <tbody>\n",
       "    <tr>\n",
       "      <th>dummy_model</th>\n",
       "      <td>0.11</td>\n",
       "      <td>0.25</td>\n",
       "      <td>0.16</td>\n",
       "      <td>0.45</td>\n",
       "    </tr>\n",
       "    <tr>\n",
       "      <th>LogisticRegression</th>\n",
       "      <td>0.57</td>\n",
       "      <td>0.47</td>\n",
       "      <td>0.43</td>\n",
       "      <td>0.62</td>\n",
       "    </tr>\n",
       "    <tr>\n",
       "      <th>RandomForesClassifier</th>\n",
       "      <td>0.53</td>\n",
       "      <td>0.41</td>\n",
       "      <td>0.37</td>\n",
       "      <td>0.58</td>\n",
       "    </tr>\n",
       "    <tr>\n",
       "      <th>LightGBM</th>\n",
       "      <td>0.42</td>\n",
       "      <td>0.43</td>\n",
       "      <td>0.41</td>\n",
       "      <td>0.58</td>\n",
       "    </tr>\n",
       "    <tr>\n",
       "      <th>Catboost_baseline</th>\n",
       "      <td>0.72</td>\n",
       "      <td>0.56</td>\n",
       "      <td>0.57</td>\n",
       "      <td>0.69</td>\n",
       "    </tr>\n",
       "    <tr>\n",
       "      <th>Catboost_optuna</th>\n",
       "      <td>0.64</td>\n",
       "      <td>0.50</td>\n",
       "      <td>0.52</td>\n",
       "      <td>0.56</td>\n",
       "    </tr>\n",
       "  </tbody>\n",
       "</table>\n",
       "</div>"
      ],
      "text/plain": [
       "                       precision  recall  f1_score  accuracy\n",
       "dummy_model                 0.11    0.25      0.16      0.45\n",
       "LogisticRegression          0.57    0.47      0.43      0.62\n",
       "RandomForesClassifier       0.53    0.41      0.37      0.58\n",
       "LightGBM                    0.42    0.43      0.41      0.58\n",
       "Catboost_baseline           0.72    0.56      0.57      0.69\n",
       "Catboost_optuna             0.64    0.50      0.52      0.56"
      ]
     },
     "execution_count": 54,
     "metadata": {},
     "output_type": "execute_result"
    }
   ],
   "source": [
    "metrics = get_metrics(y_test, \n",
    "                      cbc_gpu_optuna.predict(tf_idf_test),\n",
    "                      name='Catboost_optuna', metrics=metrics)\n",
    "metrics"
   ]
  },
  {
   "cell_type": "code",
   "execution_count": 55,
   "metadata": {},
   "outputs": [
    {
     "name": "stdout",
     "output_type": "stream",
     "text": [
      "f1_score train: 0.960\n",
      "f1_score test: 0.516\n",
      "delta = 46.2 %\n"
     ]
    }
   ],
   "source": [
    "check_overfitting(cbc_gpu_optuna, \n",
    "                  tf_idf_train, y_train, \n",
    "                  tf_idf_test, y_test, f1_score)"
   ]
  },
  {
   "attachments": {},
   "cell_type": "markdown",
   "metadata": {},
   "source": [
    "## BERT"
   ]
  },
  {
   "cell_type": "code",
   "execution_count": 56,
   "metadata": {},
   "outputs": [],
   "source": [
    "from bert_dataset import CustomDataset\n",
    "from bert_classifier import BertClassifier"
   ]
  },
  {
   "cell_type": "code",
   "execution_count": 57,
   "metadata": {},
   "outputs": [
    {
     "name": "stderr",
     "output_type": "stream",
     "text": [
      "Some weights of the model checkpoint at bert-large-uncased were not used when initializing BertForSequenceClassification: ['cls.predictions.decoder.weight', 'cls.seq_relationship.bias', 'cls.predictions.bias', 'cls.predictions.transform.dense.bias', 'cls.seq_relationship.weight', 'cls.predictions.transform.LayerNorm.weight', 'cls.predictions.transform.LayerNorm.bias', 'cls.predictions.transform.dense.weight']\n",
      "- This IS expected if you are initializing BertForSequenceClassification from the checkpoint of a model trained on another task or with another architecture (e.g. initializing a BertForSequenceClassification model from a BertForPreTraining model).\n",
      "- This IS NOT expected if you are initializing BertForSequenceClassification from the checkpoint of a model that you expect to be exactly identical (initializing a BertForSequenceClassification model from a BertForSequenceClassification model).\n",
      "Some weights of BertForSequenceClassification were not initialized from the model checkpoint at bert-large-uncased and are newly initialized: ['classifier.weight', 'classifier.bias']\n",
      "You should probably TRAIN this model on a down-stream task to be able to use it for predictions and inference.\n"
     ]
    }
   ],
   "source": [
    "classifier = BertClassifier(\n",
    "        model_path='bert-large-uncased',\n",
    "        tokenizer_path='bert-large-uncased',\n",
    "        n_classes=y_train.nunique(),\n",
    "        epochs=2,\n",
    "        model_save_path='content/bert_large.pt'\n",
    ");"
   ]
  },
  {
   "cell_type": "code",
   "execution_count": 58,
   "metadata": {},
   "outputs": [],
   "source": [
    "classifier.preparation(\n",
    "        X_train=list(X_train),\n",
    "        y_train=list(y_train),\n",
    "        X_valid=list(X_test),\n",
    "        y_valid=list(y_test)\n",
    "    )"
   ]
  },
  {
   "cell_type": "code",
   "execution_count": 59,
   "metadata": {},
   "outputs": [],
   "source": [
    "flag = 0\n",
    "if flag:\n",
    "    classifier.train()\n",
    "else:\n",
    "    classifier.model = torch.load('content/bert_large.pt')"
   ]
  },
  {
   "cell_type": "code",
   "execution_count": 72,
   "metadata": {},
   "outputs": [],
   "source": [
    "flag = 0\n",
    "if flag:\n",
    "    y_pred_bert = [classifier.predict(t) for t in X_test]\n",
    "    with open('y_pred_bert.pkl', 'wb') as file:\n",
    "        pickle.dump(y_pred_bert, file)\n",
    "else:\n",
    "    with open('y_pred_bert.pkl', 'rb') as file:\n",
    "        y_pred_bert = pickle.load(file)"
   ]
  },
  {
   "cell_type": "code",
   "execution_count": 73,
   "metadata": {},
   "outputs": [
    {
     "name": "stdout",
     "output_type": "stream",
     "text": [
      "              precision    recall  f1-score   support\n",
      "\n",
      "           0       0.00      0.00      0.00         9\n",
      "           1       0.00      0.00      0.00        16\n",
      "           2       0.45      1.00      0.62        25\n",
      "           3       0.00      0.00      0.00         5\n",
      "\n",
      "    accuracy                           0.45        55\n",
      "   macro avg       0.11      0.25      0.16        55\n",
      "weighted avg       0.21      0.45      0.28        55\n",
      "\n"
     ]
    }
   ],
   "source": [
    "print(classification_report(y_test, y_pred_bert))"
   ]
  },
  {
   "cell_type": "code",
   "execution_count": 74,
   "metadata": {},
   "outputs": [
    {
     "data": {
      "image/png": "[encoded data removed]",
      "text/plain": [
       "<Figure size 640x480 with 2 Axes>"
      ]
     },
     "metadata": {},
     "output_type": "display_data"
    }
   ],
   "source": [
    "plot_confusion_matrix(y_test, y_pred)"
   ]
  },
  {
   "cell_type": "code",
   "execution_count": 76,
   "metadata": {},
   "outputs": [
    {
     "data": {
      "text/html": [
       "<div>\n",
       "<style scoped>\n",
       "    .dataframe tbody tr th:only-of-type {\n",
       "        vertical-align: middle;\n",
       "    }\n",
       "\n",
       "    .dataframe tbody tr th {\n",
       "        vertical-align: top;\n",
       "    }\n",
       "\n",
       "    .dataframe thead th {\n",
       "        text-align: right;\n",
       "    }\n",
       "</style>\n",
       "<table border=\"1\" class=\"dataframe\">\n",
       "  <thead>\n",
       "    <tr style=\"text-align: right;\">\n",
       "      <th></th>\n",
       "      <th>precision</th>\n",
       "      <th>recall</th>\n",
       "      <th>f1_score</th>\n",
       "      <th>accuracy</th>\n",
       "    </tr>\n",
       "  </thead>\n",
       "  <tbody>\n",
       "    <tr>\n",
       "      <th>dummy_model</th>\n",
       "      <td>0.11</td>\n",
       "      <td>0.25</td>\n",
       "      <td>0.16</td>\n",
       "      <td>0.45</td>\n",
       "    </tr>\n",
       "    <tr>\n",
       "      <th>LogisticRegression</th>\n",
       "      <td>0.57</td>\n",
       "      <td>0.47</td>\n",
       "      <td>0.43</td>\n",
       "      <td>0.62</td>\n",
       "    </tr>\n",
       "    <tr>\n",
       "      <th>RandomForesClassifier</th>\n",
       "      <td>0.53</td>\n",
       "      <td>0.41</td>\n",
       "      <td>0.37</td>\n",
       "      <td>0.58</td>\n",
       "    </tr>\n",
       "    <tr>\n",
       "      <th>LightGBM</th>\n",
       "      <td>0.42</td>\n",
       "      <td>0.43</td>\n",
       "      <td>0.41</td>\n",
       "      <td>0.58</td>\n",
       "    </tr>\n",
       "    <tr>\n",
       "      <th>Catboost_baseline</th>\n",
       "      <td>0.72</td>\n",
       "      <td>0.56</td>\n",
       "      <td>0.57</td>\n",
       "      <td>0.69</td>\n",
       "    </tr>\n",
       "    <tr>\n",
       "      <th>Catboost_optuna</th>\n",
       "      <td>0.64</td>\n",
       "      <td>0.50</td>\n",
       "      <td>0.52</td>\n",
       "      <td>0.56</td>\n",
       "    </tr>\n",
       "    <tr>\n",
       "      <th>Bert</th>\n",
       "      <td>0.11</td>\n",
       "      <td>0.25</td>\n",
       "      <td>0.16</td>\n",
       "      <td>0.45</td>\n",
       "    </tr>\n",
       "  </tbody>\n",
       "</table>\n",
       "</div>"
      ],
      "text/plain": [
       "                       precision  recall  f1_score  accuracy\n",
       "dummy_model                 0.11    0.25      0.16      0.45\n",
       "LogisticRegression          0.57    0.47      0.43      0.62\n",
       "RandomForesClassifier       0.53    0.41      0.37      0.58\n",
       "LightGBM                    0.42    0.43      0.41      0.58\n",
       "Catboost_baseline           0.72    0.56      0.57      0.69\n",
       "Catboost_optuna             0.64    0.50      0.52      0.56\n",
       "Bert                        0.11    0.25      0.16      0.45"
      ]
     },
     "execution_count": 76,
     "metadata": {},
     "output_type": "execute_result"
    }
   ],
   "source": [
    "metrics = get_metrics(y_test, y_pred_bert, 'Bert',  metrics=metrics)\n",
    "metrics"
   ]
  },
  {
   "attachments": {},
   "cell_type": "markdown",
   "metadata": {},
   "source": [
    "## Анализ результатов моделирования"
   ]
  },
  {
   "attachments": {},
   "cell_type": "markdown",
   "metadata": {},
   "source": [
    "### Полученные метрики"
   ]
  },
  {
   "cell_type": "code",
   "execution_count": 77,
   "metadata": {},
   "outputs": [
    {
     "data": {
      "text/html": [
       "<div>\n",
       "<style scoped>\n",
       "    .dataframe tbody tr th:only-of-type {\n",
       "        vertical-align: middle;\n",
       "    }\n",
       "\n",
       "    .dataframe tbody tr th {\n",
       "        vertical-align: top;\n",
       "    }\n",
       "\n",
       "    .dataframe thead th {\n",
       "        text-align: right;\n",
       "    }\n",
       "</style>\n",
       "<table border=\"1\" class=\"dataframe\">\n",
       "  <thead>\n",
       "    <tr style=\"text-align: right;\">\n",
       "      <th></th>\n",
       "      <th>precision</th>\n",
       "      <th>recall</th>\n",
       "      <th>f1_score</th>\n",
       "      <th>accuracy</th>\n",
       "    </tr>\n",
       "  </thead>\n",
       "  <tbody>\n",
       "    <tr>\n",
       "      <th>Catboost_baseline</th>\n",
       "      <td>0.72</td>\n",
       "      <td>0.56</td>\n",
       "      <td>0.57</td>\n",
       "      <td>0.69</td>\n",
       "    </tr>\n",
       "    <tr>\n",
       "      <th>Catboost_optuna</th>\n",
       "      <td>0.64</td>\n",
       "      <td>0.50</td>\n",
       "      <td>0.52</td>\n",
       "      <td>0.56</td>\n",
       "    </tr>\n",
       "    <tr>\n",
       "      <th>LogisticRegression</th>\n",
       "      <td>0.57</td>\n",
       "      <td>0.47</td>\n",
       "      <td>0.43</td>\n",
       "      <td>0.62</td>\n",
       "    </tr>\n",
       "    <tr>\n",
       "      <th>LightGBM</th>\n",
       "      <td>0.42</td>\n",
       "      <td>0.43</td>\n",
       "      <td>0.41</td>\n",
       "      <td>0.58</td>\n",
       "    </tr>\n",
       "    <tr>\n",
       "      <th>RandomForesClassifier</th>\n",
       "      <td>0.53</td>\n",
       "      <td>0.41</td>\n",
       "      <td>0.37</td>\n",
       "      <td>0.58</td>\n",
       "    </tr>\n",
       "    <tr>\n",
       "      <th>dummy_model</th>\n",
       "      <td>0.11</td>\n",
       "      <td>0.25</td>\n",
       "      <td>0.16</td>\n",
       "      <td>0.45</td>\n",
       "    </tr>\n",
       "    <tr>\n",
       "      <th>Bert</th>\n",
       "      <td>0.11</td>\n",
       "      <td>0.25</td>\n",
       "      <td>0.16</td>\n",
       "      <td>0.45</td>\n",
       "    </tr>\n",
       "  </tbody>\n",
       "</table>\n",
       "</div>"
      ],
      "text/plain": [
       "                       precision  recall  f1_score  accuracy\n",
       "Catboost_baseline           0.72    0.56      0.57      0.69\n",
       "Catboost_optuna             0.64    0.50      0.52      0.56\n",
       "LogisticRegression          0.57    0.47      0.43      0.62\n",
       "LightGBM                    0.42    0.43      0.41      0.58\n",
       "RandomForesClassifier       0.53    0.41      0.37      0.58\n",
       "dummy_model                 0.11    0.25      0.16      0.45\n",
       "Bert                        0.11    0.25      0.16      0.45"
      ]
     },
     "execution_count": 77,
     "metadata": {},
     "output_type": "execute_result"
    }
   ],
   "source": [
    "metrics.sort_values(by='f1_score', ascending=False)"
   ]
  },
  {
   "attachments": {},
   "cell_type": "markdown",
   "metadata": {},
   "source": [
    "### Матрицы ошибок"
   ]
  },
  {
   "cell_type": "code",
   "execution_count": 94,
   "metadata": {},
   "outputs": [
    {
     "data": {
      "text/plain": [
       "10_Cloverfield_lane(2016)                                          1\n",
       "10_things_I_hate_about_you(1999)                                   1\n",
       "A_knights_tale(2001)                                               2\n",
       "A_star_is_born(2018)                                               2\n",
       "Aladdin(1992)                                                      0\n",
       "                                                                  ..\n",
       "We_are_the_Millers(2013)                                           1\n",
       "While_You_Were_Sleeping(1995)                                      1\n",
       "Zootopia(2016)                                                     2\n",
       "mechanic-resurrection_                                             1\n",
       "z srt23 uk-bun Gullivers.Travels.1939.720p.BluRay.x264-CiNEFiLE    2\n",
       "Name: level, Length: 217, dtype: int64"
      ]
     },
     "execution_count": 94,
     "metadata": {},
     "output_type": "execute_result"
    }
   ],
   "source": []
  },
  {
   "cell_type": "code",
   "execution_count": 97,
   "metadata": {},
   "outputs": [
    {
     "data": {
      "image/png": "[encoded data removed]",
      "text/plain": [
       "<Figure size 1500x1500 with 14 Axes>"
      ]
     },
     "metadata": {},
     "output_type": "display_data"
    }
   ],
   "source": [
    "models = {'dummy_model': 'dummy_model', \n",
    "          'Logistic Regression': grid_lr.best_estimator_,\n",
    "           'RandomForestClassifier' : grid_rfc.best_estimator_,\n",
    "             'LightGBM': grid_lgb.best_estimator_, \n",
    "             'CatboostClassifier Baseline': cbc_gpu_baseline, \n",
    "             'CatboostClassifier Optuna': cbc_gpu_optuna, \n",
    "             'Bert': classifier}\n",
    "n_cols = 3\n",
    "n_rows = len(models) // n_cols  + 1\n",
    "counter = 1\n",
    "f= plt.figure(figsize=(15,5 * n_rows))\n",
    "f.suptitle('Матрицы ошибок для проверенных моделей', fontsize=20)\n",
    "for key, value in models.items():\n",
    "    ax = plt.subplot(n_rows, n_cols, counter)\n",
    "    if key == 'dummy_model':\n",
    "        ConfusionMatrixDisplay(confusion_matrix(y_test,\n",
    "                                                 2 * np.ones(len(y_test))),\n",
    "                                                 display_labels=english_levels).plot(ax=ax)\n",
    "    elif key=='Bert':\n",
    "        ConfusionMatrixDisplay(confusion_matrix(y_test,\n",
    "                                                 y_pred_bert),\n",
    "                                                 display_labels=english_levels).plot(ax=ax)\n",
    "    else:\n",
    "        ConfusionMatrixDisplay(confusion_matrix(y_test, \n",
    "                                                value.predict(tf_idf_test)),\n",
    "                                                 display_labels=english_levels).plot(ax=ax)\n",
    "    plt.title(key, fontsize=16)\n",
    "    plt.xlabel('')\n",
    "    counter += 1 "
   ]
  },
  {
   "attachments": {},
   "cell_type": "markdown",
   "metadata": {},
   "source": [
    "### Проверка на overfitting"
   ]
  },
  {
   "cell_type": "code",
   "execution_count": 80,
   "metadata": {},
   "outputs": [
    {
     "data": {
      "text/html": [
       "<div>\n",
       "<style scoped>\n",
       "    .dataframe tbody tr th:only-of-type {\n",
       "        vertical-align: middle;\n",
       "    }\n",
       "\n",
       "    .dataframe tbody tr th {\n",
       "        vertical-align: top;\n",
       "    }\n",
       "\n",
       "    .dataframe thead th {\n",
       "        text-align: right;\n",
       "    }\n",
       "</style>\n",
       "<table border=\"1\" class=\"dataframe\">\n",
       "  <thead>\n",
       "    <tr style=\"text-align: right;\">\n",
       "      <th></th>\n",
       "      <th>overfitting</th>\n",
       "    </tr>\n",
       "  </thead>\n",
       "  <tbody>\n",
       "    <tr>\n",
       "      <th>RandomForestClassifier</th>\n",
       "      <td>62.45</td>\n",
       "    </tr>\n",
       "    <tr>\n",
       "      <th>LightGBM</th>\n",
       "      <td>58.86</td>\n",
       "    </tr>\n",
       "    <tr>\n",
       "      <th>Logistic Regression</th>\n",
       "      <td>54.02</td>\n",
       "    </tr>\n",
       "    <tr>\n",
       "      <th>CatboostClassifier Optuna</th>\n",
       "      <td>46.20</td>\n",
       "    </tr>\n",
       "    <tr>\n",
       "      <th>CatboostClassifier Baseline</th>\n",
       "      <td>42.90</td>\n",
       "    </tr>\n",
       "  </tbody>\n",
       "</table>\n",
       "</div>"
      ],
      "text/plain": [
       "                             overfitting\n",
       "RandomForestClassifier             62.45\n",
       "LightGBM                           58.86\n",
       "Logistic Regression                54.02\n",
       "CatboostClassifier Optuna          46.20\n",
       "CatboostClassifier Baseline        42.90"
      ]
     },
     "execution_count": 80,
     "metadata": {},
     "output_type": "execute_result"
    }
   ],
   "source": [
    "models = {'Logistic Regression': grid_lr.best_estimator_,\n",
    "           'RandomForestClassifier' : grid_rfc.best_estimator_,\n",
    "             'LightGBM': grid_lgb.best_estimator_, \n",
    "             'CatboostClassifier Baseline': cbc_gpu_baseline, \n",
    "             'CatboostClassifier Optuna': cbc_gpu_optuna}\n",
    "overfitting = {}\n",
    "for model_name, model in models.items():\n",
    "    overfitting[model_name] = check_overfitting(model, tf_idf_train, y_train,\n",
    "                                                 tf_idf_test, y_test, \n",
    "                                                 f1_score, return_delta=True)\n",
    "overfitting = pd.DataFrame(data=overfitting.values(), \n",
    "                           index=overfitting.keys(), columns=['overfitting'])\n",
    "overfitting.sort_values(by='overfitting', ascending=False)"
   ]
  },
  {
   "attachments": {},
   "cell_type": "markdown",
   "metadata": {},
   "source": [
    "### Вывод по анализу примененных моделей"
   ]
  },
  {
   "attachments": {},
   "cell_type": "markdown",
   "metadata": {},
   "source": [
    "1. Лучшей моделью оказался `CatboostClassifier` без дополнительной настройки гиперпараметров. Удалось достичь показателей на тестовой выборке\n",
    "<br>$$ accuracy = 0.69, f1\\_score=0.57 $$\n",
    "2. Также весьма хорошие результаты показала `Logistic Regression`. Не совершив ни одной ошибки сильнее, чем на 1 уровень знания языка.\n",
    "3. Сложнее всего моделям давалось определение фильмов уровня `A1/A1+`. Так как в датасете таких было меньше всего. Присутствовал дисбаланс классов.\n",
    "4. Объем данных (размеченных субтитров) недостаточен. Из-за этого модели сильно переобучались. \n",
    "5. Нейросеть `Bert` (вероятно из-за недостаточного объема данных) предсказала наиболее популярных класс для всех тестовых данных - аналогично `dummy-model`"
   ]
  },
  {
   "cell_type": "code",
   "execution_count": null,
   "metadata": {},
   "outputs": [],
   "source": []
  }
 ],
 "metadata": {
  "kernelspec": {
   "display_name": "base",
   "language": "python",
   "name": "python3"
  },
  "language_info": {
   "codemirror_mode": {
    "name": "ipython",
    "version": 3
   },
   "file_extension": ".py",
   "mimetype": "text/x-python",
   "name": "python",
   "nbconvert_exporter": "python",
   "pygments_lexer": "ipython3",
   "version": "3.9.6"
  },
  "orig_nbformat": 4
 },
 "nbformat": 4,
 "nbformat_minor": 2
}
